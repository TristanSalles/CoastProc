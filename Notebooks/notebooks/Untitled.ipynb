{
 "cells": [
  {
   "cell_type": "code",
   "execution_count": null,
   "metadata": {},
   "outputs": [],
   "source": []
  },
  {
   "cell_type": "code",
   "execution_count": null,
   "metadata": {},
   "outputs": [],
   "source": [
    "\"\"\"\n",
    "Assessing Stockdon et al (2006) runup model\n",
    "===========================================\n",
    "In this example, we will evaluate the accuracy of the Stockdon et al (2006) runup\n",
    "model. To do this, we will use the compiled wave runup observations provided by Power\n",
    "et al (2018).\n",
    "The Stockdon et al (2006) wave runup model comprises of two relationships, one for\n",
    "dissipative beaches (i.e. :math:`\\\\zeta < 0.3`) Eqn (18):\n",
    ".. math:: R_{2} = 0.043(H_{s}L_{p})^{0.5}\n",
    "and a seperate relationship for intermediate and reflective beaches (i.e.\n",
    ":math:`\\\\zeta > 0.3`):\n",
    ".. math::\n",
    "    R_{2} = 1.1 \\\\left( 0.35 \\\\beta (H_{s}L_{p})^{0.5} + \\\\frac{H_{s}L_{p}(\n",
    "    0.563 \\\\beta^{2} +0.004)^{0.5}}{2} \\\\right)\n",
    "First, let's import our required packages:\n",
    "\"\"\"\n",
    "\n",
    "#############################################\n",
    "import matplotlib.pyplot as plt\n",
    "import numpy as np\n",
    "from sklearn.metrics import mean_squared_error, r2_score\n",
    "\n",
    "import py_wave_runup\n",
    "\n",
    "#############################################\n",
    "# Let's import the Power et al (2018) runup data, which is included in this\n",
    "# package.\n",
    "\n",
    "df = py_wave_runup.datasets.load_power18()\n",
    "print(df.head())\n",
    "\n",
    "#############################################\n",
    "# We can see that this dataset gives us :math:`H_{s}` (significant wave height),\n",
    "# :math:`T_{p}` (peak wave period), :math:`\\tan \\beta` (beach slope). Let's import\n",
    "# the Stockdon runup model and calculate the estimated :math:`R_{2}` runup value for\n",
    "# each row in this dataset.\n",
    "\n",
    "# Initalize the Stockdon 2006 model with values from the dataset\n",
    "sto06 = py_wave_runup.models.Stockdon2006(Hs=df.hs, Tp=df.tp, beta=df.beta)\n",
    "\n",
    "# Append a new column at the end of our dataset with Stockdon 2006 R2 estimations\n",
    "df[\"sto06_r2\"] = sto06.R2\n",
    "\n",
    "# Check the first few rows of observed vs. modelled R2\n",
    "print(df[[\"r2\", \"sto06_r2\"]].head())\n",
    "\n",
    "#############################################\n",
    "# Now let's create a plot of observed R2 values vs. predicted R2 values:\n",
    "\n",
    "# Plot data\n",
    "fig, ax1 = plt.subplots(1, 1, figsize=(4, 4), dpi=300)\n",
    "ax1.plot(df.r2, df.sto06_r2, \"b.\", markersize=2, linewidth=0.5)\n",
    "\n",
    "# Add 1:1 line to indicate perfect fit\n",
    "ax1.plot([0, 12], [0, 12], \"k-\")\n",
    "\n",
    "# Add axis labels\n",
    "ax1.set_xlabel(\"Observed R2 (m)\")\n",
    "ax1.set_ylabel(\"Modelled R2 (m)\")\n",
    "ax1.set_title(\"Stockdon et al. (2006) Runup Model\")\n",
    "\n",
    "plt.tight_layout()\n",
    "\n",
    "#############################################\n",
    "# We can see there is a fair amount of scatter, especially as we get larger wave\n",
    "# runup heights. This indicates that the model might not be working as well as we\n",
    "# might have hoped.\n",
    "#\n",
    "# Let's also check RMSE and coefficient of determination values:\n",
    "\n",
    "print(\"R2 Score:\",r2_score(df.r2, df.sto06_r2))\n",
    "print(\"RMSE:\",np.sqrt(mean_squared_error(df.r2, df.sto06_r2)),\" m\")"
   ]
  },
  {
   "cell_type": "code",
   "execution_count": null,
   "metadata": {},
   "outputs": [],
   "source": [
    "from py_wave_runup import datasets"
   ]
  },
  {
   "cell_type": "code",
   "execution_count": null,
   "metadata": {},
   "outputs": [],
   "source": [
    "!pip3 install py-wave-runup"
   ]
  },
  {
   "cell_type": "code",
   "execution_count": null,
   "metadata": {},
   "outputs": [],
   "source": []
  }
 ],
 "metadata": {
  "kernelspec": {
   "display_name": "Python 3",
   "language": "python",
   "name": "python3"
  },
  "language_info": {
   "codemirror_mode": {
    "name": "ipython",
    "version": 3
   },
   "file_extension": ".py",
   "mimetype": "text/x-python",
   "name": "python",
   "nbconvert_exporter": "python",
   "pygments_lexer": "ipython3",
   "version": "3.5.3"
  }
 },
 "nbformat": 4,
 "nbformat_minor": 4
}
