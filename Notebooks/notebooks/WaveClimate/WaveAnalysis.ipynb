{
 "cells": [
  {
   "cell_type": "markdown",
   "metadata": {},
   "source": [
    "# Wave Analysis using Altimeter data\n",
    "\n",
    "\n",
    "Here we will illustrate how to extract wave conditions based on altimeter data for a specific geographical region. \n",
    "\n",
    "We will be querying data already downloaded from the obtained from Australian Ocean Data Network portal [AODN](https://portal.aodn.org.au/). \n",
    "\n",
    "> You should look at **RADWave** [documentation](https://radwave.readthedocs.io/en/latest/usage.html#getting-altimeter-values-from-data-providers) and the embeded video that explain how to select both a spatial bounding box and a temporal extent from the portal and how to export the file containing the `List of URLs`. This `TXT` file contains a list of `NETCDF` files for each available satellites. "
   ]
  },
  {
   "cell_type": "code",
   "execution_count": 1,
   "metadata": {},
   "outputs": [
    {
     "data": {
      "text/html": [
       "\n",
       "        <iframe\n",
       "            width=\"900\"\n",
       "            height=\"600\"\n",
       "            src=\"https://bit.ly/2ROFoLY\"\n",
       "            frameborder=\"0\"\n",
       "            allowfullscreen\n",
       "        ></iframe>\n",
       "        "
      ],
      "text/plain": [
       "<IPython.lib.display.IFrame at 0x7fe8ac482668>"
      ]
     },
     "execution_count": 1,
     "metadata": {},
     "output_type": "execute_result"
    }
   ],
   "source": [
    "from IPython.display import IFrame\n",
    "IFrame(src='https://bit.ly/2ROFoLY', width=900, height=600)"
   ]
  },
  {
   "cell_type": "markdown",
   "metadata": {},
   "source": [
    "## Loading RADWave library and initialisation\n",
    "\n",
    "We first start by importing **RADwave** library into our working space."
   ]
  },
  {
   "cell_type": "code",
   "execution_count": null,
   "metadata": {},
   "outputs": [],
   "source": [
    "import RADWave as rwave\n",
    "\n",
    "%matplotlib inline\n",
    "%config InlineBackend.figure_format = 'svg'"
   ]
  },
  {
   "cell_type": "markdown",
   "metadata": {},
   "source": [
    "Once the list of `NETCDF` data file has been saved on disk, you will be able to load it by initialising **RADWave** main Python class called `waveAnalysis`.\n",
    "\n",
    "For a detail overview of the options available in this class, you can have a look at the [waveAnalysis API](https://radwave.readthedocs.io/en/latest/RADWave.html#RADWave.altiwave.waveAnalysis).\n",
    "\n",
    "Here, we will use the following parameters:\n",
    "\n",
    "+ `altimeterURL` (str): list of NetCDF URLs downloaded from the wave data portal containing the radar altimeter data ['../dataset/IMOSURLs.txt']\n",
    "+ `bbox` (list): bounding box specifying the geographical extent of the uploaded dataset following the convention [lon min,lon max,lat min,lat max]  [here we use a region located offshore sydney]\n",
    "+ `stime` (list):  starting time of wave climate analysis following the convention [year, month, day] [we chose the 1st of January 1985]\n",
    "+ `etime` (list): ending time of wave climate analysis following the convention [year, month, day] [we chose the 31st of December 2018]\n",
    "\n",
    "For this example, we don't specify a list of particular satellites to use (`satNames` keyword) so all of them will be queried. In other words we will look at all the records from the 10 altimeters: \n",
    "\n",
    "JASON-2 - JASON-3 - SARAL - SENTINEL-3A - CRYOSAT-2 - ENVISAT - GEOSAT - ERS-2 - GFO - TOPEX."
   ]
  },
  {
   "cell_type": "code",
   "execution_count": null,
   "metadata": {},
   "outputs": [],
   "source": [
    "wa = rwave.waveAnalysis(altimeterURL='../dataset/IMOSURLs.txt', bbox=[152.0,155.0,-36.0,-34.0], \n",
    "                  stime=[1985,1,1], etime=[2018,12,31])"
   ]
  },
  {
   "cell_type": "markdown",
   "metadata": {},
   "source": [
    "# Processing altimeters data\n",
    "\n",
    "After class initialisation querying the actual dataset is realised by calling the `processingAltimeterData` function. The description of this function is available from the [API](https://radwave.readthedocs.io/en/latest/RADWave.html#RADWave.altiwave.waveAnalysis.processingAltimeterData).\n",
    "\n",
    "The function can take some times to execute depending on the number of NETCDF files to load and the size of the dataset to query (here it should not take more than **30 s**).\n",
    "\n",
    "> **RADWave** uses the uploaded file containing the list of URLs to query via `THREDDS` the remote data. This operation can take *several minutes* and when looking at a large region it is recommended to divide the analyse in smaller regions and download a series of URLs text file instead of the entire domain directly."
   ]
  },
  {
   "cell_type": "code",
   "execution_count": null,
   "metadata": {},
   "outputs": [],
   "source": [
    "wa.processingAltimeterData(altimeter_pick='all', saveCSV = 'altimeterData.csv')"
   ]
  },
  {
   "cell_type": "markdown",
   "metadata": {},
   "source": [
    "In case where the `processingAltimeterData` function has already been executed, one can load directly the processed data from the created `CSV` file in a more efficient way by running the `readingAltimeterData` function as follow:"
   ]
  },
  {
   "cell_type": "code",
   "execution_count": null,
   "metadata": {},
   "outputs": [],
   "source": [
    "wa.readingAltimeterData(saveCSV = 'altimeterData.csv')"
   ]
  },
  {
   "cell_type": "markdown",
   "metadata": {},
   "source": [
    "Once the dataset has been queried, we can plot the altimeter data points on a map using the `visualiseData` function.\n",
    "\n",
    "This function **plots** and **saves** in a figure the geographical coordinates of processed altimeter data."
   ]
  },
  {
   "cell_type": "code",
   "execution_count": null,
   "metadata": {},
   "outputs": [],
   "source": [
    "wa.visualiseData(title=\"Altimeter data tracks\", extent=[149.,158.,-38.,-32.], \n",
    "                 addcity=['Sydney', 151.2093, -33.8688], markersize=40, zoom=8,\n",
    "                 fsize=(8, 7), fsave='altimeterdata')"
   ]
  },
  {
   "cell_type": "markdown",
   "metadata": {},
   "source": [
    "# Computing wave regime for specified location\n",
    "\n",
    "\n",
    "To perform wave analysis and compute the wave parameters discussed in the [documentation](https://radwave.readthedocs.io/en/latest/method.html#), we run the `timeSeries` function.\n",
    "\n",
    "This function computes time series of wave characteristics from available altimeter data namely the significant wave height and the wind speed.\n",
    "\n",
    "It computes both **instantaneous** and **monthly** wave variables:\n",
    "\n",
    "+ significant wave height (m) - wh & wh_rolling\n",
    "+ wave period (s)  - period & period_rolling\n",
    "+ wave energy flux (kW/m)  - power & power_rolling\n",
    "+ wave average energy density (J/m2)  - energy & energy_rolling\n",
    "+ wave group velocity (m/s)  - speed & speed_rolling"
   ]
  },
  {
   "cell_type": "code",
   "execution_count": null,
   "metadata": {},
   "outputs": [],
   "source": [
    "wa.timeSeries()"
   ]
  },
  {
   "cell_type": "markdown",
   "metadata": {},
   "source": [
    "The class `waveAnalysis` stores a Pandas dataframe (called `timeseries`) of computed wave parameters that can be subsequently used to perform additional analysis.\n",
    "\n",
    "To visualise this dataframe, one can do:"
   ]
  },
  {
   "cell_type": "code",
   "execution_count": null,
   "metadata": {},
   "outputs": [],
   "source": [
    "display(wa.timeseries)"
   ]
  },
  {
   "cell_type": "markdown",
   "metadata": {},
   "source": [
    "and to list the header names:"
   ]
  },
  {
   "cell_type": "code",
   "execution_count": null,
   "metadata": {},
   "outputs": [],
   "source": [
    "list(wa.timeseries)"
   ]
  },
  {
   "cell_type": "markdown",
   "metadata": {},
   "source": [
    "## Plotting time series\n",
    "\n",
    "We can now plot time series of **RADWave** calculated wave parameters. This is done by calling the `plotTimeSeries` function. \n",
    "\n",
    "Amongst the available option one can choose to (complete list of options is available in the [API](https://radwave.readthedocs.io/en/latest/RADWave.html#RADWave.altiwave.waveAnalysis.plotTimeSeries) :\n",
    "+ specify a specific temporal extent with the keyword `time` that provide the extent of years for the time series.\n",
    "+ define the wave parameter to visualise using the keyword `series` that takes the following choices: 'H', 'T', 'P', 'E' and 'Cg'. \n",
    "            \n",
    "In addition to the time series, the function provides additional information:  \n",
    " \n",
    "+ Maximum parameter value\n",
    "+ Mean parameter value\n",
    "+ Median parameter value\n",
    "+ 95th percentile parameter value"
   ]
  },
  {
   "cell_type": "code",
   "execution_count": null,
   "metadata": {
    "scrolled": false
   },
   "outputs": [],
   "source": [
    "# Significant wave height\n",
    "wa.plotTimeSeries(series='H', fsize=(12, 5), fsave='seriesH')\n",
    "\n",
    "# Wave period\n",
    "wa.plotTimeSeries(time=[1995,2016], series='T', fsize=(10, 5), fsave=None)\n",
    "\n",
    "# Wave power\n",
    "wa.plotTimeSeries(time=[1995,2016], series='P', fsize=(10, 5), fsave=None)\n",
    "\n",
    "# Wave energy\n",
    "wa.plotTimeSeries(time=[1995,2016], series='E', fsize=(10, 5), fsave=None)\n",
    "\n",
    "# Wave group velocity\n",
    "wa.plotTimeSeries(time=[1995,2016], series='Cg', fsize=(10, 5), fsave=None)"
   ]
  },
  {
   "cell_type": "markdown",
   "metadata": {},
   "source": [
    "# Processing wave seasonability trends \n",
    "\n",
    "In addition to time series, one can analyse the seasonal characteristics of each parameter computed from the altimeter dataset. \n",
    "\n",
    "For a specified time interval and geographical extent, it computes the monthly seasonality of specific wave variables (the option in the `series` keyword are: wh, period, power, energy and speed). \n",
    "\n",
    "Obtained monthly averaged values are stored and returned with a `Pandas` dataframe. \n",
    "\n",
    "> User has the option to plot the computed wave paraneter characteristics as a heatmap, a box plot and a standard deviation graph.\n",
    "\n",
    "For the wave height series, a **Seasonal Mann-Kendall** test is also performed to determine monotonic trends in computed dataset using the package from Hussain & Mahmud (2019).\n",
    "\n",
    "Hussain & Mahmud, 2019: pyMannKendall: a python package for non parametric Mann Kendall family of trend tests - JOSS, 4(39), 1556.\n",
    "\n",
    "A full explanation on the available options for the `seriesSeasonMonth` function is provided in the [API](https://radwave.readthedocs.io/en/latest/RADWave.html#RADWave.altiwave.waveAnalysis.seriesSeasonMonth)."
   ]
  },
  {
   "cell_type": "code",
   "execution_count": null,
   "metadata": {
    "scrolled": false
   },
   "outputs": [],
   "source": [
    "wh_all = wa.seriesSeasonMonth(series='wh', time=[1998,2018], lonlat=None, fsave='whall', plot=True)"
   ]
  },
  {
   "cell_type": "markdown",
   "metadata": {},
   "source": [
    "As mentionned above, the function `seriesSeasonMonth` returns a **Pandas dataframe** containing the mean monthly values of specified wave series for the considered time interval.\n",
    "\n",
    "These information can be displayed with: "
   ]
  },
  {
   "cell_type": "code",
   "execution_count": null,
   "metadata": {},
   "outputs": [],
   "source": [
    "display(wh_all)"
   ]
  },
  {
   "cell_type": "markdown",
   "metadata": {},
   "source": [
    "Below we provide an example of how this function can be used to process seasonability for different geographical extents."
   ]
  },
  {
   "cell_type": "code",
   "execution_count": null,
   "metadata": {},
   "outputs": [],
   "source": [
    "# First we create a dictionary of 1 by 1 degree tiles within our regional area of interest\n",
    "tiles = []\n",
    "tiles.append([152.0,153.0,-36.0,-35.0])\n",
    "tiles.append([153.0,154.0,-36.0,-35.0])\n",
    "tiles.append([152.0,153.0,-35.0,-34.0])\n",
    "tiles.append([153.0,154.0,-35.0,-34.0])\n",
    "\n",
    "# We also store the geographical locations of the center of each tile \n",
    "lonlat = []\n",
    "lonlat.append([152.5,-35.5])\n",
    "lonlat.append([153.5,-35.5])\n",
    "lonlat.append([152.5,-34.5])\n",
    "lonlat.append([153.5,-34.5])\n",
    "\n",
    "\n",
    "# And we define a new dictionary that will be filled with regional wave seasonability\n",
    "seasons = []\n",
    "\n",
    "# Finally we loop over the defined tiles and perform seasonability analysis for significant wave height\n",
    "for k in range(4):\n",
    "    seasons.append(wa.seriesSeasonMonth(series='wh', time=[1998,2018], \n",
    "                                        lonlat=tiles[k], plot=False))"
   ]
  },
  {
   "cell_type": "markdown",
   "metadata": {},
   "source": [
    "This can then be used to plot the annual mean values of significant wave height for each tile over the temporal range of interest... "
   ]
  },
  {
   "cell_type": "code",
   "execution_count": null,
   "metadata": {},
   "outputs": [],
   "source": [
    "import matplotlib.pyplot as plt\n",
    "import matplotlib.ticker as mticker\n",
    "from matplotlib.transforms import offset_copy\n",
    "from mpl_toolkits.axes_grid1 import make_axes_locatable\n",
    "from pandas.plotting import register_matplotlib_converters\n",
    "register_matplotlib_converters()\n",
    "\n",
    "plt.rcParams['mathtext.fontset'] = 'cm'\n",
    "\n",
    "fig, ax = plt.subplots(figsize = (8,4))\n",
    "\n",
    "for k in range(4):\n",
    "    yearwh = seasons[k]['mean']\n",
    "    yearwh.plot(marker='o', linestyle='dashed', linewidth=2, markersize=8)\n",
    "    \n",
    "ax.set_title('Annual value for each tile',fontsize = 12)\n",
    "ax.set_ylabel(\"Hs (m)\",fontsize = 12)\n",
    "ax.set_xlabel('Years',fontsize = 11)\n",
    "ax.legend([lonlat[0],lonlat[1],lonlat[2],lonlat[3]])\n",
    "ax.yaxis.set_tick_params(labelsize=10)\n",
    "ax.xaxis.set_tick_params(labelsize=10, rotation=45)\n",
    "plt.tight_layout()\n",
    "plt.show()"
   ]
  },
  {
   "cell_type": "code",
   "execution_count": null,
   "metadata": {},
   "outputs": [],
   "source": []
  }
 ],
 "metadata": {
  "kernelspec": {
   "display_name": "Python 3",
   "language": "python",
   "name": "python3"
  },
  "language_info": {
   "codemirror_mode": {
    "name": "ipython",
    "version": 3
   },
   "file_extension": ".py",
   "mimetype": "text/x-python",
   "name": "python",
   "nbconvert_exporter": "python",
   "pygments_lexer": "ipython3",
   "version": "3.5.3"
  }
 },
 "nbformat": 4,
 "nbformat_minor": 2
}
