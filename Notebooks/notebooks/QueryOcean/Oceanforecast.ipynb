{
 "cells": [
  {
   "cell_type": "markdown",
   "metadata": {},
   "source": [
    "# Access data from Forecast Model\n",
    "\n",
    "Using the NetCDF4-Python library you will access velocity data from a triangular grid ocean model (FVCOM) via OPeNDAP, specifying the desired URL, time, layer and lat/lon region of interest. The resulting plot of forecast velocity vectors over color-shaded bathymetry is useful for a variety of recreational and scientific purposes.\n",
    "\n",
    "# Inline output\n",
    "\n",
    "The following code helps make all of the code samples in this notebook display their output properly. \n",
    "\n",
    "Note that you need to run this cell before running any other cell in the notebook. Otherwise your output will display in a separate window, or it won't display at all. If you try to run a cell and the output does not display in the notebook:\n",
    "- Restart the IPython Notebook kernel.\n",
    "- Run the following cell.\n",
    "- Run the cell you were interested in again."
   ]
  },
  {
   "cell_type": "code",
   "execution_count": null,
   "metadata": {},
   "outputs": [],
   "source": []
  },
  {
   "cell_type": "code",
   "execution_count": null,
   "metadata": {},
   "outputs": [],
   "source": [
    "%matplotlib inline\n",
    "import numpy as np\n",
    "import matplotlib.tri as Tri\n",
    "import matplotlib.pyplot as plt\n",
    "import netCDF4\n",
    "import datetime as dt\n",
    "import pandas as pd\n",
    "from io import StringIO"
   ]
  },
  {
   "cell_type": "markdown",
   "metadata": {},
   "source": [
    "#  Forecast model from NECOFS\n",
    "\n",
    "<a href='http://fvcom.smast.umassd.edu/necofs/'>NECOFS</a> (Northeastern Coastal Ocean Forecast System) is run by groups at the University of Massachusetts Dartmouth and the Woods Hole Oceanographic Institution, NOAA-led Integrated Ocean Observing System.\n",
    "\n",
    "NECOFS is a coupled numerical model that uses nested weather models, a coastal ocean circulation model, and a wave model. The ocean model is a volume-mesh model with horizontal resolution that is finer in complicated regions. It is layered (not depth-averaged) and includes the effects of tides, winds, and varying water densities caused by temperature and salinity changes.\n",
    "\n",
    "* Model description: <a href=\"http://fvcom.smast.umassd.edu/research_projects/NECOFS/model_system.html\">FVCOM</a>\n",
    "* THREDDS server with other forecast and archive products: <a href=\"http://www.smast.umassd.edu:8080/thredds/catalog.html\">Product</a>\n",
    "\n",
    "## Loading the model dataset\n",
    "\n",
    "First we load the netCDF dataset containing FVCOM forecasts via OPeNDAP"
   ]
  },
  {
   "cell_type": "code",
   "execution_count": null,
   "metadata": {},
   "outputs": [],
   "source": [
    "# Set the URL\n",
    "url = 'http://www.smast.umassd.edu:8080/thredds/dodsC/FVCOM/NECOFS/Forecasts/NECOFS_FVCOM_OCEAN_MASSBAY_FORECAST.nc'\n",
    "# Load it via OPeNDAP\n",
    "nc = netCDF4.Dataset(url)\n",
    "# Query the variables\n",
    "nc.variables.keys()"
   ]
  },
  {
   "cell_type": "markdown",
   "metadata": {},
   "source": [
    "## Query dataset variables"
   ]
  },
  {
   "cell_type": "code",
   "execution_count": null,
   "metadata": {},
   "outputs": [],
   "source": [
    "# Take a look at the \"metadata\" for one of the variables (ex: I used \"u\" here)\n",
    "print(nc.variables['u'])"
   ]
  },
  {
   "cell_type": "markdown",
   "metadata": {},
   "source": [
    "## Set FVCOM simulation time\n",
    "\n",
    "In case you want to look at a previous forecast you can set the desired time."
   ]
  },
  {
   "cell_type": "code",
   "execution_count": null,
   "metadata": {},
   "outputs": [],
   "source": [
    "# Desired time for snapshot\n",
    "# ....right now (or some number of hours from now) ...\n",
    "start = dt.datetime.utcnow() + dt.timedelta(hours=0)\n",
    "# ... or specific time (UTC)\n",
    "#start = dt.datetime(2013,3,2,15,0,0)"
   ]
  },
  {
   "cell_type": "code",
   "execution_count": null,
   "metadata": {},
   "outputs": [],
   "source": [
    "# Get desired time step  \n",
    "time_var = nc.variables['time']\n",
    "itime = netCDF4.date2index(start,time_var,select='nearest') \n",
    "print(itime, start)"
   ]
  },
  {
   "cell_type": "markdown",
   "metadata": {},
   "source": [
    "For this example we will use the current time:"
   ]
  },
  {
   "cell_type": "code",
   "execution_count": null,
   "metadata": {},
   "outputs": [],
   "source": [
    "dtime = netCDF4.num2date(time_var[itime],time_var.units)\n",
    "daystr = dtime.strftime('%Y-%b-%d %H:%M')\n",
    "print(daystr)"
   ]
  },
  {
   "cell_type": "markdown",
   "metadata": {},
   "source": [
    "# Get specific data from FVCOM outputs\n",
    "\n",
    "Now we grab from the dataset the grid coordinates and depth, *i.e.* nodes & cells."
   ]
  },
  {
   "cell_type": "code",
   "execution_count": null,
   "metadata": {},
   "outputs": [],
   "source": [
    "# Get lon,lat coordinates for nodes (depth)\n",
    "lat = nc.variables['lat'][:]\n",
    "lon = nc.variables['lon'][:]\n",
    "# Get lon,lat coordinates for cell centers (depth)\n",
    "latc = nc.variables['latc'][:]\n",
    "lonc = nc.variables['lonc'][:]\n",
    "# Get Connectivity array\n",
    "nv = nc.variables['nv'][:].T - 1 \n",
    "# Get depth\n",
    "h = nc.variables['h'][:]  # depth"
   ]
  },
  {
   "cell_type": "markdown",
   "metadata": {},
   "source": [
    "FVCOM spatial discretisation is based on an unstructured Delaunay triangulation. \n",
    "<img src='http://fvcom.smast.umassd.edu/research_projects/GB/model_grids/fvcom_gom_g1.jpg', width=600>\n",
    "<br/>\n",
    "We need to upload the triangular grid:"
   ]
  },
  {
   "cell_type": "code",
   "execution_count": null,
   "metadata": {},
   "outputs": [],
   "source": [
    "# Take FVCOM Delaunay grid\n",
    "tri = Tri.Triangulation(lon,lat,triangles=nv)"
   ]
  },
  {
   "cell_type": "markdown",
   "metadata": {},
   "source": [
    "# Find FVCOM velocity field\n",
    "\n",
    "Now we query the netCDF file to obtain the horizontal velocity field."
   ]
  },
  {
   "cell_type": "code",
   "execution_count": null,
   "metadata": {},
   "outputs": [],
   "source": [
    "# Get current at layer [0 = surface, -1 = bottom]\n",
    "ilayer = 0\n",
    "u = nc.variables['u'][itime, ilayer, :]\n",
    "v = nc.variables['v'][itime, ilayer, :]"
   ]
  },
  {
   "cell_type": "markdown",
   "metadata": {},
   "source": [
    "# Visualise FVCOM forecast model\n",
    "\n",
    "\n",
    "Let's define the dimension of the region we want to plot."
   ]
  },
  {
   "cell_type": "code",
   "execution_count": null,
   "metadata": {},
   "outputs": [],
   "source": [
    "# Region to plot\n",
    "ax= [-70.97, -70.82, 42.25, 42.35] \n",
    "# Find velocity points in bounding box\n",
    "ind = np.argwhere((lonc >= ax[0]) & (lonc <= ax[1]) & (latc >= ax[2]) & (latc <= ax[3]))"
   ]
  },
  {
   "cell_type": "markdown",
   "metadata": {},
   "source": [
    "Define some contours for the colormap"
   ]
  },
  {
   "cell_type": "code",
   "execution_count": null,
   "metadata": {},
   "outputs": [],
   "source": [
    "# Depth contours to plot\n",
    "levels=np.arange(-32,2,1)   "
   ]
  },
  {
   "cell_type": "markdown",
   "metadata": {},
   "source": [
    "To make the figure readable subsample the number of vector to draw."
   ]
  },
  {
   "cell_type": "code",
   "execution_count": null,
   "metadata": {},
   "outputs": [],
   "source": [
    "subsample = 3\n",
    "np.random.shuffle(ind)\n",
    "Nvec = int(len(ind) / subsample)\n",
    "idv = ind[:Nvec]"
   ]
  },
  {
   "cell_type": "markdown",
   "metadata": {},
   "source": [
    "## Plot in IPython\n",
    "\n",
    "We're done! Time to plot the figure..."
   ]
  },
  {
   "cell_type": "code",
   "execution_count": null,
   "metadata": {},
   "outputs": [],
   "source": [
    "# tricontourf plot of water depth with vectors on top\n",
    "fig1 = plt.figure(figsize=(18,10))\n",
    "ax1 = fig1.add_subplot(111,aspect=(1.0/np.cos(np.mean(lat)*np.pi/180.0)))\n",
    "plt.tricontourf(tri, -h,levels=levels,shading='faceted',cmap=plt.cm.gist_earth)\n",
    "plt.axis(ax)\n",
    "ax1.patch.set_facecolor('0.5')\n",
    "cbar=plt.colorbar()\n",
    "cbar.set_label('Water Depth (m)', rotation=-90)\n",
    "Q = ax1.quiver(lonc[idv],latc[idv],u[idv],v[idv],scale=20)\n",
    "qk = plt.quiverkey(Q,0.92,0.08,0.50,'0.5 m/s',labelpos='W')\n",
    "plt.title('NECOFS Velocity, Layer %d, %s' % (ilayer, daystr))"
   ]
  },
  {
   "cell_type": "markdown",
   "metadata": {},
   "source": [
    "*<p>Note:</p> \n",
    "<a href='http://gis.stackexchange.com/questions/71630/subsetting-a-curvilinear-netcdf-file-roms-model-output-using-a-lon-lat-boundin'>Here</a> is another example of subsetting a curvilinear netCDF file from ROMS model output using a lon/lat bounding box*"
   ]
  },
  {
   "cell_type": "markdown",
   "metadata": {},
   "source": [
    "# Extract water levels, analyse & visualise\n",
    "\n",
    "Using NetCDF4-Python we will extract information from the NETCOFS website and analyze/visualize them with Pandas. \n",
    "\n",
    "<small>\n",
    "**Our aim is to plot forecast water levels from a list of lon,lat locations from the Massachusetts Bay.**\n",
    "</small>\n",
    "\n",
    "First, we define the list of stations we are interested in:\n",
    "+ Boston,             42.368186, -71.047984\n",
    "+ Scituate Harbor,    42.199447, -70.720090\n",
    "+ Scituate Beach,     42.209973, -70.724523\n",
    "+ Falmouth Harbor,    41.541575, -70.608020\n",
    "+ Marion,             41.689008, -70.746576\n",
    "+ Marshfield,         42.108480, -70.648691\n",
    "+ Provincetown,       42.042745, -70.171180\n",
    "+ Sandwich,           41.767990, -70.466219\n",
    "+ Hampton Bay,        42.900103, -70.818510\n",
    "+ Gloucester,         42.610253, -70.660570\n"
   ]
  },
  {
   "cell_type": "code",
   "execution_count": null,
   "metadata": {},
   "outputs": [],
   "source": [
    "# Enter desired (Station, Lat, Lon) values here:\n",
    "x = '''\n",
    "Station, Lat, Lon\n",
    "Boston,             42.368186, -71.047984\n",
    "Scituate Harbor,    42.199447, -70.720090\n",
    "Scituate Beach,     42.209973, -70.724523\n",
    "'''\n",
    "# Create a Pandas DataFrame\n",
    "obs=pd.read_csv(StringIO(x.strip()), sep=\",\\s*\",index_col='Station',engine='python')\n",
    "obs"
   ]
  },
  {
   "cell_type": "markdown",
   "metadata": {},
   "source": [
    "Then, we define the list of URLs containing forecast model data for the area and we open them:"
   ]
  },
  {
   "cell_type": "code",
   "execution_count": null,
   "metadata": {},
   "outputs": [],
   "source": [
    "#NECOFS GOM3 grid forecast\n",
    "#model='GOM3'\n",
    "#url='http://www.smast.umassd.edu:8080/thredds/dodsC/FVCOM/NECOFS/Forecasts/NECOFS_GOM3_FORECAST.nc'\n",
    "#NECOFS MassBay grid forecast\n",
    "model='Massbay'\n",
    "url='http://www.smast.umassd.edu:8080/thredds/dodsC/FVCOM/NECOFS/Forecasts/NECOFS_FVCOM_OCEAN_MASSBAY_FORECAST.nc'\n",
    "\n",
    "# Open NECOFS remote OPeNDAP dataset \n",
    "nc=netCDF4.Dataset(url).variables"
   ]
  },
  {
   "cell_type": "markdown",
   "metadata": {},
   "source": [
    "We now search in the data for the nearest point to our stations location:"
   ]
  },
  {
   "cell_type": "code",
   "execution_count": null,
   "metadata": {},
   "outputs": [],
   "source": [
    "# Find the indices of the points in (x,y) closest to the points in (xi,yi)\n",
    "def nearxy(x,y,xi,yi):\n",
    "    ind=np.ones(len(xi),dtype=int)\n",
    "    for i in np.arange(len(xi)):\n",
    "        dist=np.sqrt((x-xi[i])**2+(y-yi[i])**2)\n",
    "        ind[i]=dist.argmin()\n",
    "    return ind"
   ]
  },
  {
   "cell_type": "code",
   "execution_count": null,
   "metadata": {},
   "outputs": [],
   "source": [
    "# Query to find closest NECOFS nodes to station locations\n",
    "obs['NODE-ID'] = nearxy(nc['lon'][:],nc['lat'][:],obs['Lon'],obs['Lat'])\n",
    "obs"
   ]
  },
  {
   "cell_type": "markdown",
   "metadata": {},
   "source": [
    "For all time steps, extract the water elevation for each station "
   ]
  },
  {
   "cell_type": "code",
   "execution_count": null,
   "metadata": {},
   "outputs": [],
   "source": [
    "# Get time values and convert to datetime objects\n",
    "times = nc['time']\n",
    "jd = netCDF4.num2date(times[:],times.units)\n",
    "\n",
    "# Get all time steps of water level from each station\n",
    "nsta=len(obs)\n",
    "z=np.ones((len(jd),nsta))\n",
    "for i in range(nsta):\n",
    "    z[:,i] = nc['zeta'][:,obs['NODE-ID'][i]]\n",
    "    \n",
    "# Make a DataFrame out of the interpolated time series at each location\n",
    "zvals=pd.DataFrame(z,index=jd,columns=obs.index)\n",
    "\n",
    "# List out a few values\n",
    "zvals.head(4)"
   ]
  },
  {
   "cell_type": "markdown",
   "metadata": {},
   "source": [
    "Now we can visualise the result for each station:"
   ]
  },
  {
   "cell_type": "code",
   "execution_count": null,
   "metadata": {},
   "outputs": [],
   "source": [
    "# Plotting the DataFrame\n",
    "ax=zvals.plot(figsize=(22,12),grid=True,\n",
    "              title=('NECOFS Forecast Water Level from %s Forecast' % model),\n",
    "              legend=False,linewidth=2)\n",
    "\n",
    "# Read units from dataset for ylabel\n",
    "plt.ylabel(nc['zeta'].units)\n",
    "\n",
    "# Plotting the legend outside the axis is a bit tricky\n",
    "box = ax.get_position()\n",
    "ax.set_position([box.x0, box.y0, box.width * 0.55, box.height])\n",
    "ax.legend(loc='center left', bbox_to_anchor=(1, 0.5));"
   ]
  },
  {
   "cell_type": "code",
   "execution_count": null,
   "metadata": {},
   "outputs": [],
   "source": []
  }
 ],
 "metadata": {
  "kernelspec": {
   "display_name": "Python 3",
   "language": "python",
   "name": "python3"
  },
  "language_info": {
   "codemirror_mode": {
    "name": "ipython",
    "version": 3
   },
   "file_extension": ".py",
   "mimetype": "text/x-python",
   "name": "python",
   "nbconvert_exporter": "python",
   "pygments_lexer": "ipython3",
   "version": "3.5.3"
  }
 },
 "nbformat": 4,
 "nbformat_minor": 1
}
