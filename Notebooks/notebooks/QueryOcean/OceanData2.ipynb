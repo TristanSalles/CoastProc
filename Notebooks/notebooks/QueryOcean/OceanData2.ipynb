{
 "cells": [
  {
   "cell_type": "markdown",
   "metadata": {
    "slideshow": {
     "slide_type": "slide"
    }
   },
   "source": [
    "# IMOS Ocean Radar Data Query"
   ]
  },
  {
   "cell_type": "markdown",
   "metadata": {},
   "source": [
    "The **Australian Coastal Ocean Radar Network** ([ACORN](http://imos.org.au/facilities/oceanradar/)) facility comprises a coordinated network of _HF radars_ delivering:\n",
    "+ real-time, non-quality controlled and \n",
    "+ delayed-mode, quality controlled surface current data into a national archive.\n",
    "\n",
    "**NetCDF files** can be found at : http://thredds.aodn.org.au/thredds/catalog/IMOS/ACORN/catalog.html\n",
    "\n",
    "Monthly aggregated files are also available in the following folders: \n",
    "http://thredds.aodn.org.au/thredds/catalog/IMOS/ACORN/gridded_1h-avg-current-map_non-QC/catalog.html\n"
   ]
  },
  {
   "cell_type": "markdown",
   "metadata": {},
   "source": [
    "<div class=\"alert alert-block alert-info\">\n",
    "In the example below, we first export the dataset file (NetCDF) for a given region and then we plot the velocity field at a given time in a latitude/longitude grid.</div>\n",
    "\n",
    "***\n",
    "\n",
    "**Content:**\n",
    "- [Data access server protocol](#protocol)\n",
    "- [ACORN data from IMOS](#imos-data)\n",
    "- [Get current speed](#current-speed)\n",
    "- [Plotting Turquoise Coast dataset](#plotting)\n",
    "\n",
    "***"
   ]
  },
  {
   "cell_type": "markdown",
   "metadata": {
    "slideshow": {
     "slide_type": "subslide"
    }
   },
   "source": [
    "Loading required modules for this exercise"
   ]
  },
  {
   "cell_type": "code",
   "execution_count": null,
   "metadata": {
    "scrolled": true
   },
   "outputs": [],
   "source": [
    "%matplotlib inline\n",
    "\n",
    "import cmocean as cmo\n",
    "from netCDF4 import Dataset\n",
    "from netCDF4 import num2date\n",
    "import matplotlib.pyplot as plt\n",
    "\n",
    "%matplotlib inline\n",
    "%config InlineBackend.figure_format = 'svg'\n",
    "plt.rcParams['mathtext.fontset'] = 'cm'"
   ]
  },
  {
   "cell_type": "markdown",
   "metadata": {
    "slideshow": {
     "slide_type": "subslide"
    }
   },
   "source": [
    "## <a name=\"protocol\"></a>  Data access server protocol\n",
    "\n",
    "+ Data access is provided via **HTTP** and **OPeNDAP** by **THREDDS** Data Server and **FTP**. \n",
    "+ Most data providers are using interactive visualization of data sets with zoomable maps. \n",
    "\n",
    "Key transfer protocols acronyms:\n",
    "\n",
    "+ _HTTP_: Hypertext Transfer Protocol\n",
    "+ _OPenDAP_: Open-source Project for a Network Data Access Protocol\n",
    "+ _THREDDS_: Thematic Real-Time Environmental Distributed Data Services\n",
    "+ _FTP_: File Transfer Protocol\n",
    "+ _LAS_: Live Access Server"
   ]
  },
  {
   "cell_type": "markdown",
   "metadata": {
    "slideshow": {
     "slide_type": "subslide"
    }
   },
   "source": [
    "## <a name=\"imos-data\"></a>  ACORN data from IMOS\n",
    "\n",
    "Following previous example, we first export the NetCDF dataset from the IMOS AODN **THREDDS data server**.\n",
    "\n",
    "<img src=\"../../figs/ex2-fig1.png\" width=\"60%\">\n",
    "\n",
    "The catalog containing all the ACORN dataset is found on the link below:\n",
    "+ http://thredds.aodn.org.au/thredds/catalog/IMOS/ACORN/gridded_1h-avg-current-map_non-QC/catalog.html\n",
    "\n",
    "You will note that there are several folders corresponding to different radar sites. We will use the dataset from [Turquoise Coast](https://www.google.com/maps/search/turquoise+coast+wa/@-30.3216453,115.0155699,8225m/data=!3m1!1e3?hl=en) in WA.\n",
    "\n",
    "As shown in the video below, navigate through the folder and pick a year, month and day. **You should be able to take yesterday or today dataset as this is real-time data!**"
   ]
  },
  {
   "cell_type": "code",
   "execution_count": null,
   "metadata": {},
   "outputs": [],
   "source": [
    "from IPython.display import YouTubeVideo\n",
    "YouTubeVideo('qiw0yGzfZak', width=760, height=450)"
   ]
  },
  {
   "cell_type": "code",
   "execution_count": null,
   "metadata": {},
   "outputs": [],
   "source": [
    "# Paste the Turquoise Coast dataset URL\n",
    "acorn_URL = 'http://thredds.aodn.org.au/thredds/dodsC/IMOS/ACORN/gridded_1h-avg-current-map_non-QC/TURQ/2018/01/23/IMOS_ACORN_V_20180123T140000Z_TURQ_FV00_1-hour-avg.nc'\n",
    "\n",
    "# Export the NetCDF file in Python \n",
    "acorn_DATA = Dataset(acorn_URL+'#fillmismatch')"
   ]
  },
  {
   "cell_type": "markdown",
   "metadata": {
    "slideshow": {
     "slide_type": "-"
    }
   },
   "source": [
    "The first thing to notice is the distinctive **Data Reference Syntax** (DRS) associated with the file. Staff at IMOS have archived the data according to the following directory structure:\n",
    "\n",
    "**http://thredds.aodn.org.au/thredds/dodsC/organisation/project/collection/site-code/year/month/day/**\n",
    "\n",
    "From this we can deduce, without even inspecting the content of the file, who is the data provider, when and where it was collected, which is a network of high frequency radars that measure the ocean surface current.\n",
    "\n",
    "*** \n",
    "\n",
    "<blockquote>\n",
    "While it's unlikely that your research will ever involve cataloging data from such a large observational network, it's still a very good idea to develop your own personal **DRS** for the data you do have. This often involves investing some time at the beginning of a project to think carefully about the design of your directory and file name structures, as these can be very hard to change later on. Well planned **DRS** is one of the easiest ways to make your research more efficient and reliable.\n",
    "</blockquote>\n"
   ]
  },
  {
   "cell_type": "markdown",
   "metadata": {},
   "source": [
    "In order to see all the global attributes and some other information about the file, type in your command window"
   ]
  },
  {
   "cell_type": "code",
   "execution_count": null,
   "metadata": {},
   "outputs": [],
   "source": [
    "# Discover Metadata\n",
    "print(acorn_DATA)"
   ]
  },
  {
   "cell_type": "markdown",
   "metadata": {},
   "source": [
    "To list all the variables available in the NetCDF file, type:"
   ]
  },
  {
   "cell_type": "code",
   "execution_count": null,
   "metadata": {},
   "outputs": [],
   "source": [
    "# Discover variables\n",
    "print(acorn_DATA.variables.keys())"
   ]
  },
  {
   "cell_type": "markdown",
   "metadata": {
    "collapsed": true,
    "slideshow": {
     "slide_type": "subslide"
    }
   },
   "source": [
    "As we have seen already on of the great thing about netCDF files is that they contain <a href=http://en.wikipedia.org/wiki/Metadata>metadata</a> - that is, data about the data. They are **global attributes** that give information about the file as a whole, while each variable also has its own attributes."
   ]
  },
  {
   "cell_type": "markdown",
   "metadata": {},
   "source": [
    "The `'u'` means each variable name is represented by a Unicode string. As an example, we plot the attributes associated to the `TIME` variable:"
   ]
  },
  {
   "cell_type": "code",
   "execution_count": null,
   "metadata": {},
   "outputs": [],
   "source": [
    "print('These are the attributes of the time axis:')\n",
    "print(acorn_DATA.variables['TIME'])\n",
    "\n",
    "print('--------')\n",
    "\n",
    "print('Here is the time value:')\n",
    "print(acorn_DATA.variables['TIME'][0])"
   ]
  },
  {
   "cell_type": "markdown",
   "metadata": {
    "collapsed": true
   },
   "source": [
    "The raw time value are fairly meaningless, but we can use the time attributes to convert them to a more meaningful format..."
   ]
  },
  {
   "cell_type": "code",
   "execution_count": null,
   "metadata": {},
   "outputs": [],
   "source": [
    "units = acorn_DATA.variables['TIME'].units\n",
    "calendar = acorn_DATA.variables['TIME'].calendar\n",
    "\n",
    "times = num2date(acorn_DATA.variables['TIME'][:], units=units, calendar=calendar)\n",
    "\n",
    "print('Meaningfull dataset time:')\n",
    "print(times[0])"
   ]
  },
  {
   "cell_type": "markdown",
   "metadata": {
    "slideshow": {
     "slide_type": "slide"
    }
   },
   "source": [
    "## <a name=\"current-speed\"></a>  Get current speed\n"
   ]
  },
  {
   "cell_type": "markdown",
   "metadata": {},
   "source": [
    "First we will need to find the **zonal** (east/west) and **meridional** (north/south) surface current components in our dataset. To do so you will have to use the `acorn_DATA.variables['XXX']` function as above where `XXX` is one of the available variables. "
   ]
  },
  {
   "cell_type": "code",
   "execution_count": null,
   "metadata": {},
   "outputs": [],
   "source": [
    "print(acorn_DATA.variables['UCUR'])\n",
    "print(acorn_DATA.variables['VCUR'])"
   ]
  },
  {
   "cell_type": "markdown",
   "metadata": {},
   "source": [
    "Let us define python variable for each of these NetCDF variables."
   ]
  },
  {
   "cell_type": "code",
   "execution_count": null,
   "metadata": {},
   "outputs": [],
   "source": [
    "uData = acorn_DATA.variables['UCUR'][:,:,:]\n",
    "vData = acorn_DATA.variables['VCUR'][:,:,:]"
   ]
  },
  {
   "cell_type": "code",
   "execution_count": null,
   "metadata": {},
   "outputs": [],
   "source": [
    "uData.shape"
   ]
  },
  {
   "cell_type": "markdown",
   "metadata": {},
   "source": [
    "Both <i>uData</i> and <i>vData</i> are a special type of **numpy array** known as a masked array, whereby some of the points in the latitude/longitude grid have missing (or masked) values. Just as with a normal numpy array, we can check the shape of our data (in fact, masked arrays can do everything normal numpy arrays can do and more)."
   ]
  },
  {
   "cell_type": "code",
   "execution_count": null,
   "metadata": {},
   "outputs": [],
   "source": [
    "print(type(uData))\n",
    "print(uData.shape)"
   ]
  },
  {
   "cell_type": "markdown",
   "metadata": {},
   "source": [
    "In other words, the dataset contains 1 time step, 60 latitudes and 59 longitudes. \n",
    "\n",
    "We can now go ahead and calculate the **current speed** $s$:\n",
    "$$ s = \\sqrt{u^2+v^2} $$\n"
   ]
  },
  {
   "cell_type": "code",
   "execution_count": null,
   "metadata": {},
   "outputs": [],
   "source": [
    "sData = (uData**2 + vData**2)**0.5"
   ]
  },
  {
   "cell_type": "markdown",
   "metadata": {
    "slideshow": {
     "slide_type": "slide"
    }
   },
   "source": [
    "## <a name=\"plotting\"></a> Plotting Turquoise Coast dataset"
   ]
  },
  {
   "cell_type": "markdown",
   "metadata": {},
   "source": [
    "<blockquote>\n",
    "It's a good idea to regularly view your data throughout the code development process, just to ensure nothing crazy has happened along the way.\n",
    "</blockquote>"
   ]
  },
  {
   "cell_type": "code",
   "execution_count": null,
   "metadata": {},
   "outputs": [],
   "source": [
    "# Get the grid values (long/lat)\n",
    "LAT = acorn_DATA.variables['LATITUDE']\n",
    "LON = acorn_DATA.variables['LONGITUDE']\n",
    "TIME = acorn_DATA.variables['TIME']\n",
    "latData = LAT[:]\n",
    "lonData = LON[:]\n",
    "\n",
    "# Grab the units for current velocity\n",
    "units = acorn_DATA.variables['UCUR'].units\n",
    "\n",
    "figure = plt.figure(figsize=(10, 10), dpi=80, facecolor='w', edgecolor='k')\n",
    "\n",
    "# Plot the calculated current speed\n",
    "plt.pcolor(lonData , latData, sData[0,:,:],cmap=cmo.cm.matter)\n",
    "plt.tick_params(axis='both', which='major', labelsize=8)\n",
    "cbar = plt.colorbar()\n",
    "cbar.ax.set_ylabel('Current speed in ' + units, fontsize=8)\n",
    "cbar.ax.tick_params(labelsize=7) \n",
    "\n",
    "# Use metadata information as well as time to write the figure title\n",
    "plt.title(acorn_DATA.title + '\\n' + num2date(TIME[0], TIME.units, TIME.calendar).strftime('%d/%m/%Y'), fontsize=10)\n",
    "plt.xlabel(LON.long_name + ' in ' + LON.units, fontsize=8)\n",
    "plt.ylabel(LAT.long_name + ' in ' + LAT.units, fontsize=8)\n",
    "\n",
    "# Plot velocity field as arrows based on zonal and meridional velocity components\n",
    "Q = plt.quiver(lonData, latData, uData[0,:,:], vData[0,:,:], units='width')\n",
    "\n",
    "plt.show()\n",
    "plt.close()"
   ]
  },
  {
   "cell_type": "markdown",
   "metadata": {
    "collapsed": true
   },
   "source": [
    "***\n",
    "\n",
    "<div class=\"alert alert-block alert-success\">You can now try to plot 1h averaged sea water speed gridded data from ACORN data at another time interval or on another location and do some data crunching with it!</div>"
   ]
  },
  {
   "cell_type": "code",
   "execution_count": null,
   "metadata": {},
   "outputs": [],
   "source": []
  },
  {
   "cell_type": "code",
   "execution_count": null,
   "metadata": {},
   "outputs": [],
   "source": []
  }
 ],
 "metadata": {
  "kernelspec": {
   "display_name": "Python 3",
   "language": "python",
   "name": "python3"
  },
  "language_info": {
   "codemirror_mode": {
    "name": "ipython",
    "version": 3
   },
   "file_extension": ".py",
   "mimetype": "text/x-python",
   "name": "python",
   "nbconvert_exporter": "python",
   "pygments_lexer": "ipython3",
   "version": "3.5.3"
  }
 },
 "nbformat": 4,
 "nbformat_minor": 1
}
