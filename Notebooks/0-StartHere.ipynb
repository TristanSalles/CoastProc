{
 "cells": [
  {
   "cell_type": "markdown",
   "metadata": {},
   "source": [
    "# RADWave - _Wave Analysis for Altimeter data_\n",
    "\n",
    "\n",
    "**RADWave** documentation is found at [**radwave.readthedocs.io**](https://radwave.readthedocs.io/)\n",
    "\n",
    "**RADWave** is a python package built to characterise *wave conditions* based on altimeter data.\n",
    "\n",
    "![altimeter](https://github.com/pyReef-model/RADWave/blob/master/src/RADWave/Notebooks/images/img2.jpg?raw=true)\n",
    "\n",
    "**RADWave** is Python package that provides a mechanism to access altimeter datasets through web-enabled data services (THREDDS). The package capabilities are illustrated based on the the Australian Ocean Data Network ([**AODN**](https://portal.aodn.org.au) database that spans from 1985-present and that has already been calibrated and validated by [Ribal and Young, 2019]. **RADWave** allows to query over a range of spatial and temporal scales altimeter parameters in specific geographical regions and subsequently calculates significant wave heights, periods, group velocities, average wave energy densities and wave energy fluxes.  \n",
    "\n",
    "> **Altimeters** are widely established as an accurate remote sensing technique, and are particularly advantageous for remote areas, and locations with no long term monitoring of waves. The package can be used to calculate short term wave conditions and long term wave climate statistics from satellite radar altimeters. \n",
    "\n",
    "\n",
    "**RADWave** can be used to easily calculate past wave conditions and infers long term wave climate variability, providing new insights on wave modal conditions, seasonal changes, long-term trends and associated modulation by climate oscillations.\n",
    "\n",
    "Designed for researchers and industry partners focusing on offshore wave conditions globally, **RADWave** enhances the ease of access and analysis of altimeter data.\n",
    "\n",
    "\n",
    "A documentation regarding **RADWave** package is available from [readthedoc](http://radwave.readthedocs.io/).\n",
    "\n",
    "\n",
    "[![Documentation Status](https://readthedocs.org/projects/radwave/badge/?version=latest)](https://radwave.readthedocs.io/en/latest/?badge=latest)\n",
    "\n",
    "\n",
    "## Navigation / Notebooks\n",
    "\n",
    "There are three notebooks available to demonstrate **RADWave** capability. \n",
    "\n",
    "> [RADWave1-TileAnalysis.ipynb](notebooks/RADWave1-TileAnalysis.ipynb) showcases the basic functionalities of the package and how it can be used to extract wave conditions for any geographical region. \n",
    "\n",
    "\n",
    "> [RADWave2-ClimateVariability.ipynb](notebooks/RADWave2-ClimateVariability.ipynb) showcases similar functionalities as example 1 and also illustrates how it can be used further to estimate the influence of climate trends on regional wave patterns.\n",
    "\n",
    "\n",
    "> [RADWave3-CycloneYasi.ipyn](notebooks/RADWave3-CycloneYasi.ipynb) showcases how the package can be used to query wave conditions from altimeter database along a specified cyclone track.\n",
    "\n",
    "\n",
    "\n",
    "## References\n",
    "\n",
    "\n",
    "  1. Ribal, A. and Young, I.R., 2019. 33 years of globally calibrated wave height and wind speed data based on altimeter observations. **Scientific Data** 6(77), p.100.\n",
    "\n",
    "  1. Young, I. R., Zieger, S. and Babanin, A. V., 2011. Global trends in wind speed and wave height. **Science**  332(6028), p. 451-455."
   ]
  },
  {
   "cell_type": "code",
   "execution_count": null,
   "metadata": {},
   "outputs": [],
   "source": []
  }
 ],
 "metadata": {
  "kernelspec": {
   "display_name": "Python 3",
   "language": "python",
   "name": "python3"
  },
  "language_info": {
   "codemirror_mode": {
    "name": "ipython",
    "version": 3
   },
   "file_extension": ".py",
   "mimetype": "text/x-python",
   "name": "python",
   "nbconvert_exporter": "python",
   "pygments_lexer": "ipython3",
   "version": "3.5.3"
  }
 },
 "nbformat": 4,
 "nbformat_minor": 2
}
