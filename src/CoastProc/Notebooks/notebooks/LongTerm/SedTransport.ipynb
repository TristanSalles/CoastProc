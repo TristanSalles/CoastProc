{
 "cells": [
  {
   "cell_type": "markdown",
   "metadata": {},
   "source": [
    "# Simple wave sediment modelling"
   ]
  },
  {
   "cell_type": "markdown",
   "metadata": {},
   "source": [
    "<div class=\"alert alert-block alert-info\">\n",
    "Using a wave propagation model based on linear wave theory, we investigate the cumulative effect of a given wave forcing condition on erosional and depositional trend across a regional coastal system.</div>\n",
    "\n",
    "***\n",
    "\n",
    "**Content:**\n",
    "- [Model set-up](#setup)\n",
    "- [Model initialisation function](#init)\n",
    "- [Waves evolution](#evol)\n",
    "- [Sediment entrainment, transport & deposition](#sed)\n",
    "\n",
    "***"
   ]
  },
  {
   "cell_type": "markdown",
   "metadata": {},
   "source": [
    "Loading required modules for this exercise. The main module here is **wavesed** a piece of code that was developed for this course and that can be found on [GitHub](https://github.com/pyReef-model/wavesed)"
   ]
  },
  {
   "cell_type": "markdown",
   "metadata": {},
   "source": []
  },
  {
   "cell_type": "code",
   "execution_count": null,
   "metadata": {},
   "outputs": [],
   "source": [
    "import time\n",
    "import numpy as np\n",
    "import wavesed.wave as ocean\n",
    "\n",
    "%matplotlib inline"
   ]
  },
  {
   "cell_type": "markdown",
   "metadata": {},
   "source": [
    "## <a name=\"setup\"></a>  Model set-up\n",
    "\n",
    "\n",
    "The model requires several parameters to be defined before being run. The most important one being the initial bathymetry. For this example, we will use the region around [Fraser Island](https://www.google.com.au/maps/@-24.8590806,152.2555941,236264m/data=!3m1!1e3?hl=en) at a resolution of 1000 m. The _digital elevation model_ (DEM) comes from the [Project 3DGBR](http://eatlas.org.au/data/uuid/200aba6b-6fb6-443e-b84b-86b0bbdb53ac).\n",
    "\n",
    "<img src=\"../../figs/ex4-fig1.png\" width=\"60%\">\n",
    "\n",
    "The file is called **FraserDEM.csv** and is located in the **data** folder. It is made of 3 columns containing the X, Y, and Z coordinates. "
   ]
  },
  {
   "cell_type": "markdown",
   "metadata": {},
   "source": [
    "### Model domain / grid parameters\n",
    "\n",
    "It is possible to change the initial resolution by using the `rfac` parameter, as an example:\n",
    "\n",
    "+ `rfac = 1` corresponds to a model at 1000 m resolution (similar to the initial DEM)\n",
    "+ `rfac = 2` transforms the dataset to 2000 m resolution "
   ]
  },
  {
   "cell_type": "code",
   "execution_count": null,
   "metadata": {},
   "outputs": [],
   "source": [
    "# Bathymetric filename\n",
    "bfile = '../../dataset/FraserDEM.csv'\n",
    "# Resolution factor\n",
    "rfac = 1 "
   ]
  },
  {
   "cell_type": "markdown",
   "metadata": {},
   "source": [
    "### Definition of wave parameters\n",
    "\n",
    "Now we need to define the forcing parameters for our simulation:\n",
    "\n",
    "+ `H0` the deep water wave height in [m],\n",
    "+ `dir` the deep water wave source direction at the boundary in degrees (angle is defined counterclock wise from horizontal axis)\n",
    "+ `wbase` the maximum depth for wave influence on seabed [m]\n",
    "+ `slvl` the sea-level position in [m]"
   ]
  },
  {
   "cell_type": "code",
   "execution_count": null,
   "metadata": {},
   "outputs": [],
   "source": [
    "# Wave height\n",
    "H0 = 2\n",
    "# Wave direction at boundary \n",
    "dir = 0\n",
    "# Maximum depth for wave influence (m)\n",
    "wbase = 10\n",
    "# Sea level position (m)\n",
    "slvl = 0.\n",
    "# Output figure name\n",
    "outname = 'wdir0'"
   ]
  },
  {
   "cell_type": "markdown",
   "metadata": {},
   "source": [
    "### Definition of sediment parameters\n",
    "\n",
    "To estimate wave-induced sediment transport, this simple model only accounts for a single grain size that needs to be defined (`d50`). \n",
    "\n",
    "There are also additional parameters that can be set to perform longshore and diffusive transport but we will use the default values for this example..."
   ]
  },
  {
   "cell_type": "code",
   "execution_count": null,
   "metadata": {},
   "outputs": [],
   "source": [
    "# Mean grain size diameter in m\n",
    "d50 = 0.0001"
   ]
  },
  {
   "cell_type": "markdown",
   "metadata": {},
   "source": [
    "## <a name=\"init\"></a>  Model initialisation function\n",
    "\n",
    "Now that all the parameters are defined in our python environment, we can initialise the simulation by calling the wavesed module:"
   ]
  },
  {
   "cell_type": "code",
   "execution_count": null,
   "metadata": {},
   "outputs": [],
   "source": [
    "#help(ocean.wave.__init__)"
   ]
  },
  {
   "cell_type": "code",
   "execution_count": null,
   "metadata": {},
   "outputs": [],
   "source": [
    "wavesed = ocean.wave(filename=bfile, wavebase=wbase, resfac=rfac, dia=d50)"
   ]
  },
  {
   "cell_type": "markdown",
   "metadata": {},
   "source": [
    "As you can see from the command above there are still some parameters that have not been passed to the module:\n",
    "\n",
    "+ `slvl`\n",
    "+ `dir`\n",
    "+ `H0`\n",
    "\n",
    "These parameters are sent separately so that multiple climatic conditions could be simulate more easily.\n",
    "\n",
    "First we define the sea-level position `slvl`."
   ]
  },
  {
   "cell_type": "code",
   "execution_count": null,
   "metadata": {},
   "outputs": [],
   "source": [
    "t0 = time.clock()\n",
    "wavesed.findland(slvl)\n",
    "print('Definition of shoreline position took (s):',time.clock()-t0)"
   ]
  },
  {
   "cell_type": "markdown",
   "metadata": {},
   "source": [
    "Initialising wave boundary direction `dir` is then done with the `wavesource` function:"
   ]
  },
  {
   "cell_type": "code",
   "execution_count": null,
   "metadata": {},
   "outputs": [],
   "source": [
    "wdir = wavesed.wavesource(dir)"
   ]
  },
  {
   "cell_type": "markdown",
   "metadata": {},
   "source": [
    "## <a name=\"evol\"></a>  Waves evolution\n",
    "\n",
    "The waves are then transformed using the **linear wave theory** from deep (set-up conditions) to shallow water assuming shore-parallel depth contours. \n",
    "\n",
    "The orientation of wave fronts is determined by wave _celerity_ and _refraction_ due to depth variations. \n",
    "\n",
    "Travel time in the domain is calculated from **Huygen's principle** (using an order $\\sqrt{5}$ approximation).\n",
    "\n",
    "Assuming no refraction or loss of energy due to bottom friction, wave power $P$ is conserved from deep to shallow water. "
   ]
  },
  {
   "cell_type": "code",
   "execution_count": null,
   "metadata": {},
   "outputs": [],
   "source": [
    "#help(wavesed.cmptwaves)"
   ]
  },
  {
   "cell_type": "code",
   "execution_count": null,
   "metadata": {},
   "outputs": [],
   "source": [
    "t0 = time.clock()\n",
    "wavesed.cmptwaves(src=wdir, h0=H0, sigma=1.)\n",
    "print('Wave evolution computation took (s): ',time.clock()-t0)"
   ]
  },
  {
   "cell_type": "markdown",
   "metadata": {},
   "source": [
    "### Plotting simulated wave characteristics\n",
    "\n",
    "A series of graph can be visualised to show the following characteristics:\n",
    "\n",
    "+ _bathy_: coarse bathymetric map\n",
    "+ _wlength_: coarse wave lenght map\n",
    "+ _travel_: coarse wave travel time map\n",
    "+ _wcelerity_: coarse wave celerity map\n",
    "+ _wheight_: coarse wave height map\n",
    "+ _wpower_: coarse wave power map\n",
    "+ _ubot_: coarse wave induced bottom velocity map\n",
    "+ _shear_: coarse wave induced shear stress map"
   ]
  },
  {
   "cell_type": "code",
   "execution_count": null,
   "metadata": {},
   "outputs": [],
   "source": [
    "#help(wavesed.plotData)"
   ]
  },
  {
   "cell_type": "code",
   "execution_count": null,
   "metadata": {
    "scrolled": false
   },
   "outputs": [],
   "source": [
    "size = (10,10)\n",
    "# i1 = 0 \n",
    "# i2 = -1\n",
    "# j1 = 0\n",
    "# j2 = -1\n",
    "\n",
    "# Zooming to a specific region\n",
    "i1 = 80 \n",
    "i2 = 250 \n",
    "j1 = 0\n",
    "j2 = 170 \n",
    "\n",
    "wavesed.plotData(data='bathy', figsize=size, vmin=-100, vmax=100, \n",
    "                 fontsize=10, imin=i1, imax=i2, jmin=j1, jmax=j2)\n",
    "\n",
    "wavesed.plotData(data='travel', figsize=size, tstep=100, vmin=0, vmax=5.e4, \n",
    "                 fontsize=10, imin=i1, imax=i2, jmin=j1, jmax=j2)\n",
    "\n",
    "wavesed.plotData(data='wcelerity', figsize=size, vmin=0, vmax=15, \n",
    "                 fontsize=10, stream=3, imin=i1, imax=i2, jmin=j1, jmax=j2)\n",
    "\n",
    "wavesed.plotData(data='ubot', figsize=size, vmin=0, vmax=2, \n",
    "                 fontsize=10, imin=i1, imax=i2, jmin=j1, jmax=j2)\n",
    "\n",
    "wavesed.plotData(data='shear', figsize=size, vmin=-10, vmax=10, \n",
    "                  fontsize=10, imin=i1, imax=i2, jmin=j1, jmax=j2)"
   ]
  },
  {
   "cell_type": "markdown",
   "metadata": {},
   "source": [
    "## <a name=\"sed\"></a>  Sediment entrainment, transport & deposition\n",
    "\n",
    "**Sediment entrainment** relates to wave induced shear stress. \n",
    "\n",
    "The transport is computed according to both wave direction and longshore transport. Deposition is dependent of shear stress and diffusion."
   ]
  },
  {
   "cell_type": "code",
   "execution_count": null,
   "metadata": {},
   "outputs": [],
   "source": [
    "#help(wavesed.cmptsed)"
   ]
  },
  {
   "cell_type": "code",
   "execution_count": null,
   "metadata": {},
   "outputs": [],
   "source": [
    "t0 = time.clock()\n",
    "wavesed.cmptsed(sigma=1.)\n",
    "print('Sediment erosion/deposition computation took (s): ',time.clock()-t0)"
   ]
  },
  {
   "cell_type": "markdown",
   "metadata": {},
   "source": [
    "### Plotting morphological changes\n",
    "\n",
    "Using the same plotting function (`plotData`), we can now plot the following metrics:\n",
    "\n",
    "+ _ent_: coarse sediment entrainment map\n",
    "+ _dz_: coarse erosion/deposition map"
   ]
  },
  {
   "cell_type": "code",
   "execution_count": null,
   "metadata": {},
   "outputs": [],
   "source": [
    "#help(wavesed.plotData)"
   ]
  },
  {
   "cell_type": "code",
   "execution_count": null,
   "metadata": {
    "scrolled": false
   },
   "outputs": [],
   "source": [
    "size = (10,10)\n",
    "# i1 = 0 \n",
    "# i2 = -1\n",
    "# j1 = 0\n",
    "# j2 = -1\n",
    "\n",
    "# Zooming to a specific region\n",
    "i1 = 80 \n",
    "i2 = 250 \n",
    "j1 = 0\n",
    "j2 = 170\n",
    "\n",
    "wavesed.plotData(data='bathy', figsize=size, vmin=-100, vmax=100, \n",
    "                 fontsize=10, stream=0, imin=i1, imax=i2, jmin=j1, jmax=j2)\n",
    "\n",
    "wavesed.plotData(data='ent', figsize=size, vmin=0., vmax=5., \n",
    "                 fontsize=10, stream=0, imin=i1, imax=i2, jmin=j1, jmax=j2)\n",
    "\n",
    "wavesed.plotData(data='dz', figsize=size, vmin=-1., vmax=1., \n",
    "                 fontsize=10, stream=0, imin=i1, imax=i2, jmin=j1, jmax=j2) #, save=outname)\n"
   ]
  },
  {
   "cell_type": "markdown",
   "metadata": {},
   "source": [
    "## <a name=\"save\"></a>  Saving wave/sedimentation data\n",
    "\n"
   ]
  },
  {
   "cell_type": "code",
   "execution_count": null,
   "metadata": {},
   "outputs": [],
   "source": [
    "#waveparams.outputCSV(filename='erodep.csv', seddata=1)"
   ]
  },
  {
   "cell_type": "markdown",
   "metadata": {
    "collapsed": true
   },
   "source": [
    "***\n",
    "\n",
    "<div class=\"alert alert-block alert-info\">\n",
    "1- Change the initial wave direction conditions to 90 and then to 270. Evaluate the impact on the morphological patterns. \n",
    "</div>\n",
    "\n",
    "<div class=\"alert alert-block alert-info\">\n",
    "2- Change the resolution factor to see how it impacts on erosion/deposition resolution.</div>\n",
    "\n",
    "***"
   ]
  },
  {
   "cell_type": "code",
   "execution_count": null,
   "metadata": {},
   "outputs": [],
   "source": []
  }
 ],
 "metadata": {
  "kernelspec": {
   "display_name": "Python 3",
   "language": "python",
   "name": "python3"
  },
  "language_info": {
   "codemirror_mode": {
    "name": "ipython",
    "version": 3
   },
   "file_extension": ".py",
   "mimetype": "text/x-python",
   "name": "python",
   "nbconvert_exporter": "python",
   "pygments_lexer": "ipython3",
   "version": "3.5.3"
  }
 },
 "nbformat": 4,
 "nbformat_minor": 2
}
