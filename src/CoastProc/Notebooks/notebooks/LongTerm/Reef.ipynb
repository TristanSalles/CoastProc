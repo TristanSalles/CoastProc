{
 "cells": [
  {
   "cell_type": "markdown",
   "metadata": {},
   "source": [
    "# Idealised case of shallowing-up fossil reef sequence"
   ]
  },
  {
   "cell_type": "markdown",
   "metadata": {},
   "source": [
    "**pyReef-Core** is a deterministic, one-dimensional (1-D) numerical model, that simulates the vertical coralgal growth patterns observed in a drill core, as well as the physical, environmental processes that effect coralgal growth. \n",
    "<br/>\n",
    "<br/>\n",
    "<div align=\"center\">\n",
    "    <img width=900 src=\"https://rawgit.com/pyReef-model/pyReefCore/master/mfigs/fig1.jpg\" alt=\"Schematic view\" title=\"Schematic view\"</img>\n",
    "</div>\n",
    "\n",
    "_Schematic figure of a hypothetical reef with transitions from shallow to deep assemblages occurring down-core, illustrating growth-form responses of corals to environmental forcing including light, sea level changes (**sl**), uplift and subsidence (**u/s**), hydrodynamic energy (**w** wave conditions and **c** currents), nutrients input **nu**, ocean temperature (**T**) and acidity (**pH**), karstification (**k**) and sediment flux._\n",
    "\n",
    "The model is capable of integrating ecological processes like coralgal community interactions over centennial-to-millennial scales using predator-prey or Generalised Lotka-Volterra Equations.\n",
    "\n",
    "Source code is available from [GitHub website](https://github.com/pyReef-model/pyReefCore)\n"
   ]
  },
  {
   "cell_type": "markdown",
   "metadata": {},
   "source": [
    "<div class=\"alert alert-block alert-info\">\n",
    "Using **pyReef-Core**, we quantitatively test carbonate platform development under the influence of ecological and environmental processes, and interpret vertical growth and karstification patterns observed in drill cores.</div>\n",
    "\n",
    "***\n",
    "\n",
    "**Content:**\n",
    "- [Input file & loading experiment](#input)\n",
    "- [Model simulation](#run)\n",
    "- [Model results](#results)\n",
    "- [Analysing model results](#analyse)\n",
    "\n",
    "***"
   ]
  },
  {
   "cell_type": "markdown",
   "metadata": {},
   "source": [
    "Loading required modules for this exercise"
   ]
  },
  {
   "cell_type": "code",
   "execution_count": null,
   "metadata": {},
   "outputs": [],
   "source": [
    "%matplotlib inline\n",
    "import matplotlib.pyplot as plt\n",
    "import numpy as np\n",
    "import cmocean as cmo\n",
    "\n",
    "%config InlineBackend.figure_format = 'svg'\n",
    "\n",
    "from pyReefCore.model import Model"
   ]
  },
  {
   "cell_type": "markdown",
   "metadata": {},
   "source": [
    "## <a name=\"input\"></a>  Input file & loading experiment\n",
    "\n",
    "Once the library has been loaded, the model initialisation is done using the following command:"
   ]
  },
  {
   "cell_type": "code",
   "execution_count": null,
   "metadata": {},
   "outputs": [],
   "source": [
    "# Initialise model\n",
    "reef = Model()"
   ]
  },
  {
   "cell_type": "markdown",
   "metadata": {},
   "source": [
    "The next step consists in defining the initial conditions for our simulation. This is done by using an **XmL** input file which set the parameters to be used, such as:\n",
    "\n",
    "- the initial community population number $X0$\n",
    "- the intrinsic rate of a population species $\\epsilon$\n",
    "- the interaction coefficients among the species association $\\alpha$\n",
    "\n",
    "For a complete list of model input parameters follow the guide provided [here](https://github.com/pyReef-model/pyReefCore#-input-file-structure)."
   ]
  },
  {
   "cell_type": "code",
   "execution_count": null,
   "metadata": {},
   "outputs": [],
   "source": [
    "# Define the XmL input file\n",
    "reef.load_xml('reef.xml')"
   ]
  },
  {
   "cell_type": "markdown",
   "metadata": {},
   "source": [
    "Visualise the initial conditions of your simulation can be done using the following command:"
   ]
  },
  {
   "cell_type": "code",
   "execution_count": null,
   "metadata": {
    "scrolled": false
   },
   "outputs": [],
   "source": [
    "reef.core.initialSetting(size=(10,4), fname=None) #'input',dpi=400)"
   ]
  },
  {
   "cell_type": "markdown",
   "metadata": {},
   "source": [
    "## <a name=\"run\"></a>  Model simulation\n",
    "\n",
    "The core of the code consist in solving the system of ODEs from the **GLV** equations using the **RKF** method.\n",
    "\n",
    "Once a community association population is resolved, carbonate production is calculated using a carbonate production factor. Production factors are specified for the maximum population, and linearly scaled to the actual population.\n",
    "\n",
    "To run the model for a given time period [years], the following function needs to be called:"
   ]
  },
  {
   "cell_type": "code",
   "execution_count": null,
   "metadata": {},
   "outputs": [],
   "source": [
    "reef.run_to_time(-1500,showtime=500.,verbose=False)"
   ]
  },
  {
   "cell_type": "markdown",
   "metadata": {},
   "source": [
    "## <a name=\"results\"></a>  Model results\n",
    "\n",
    "All the output from the model run can be plotted on the notebook using a series of internal functions presented below.\n",
    "\n",
    "First one can specify a colormap to use for the plot using one of the matplotlib predefined colormap proposed here: \n",
    "- [colormaps_reference](http://matplotlib.org/examples/color/colormaps_reference.html)"
   ]
  },
  {
   "cell_type": "code",
   "execution_count": null,
   "metadata": {},
   "outputs": [],
   "source": [
    "from matplotlib.cm import terrain, plasma\n",
    "\n",
    "nbcolors = len(reef.core.coralH)+10\n",
    "#colors = cmo.cm.dense(np.linspace(0, 4, nbcolors))\n",
    "colors = terrain(np.linspace(0, 1, nbcolors))\n",
    "\n",
    "nbcolors = len(reef.core.layTime)+3\n",
    "colors2 = cmo.cm.haline_r(np.linspace(0, 1, nbcolors))"
   ]
  },
  {
   "cell_type": "markdown",
   "metadata": {},
   "source": [
    "### Communities population evolution\n",
    "\n",
    "- with time: `reef.plot.communityTime`\n",
    "- with depth: `reef.plot.communityDepth`"
   ]
  },
  {
   "cell_type": "code",
   "execution_count": null,
   "metadata": {
    "scrolled": false
   },
   "outputs": [],
   "source": [
    "reef.plot.communityTime(colors=colors, size=(10,4), font=8, dpi=100,fname=None) #'apop_t.pdf')\n",
    "reef.plot.communityDepth(colors=colors, size=(10,4), font=8, dpi=100, fname =None) #'apop_d.pdf')\n",
    "reef.plot.accommodationTime(size=(10,4), font=8, dpi=100, fname =None) #'acc_t.pdf')"
   ]
  },
  {
   "cell_type": "markdown",
   "metadata": {},
   "source": [
    "### Coral synthetic core\n",
    "\n",
    "The main output of the model consists in the synthetic core which shows the evolution of the coral stratigraphic architecture obtained from the interactions among species and with their environment. The plot is obtained using the following function: \n",
    "- `reef.plot.drawCore`\n",
    "\n",
    "The user has the option to save: \n",
    "- the figure using the `figname` parameter (`figname` could either have a _.png_ or _.pdf_ extension)\n",
    "- the model output as a _CSV_ file using the `filename` parameter. This will dump all output dataset for further analysis if required."
   ]
  },
  {
   "cell_type": "code",
   "execution_count": null,
   "metadata": {},
   "outputs": [],
   "source": [
    "#help(reef.plot.drawCore)"
   ]
  },
  {
   "cell_type": "code",
   "execution_count": null,
   "metadata": {
    "scrolled": false
   },
   "outputs": [],
   "source": [
    "reef.plot.drawCore(lwidth = 3, colsed=colors, tstep=20, coltime = colors2, size=(11,15), font=8, dpi=5, \n",
    "                   figname=None) #'core.pdf')"
   ]
  },
  {
   "cell_type": "markdown",
   "metadata": {},
   "source": [
    "## <a name=\"analyse\"></a>  Analysing model results\n",
    "\n",
    "Figure below presents the GBR-representative assemblages summarised by Dechnik (2016) as well as the simulated core by pyReef-Core. The modelled core is 35 m long and is composed of three assemblages characteristic of an exposed margin and carbonate sediments. \n",
    "\n",
    "The simulation portrays two distinct assemblage transitions from massive assemblages representing deep (20-30 m), low-flow conditions to a faster-growing, tabular-and-branching assemblage characteristic of the 6-20 m depth interval, which\n",
    "is succeeded in shallow water ( < 6 m) by a robust-branching assemblage representing higher-energy conditions.\n",
    "\n",
    "<div align=\"center\">\n",
    "    <img width=900 src=\"https://rawgit.com/pyReef-model/pyReefCore/master/mfigs/fig6.jpg\" alt=\"Idealised case shallowing-up fossil reef sequence\" title=\"Idealised case shallowing-up fossil reef sequence\"</img>\n",
    "</div>\n",
    "\n",
    "As sea-level rises from 8.5 to 6.5 ka, the deeper assemblages have sufficient accommodation space (>20 m) and low-flow to thrive. However, greater sediment input at depth is inhibitive in the early part of the simulation at the base of the core (32-35 m). As sea-level begins to stabilise (top right panel Fig. above), accommodation space decreases and moderate-deep assemblages start to dominate the sequence up to 4.7 ka (bottom left panel). \n",
    "\n",
    "<br/>\n",
    "<br/>\n",
    "<div align=\"center\">\n",
    "    <img width=850 src=\"https://rawgit.com/pyReef-model/pyReefCore/master/mfigs/fig5.jpg\" alt=\"communities changes & core characteristics\"</img>\n",
    "</div>\n",
    "<br/>\n",
    "\n",
    "\n",
    "Following stabilisation from 4.7 to 3.2 ka, shallow assemblages develop as a result of the decreased accommodation space ($\\sim$6 m at 4.7 ka), high-velocity hydrodynamic conditions and reduced sediment input. Assemblage growth rates (bottom right panel) show a pattern similar to the population number curves with values lower than assemblage maximum production rates (Table 2) indicative of the effects of environmental factors (sediment input and flow velocity) on the growth of each assemblage. \n",
    "\n",
    "The deeper assemblage is 15 m thick and is composed of 30-60 % carbonate sediment and is succeeded by $\\sim$12 m of moderate-deep assemblages with a lesser proportion of sediment. The last 6-7 m of core are predominantly formed by shallow assemblages with on average less than 20% of carbonate sediments. The simulated shallowing-up sequence accurately reflects expected shift from 20 deep to moderately-deep assemblages at $\\sim$15-20 m depth, and from moderately-deep to shallow assemblages at $\\sim$6 m depth proposed by Cabioch et al. (1999) and Dechnik (2016). \n",
    "\n",
    "The simulated sequence relates well with the description proposed by Dechnik (2016) and reproduces the distinct assemblages defined in the idealised reef sequences found on exposed margin along the GBR."
   ]
  },
  {
   "cell_type": "markdown",
   "metadata": {},
   "source": [
    "***\n",
    "\n",
    "The modelled core reaches sea-level at around 2.5 ka (Fig. 6 which also correlates well with values reported for several reefs in the GBR (Davies and Hopley, 1983; Dechnik et al., 2015). Average vertical accretion rate implied by the model is around 4.1 m/kyr, again in the range of actual drill cores average rates which varies around 3 to 5 m/ka on exposed reef margins (Davies and Hopley, 1983; Camoin et al., 2012; Dechnik et al., 2015). \n",
    "\n",
    "It is also worth noting that coral growth becomes predominant within the sequence at ∼7.8 ka in the modelled core which coheres with the observed delay in reef initiation of approximately 1 ka (Dechnik et al., 2015) after initial flooding of the substrate during the Holocene transgression. We also notice that the transitions between assemblages also correspond to periods where the proportion of carbonate sediment\n",
    " deposited increases. It mimics a lag between optimal conditions from one assemblage to the other and relates to the choice of environmental threshold functions that were imposed in our simulation. \n",
    " \n",
    "Overall, the model reproduces the details of the formation of shallowing-upward sequences both in terms of assemblages succession, accretion rates, deposited thicknesses and timing of initiation. It can be applied to estimate the impact of changing environmental conditions on growth rates and patterns under many different settings and initial conditions."
   ]
  },
  {
   "cell_type": "code",
   "execution_count": null,
   "metadata": {},
   "outputs": [],
   "source": [
    "!rm -rf reefout*"
   ]
  },
  {
   "cell_type": "code",
   "execution_count": null,
   "metadata": {},
   "outputs": [],
   "source": []
  }
 ],
 "metadata": {
  "kernelspec": {
   "display_name": "Python 2",
   "language": "python",
   "name": "python2"
  },
  "language_info": {
   "codemirror_mode": {
    "name": "ipython",
    "version": 2
   },
   "file_extension": ".py",
   "mimetype": "text/x-python",
   "name": "python",
   "nbconvert_exporter": "python",
   "pygments_lexer": "ipython2",
   "version": "2.7.13"
  }
 },
 "nbformat": 4,
 "nbformat_minor": 1
}
