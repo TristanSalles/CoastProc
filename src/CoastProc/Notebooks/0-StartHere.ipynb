{
 "cells": [
  {
   "cell_type": "markdown",
   "metadata": {},
   "source": [
    "# Coastal Processes, Environments & Systems\n",
    "\n",
    "\n",
    "This part of the course focuses on coastal systems analysis using both *ocean data* from a variety of sources (hindcast and forecast data, satellite observations, radar, moored buoys) & *numerical models* of shoreline changes, wave dynamics and coral reef evolution.\n",
    "\n",
    "The emphasise will be on:\n",
    "\n",
    "* **How to query and analyse numerical and ocean data?**\n",
    "* **What can we learn from ocean and wave models on coastal evolution?**\n",
    "* **How to use these models and what are their limitations?**\n",
    "\n"
   ]
  },
  {
   "cell_type": "code",
   "execution_count": 1,
   "metadata": {},
   "outputs": [
    {
     "data": {
      "text/html": [
       "\n",
       "        <iframe\n",
       "            width=\"800\"\n",
       "            height=\"700\"\n",
       "            src=\"https://bit.ly/38FOSkc\"\n",
       "            frameborder=\"0\"\n",
       "            allowfullscreen\n",
       "        ></iframe>\n",
       "        "
      ],
      "text/plain": [
       "<IPython.lib.display.IFrame at 0x7f71d8bee2b0>"
      ]
     },
     "execution_count": 1,
     "metadata": {},
     "output_type": "execute_result"
    }
   ],
   "source": [
    "from IPython.display import IFrame\n",
    "IFrame(src='https://bit.ly/38FOSkc', width=800, height=700)"
   ]
  },
  {
   "cell_type": "markdown",
   "metadata": {},
   "source": [
    "\n",
    "[![Documentation Status](https://readthedocs.org/projects/coastproc/badge/?version=latest)](https://coastproc.readthedocs.io/en/latest/?badge=latest)\n",
    "\n",
    "\n",
    "Today, numerical modelling and ocean data query techniques are routinely applied by governmental agencies, companies and research organisations to tackle complex coastal problems. It is based on advanced physical models and engineering approaches designed to describe and observe the connections between ocean dynamics and coastal evolution.\n",
    "\n",
    "\n",
    "Over the last 20 years, major improvements in our understanding of coastal processes have been related to (1) easier access to observational dataset and (2) improved coastal numerical models. **It is now critical for any graduates to have a sense of how to access these dataset efficiently, how to process them using simple coding tools and how to interpret them**.\n",
    "\n",
    "During this course, we will learn how to do that using web-enabled open source technologies that you will be able to reuse in the future."
   ]
  },
  {
   "cell_type": "markdown",
   "metadata": {},
   "source": [
    "<div class=\"alert alert-block alert-info\">We will use Jupyter, a web application that allows you to create and share documents that contain live code, equations, visualizations and explanatory text. </div>\n",
    "\n",
    "There are several advantages of using python as a general data analysis language and the notebook environment is a versatile tool that is designed to be interactive, user-friendly, open-source and sharable. \n",
    "\n",
    "## [**Introduction to IPython notebook**](notebooks/IntroNotebook.ipynb)"
   ]
  },
  {
   "cell_type": "markdown",
   "metadata": {},
   "source": [
    "# Navigation / Notebooks\n",
    "\n",
    "\n",
    "## [**Ocean data query**](notebooks/QueryOcean) \n",
    "\n",
    "> Understanding how ocean data are stored, their origin and how to quickly retrieve particular information from them! \n",
    "\n",
    "\n",
    "## [**Analysing wave climate**](notebooks/WaveClimate)\n",
    "\n",
    "> Extract data from different regions along Australia and evaluate wave modal conditions and seasonal changes.\n",
    "\n",
    "## [**Quantifying beach processes**](notebooks/BeachProcesses) & [**coastal changes**](notebooks/CoastalEvolution) \n",
    "\n",
    "> Estimate how ocean coasts are affected by variations in mean sea level, extreme waves, storm surges and longshore drift.\n",
    "\n",
    "## [**Long-term evolution & reef evolution**](notebooks/LongTerm) \n",
    "\n",
    "> Evaluation of marine sediment transport over thousands of years and coral reef evolution under abiotic forcings. \n"
   ]
  },
  {
   "cell_type": "code",
   "execution_count": null,
   "metadata": {},
   "outputs": [],
   "source": []
  }
 ],
 "metadata": {
  "kernelspec": {
   "display_name": "Python 3",
   "language": "python",
   "name": "python3"
  },
  "language_info": {
   "codemirror_mode": {
    "name": "ipython",
    "version": 3
   },
   "file_extension": ".py",
   "mimetype": "text/x-python",
   "name": "python",
   "nbconvert_exporter": "python",
   "pygments_lexer": "ipython3",
   "version": "3.5.3"
  }
 },
 "nbformat": 4,
 "nbformat_minor": 2
}
