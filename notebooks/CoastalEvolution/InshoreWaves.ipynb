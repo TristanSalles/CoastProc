{
 "cells": [
  {
   "cell_type": "code",
   "execution_count": null,
   "metadata": {},
   "outputs": [],
   "source": [
    "%config InlineBackend.figure_format = 'svg' \n",
    "%matplotlib inline"
   ]
  },
  {
   "cell_type": "markdown",
   "metadata": {},
   "source": [
    "# Inshore wave data for Narrabeen Beach\n",
    "\n",
    "Since March 2016, an archive of inshore wave information has been made available, currently spanning the fixed period of 1979-2014 from the **Narrabeen-Collaroy Beach Survey Program**.\n",
    "\n",
    "All data can be downloaded from the Narrabeen data repository: http://narrabeen.wrl.unsw.edu.au."
   ]
  },
  {
   "cell_type": "code",
   "execution_count": null,
   "metadata": {},
   "outputs": [],
   "source": [
    "import requests\n",
    "import io\n",
    "import scipy\n",
    "import matplotlib.pyplot as plt\n",
    "import numpy as np\n",
    "import pandas as pd\n",
    "import matplotlib.dates as mdates\n",
    "import datetime as dt\n",
    "from pylab import *\n",
    "\n",
    "from pandas.plotting import register_matplotlib_converters\n",
    "register_matplotlib_converters()"
   ]
  },
  {
   "cell_type": "markdown",
   "metadata": {},
   "source": [
    "\n",
    "# Loading the dataset\n",
    "\n",
    "\n",
    "The data has already been downloaded for you and consists of a `.csv` files (comma-separated values). \n",
    "\n",
    "This is a commonly used data format that opens easily in a range of software programs such as Notepad, Microsoft Excel, and obviously Python.\n"
   ]
  },
  {
   "cell_type": "code",
   "execution_count": null,
   "metadata": {},
   "outputs": [],
   "source": [
    "# Manually define names for each column\n",
    "names = [\n",
    "    \"Profile\",\n",
    "    \"date\",\n",
    "    \"Hs\",\n",
    "    \"Tp\",\n",
    "    \"Dir\",\n",
    "    \"Flag\"\n",
    "]\n",
    "\n",
    "df = pd.read_csv('../../dataset/Inshore_Waves.csv', encoding=\"utf8\", names=names, skiprows=1)\n",
    "dates = pd.to_datetime(df['date'], format = '%d/%m/%Y %H:%M')\n",
    "\n",
    "# Append a new column at the end of our iribarren values\n",
    "df[\"time\"] = dates"
   ]
  },
  {
   "cell_type": "markdown",
   "metadata": {},
   "source": [
    "# Plotting significant wave height\n",
    "\n",
    "Plot the inshore wave data, showing significant wave height..."
   ]
  },
  {
   "cell_type": "code",
   "execution_count": null,
   "metadata": {},
   "outputs": [],
   "source": [
    "def plotHsSeries(PID, start_date, end_date):\n",
    "    \n",
    "    mask = (df['time'] > start_date) & (df['time'] <= end_date)\n",
    "    df_time = df.loc[mask]\n",
    "    \n",
    "    MyDateFormatter = DateFormatter('%d-%b')\n",
    "    fig = plt.figure(figsize=(11,4), dpi=160) \n",
    "    ax1 = fig.add_subplot(111)\n",
    "    \n",
    "    for k in range(len(PID)):\n",
    "        ids1 = np.where(df_time.Profile==PID[k])[0]\n",
    "        ax1.plot(df_time['time'].iloc[ids1],df_time['Hs'].iloc[ids1],linewidth=1,label=PID[k]) \n",
    "\n",
    "    locator = mdates.AutoDateLocator()\n",
    "    ax1.xaxis.set_major_locator(locator)\n",
    "    ax1.xaxis.set_major_formatter(MyDateFormatter)\n",
    "    ax1.grid(True)\n",
    "    setp(gca().get_xticklabels(), rotation=0, horizontalalignment='center')\n",
    "    ax1.set_ylabel('$H_s$ (m)')\n",
    "    ax1.legend()\n",
    "    \n",
    "    plt.title('Narrabeen-Collaroy Wave Height from '+str(start_date)+' to '+str(end_date),fontsize=10)\n",
    "    \n",
    "    return"
   ]
  },
  {
   "cell_type": "code",
   "execution_count": null,
   "metadata": {},
   "outputs": [],
   "source": [
    "plotHsSeries(PID=['PF1','PF8'], start_date = '2007-6-1', end_date = '2007-7-1')"
   ]
  },
  {
   "cell_type": "markdown",
   "metadata": {},
   "source": [
    "# Plotting significant wave period\n",
    "\n",
    "Plot the inshore wave data, showing peak wave period (Tp)..."
   ]
  },
  {
   "cell_type": "code",
   "execution_count": null,
   "metadata": {},
   "outputs": [],
   "source": [
    "def plotTpSeries(PID, start_date, end_date):\n",
    "    \n",
    "    mask = (df['time'] > start_date) & (df['time'] <= end_date)\n",
    "    df_time = df.loc[mask]\n",
    "    \n",
    "    MyDateFormatter = DateFormatter('%d-%b')\n",
    "    fig = plt.figure(figsize=(11,4), dpi=160) \n",
    "    ax1 = fig.add_subplot(111)\n",
    "    \n",
    "    ids1 = np.where(df_time.Profile==PID)[0]\n",
    "    ax1.plot(df_time['time'].iloc[ids1],df_time['Tp'].iloc[ids1],linewidth=1,label=PID,color='k') \n",
    "\n",
    "    locator = mdates.AutoDateLocator()\n",
    "    ax1.xaxis.set_major_locator(locator)\n",
    "    ax1.xaxis.set_major_formatter(MyDateFormatter)\n",
    "    ax1.grid(True)\n",
    "    setp(gca().get_xticklabels(), rotation=0, horizontalalignment='center')\n",
    "    ax1.set_ylabel('$T_p$ (s)')\n",
    "    ax1.legend()\n",
    "    plt.title('Narrabeen-Collaroy Wave Height from '+str(start_date)+' to '+str(end_date),fontsize=10)\n",
    "    \n",
    "    return"
   ]
  },
  {
   "cell_type": "code",
   "execution_count": null,
   "metadata": {},
   "outputs": [],
   "source": [
    "plotTpSeries(PID='PF1', start_date = '2007-6-1', end_date = '2007-7-1')"
   ]
  },
  {
   "cell_type": "markdown",
   "metadata": {},
   "source": [
    "# Plotting wave direction\n",
    "\n",
    "Plot the inshore wave data, showing wave direction..."
   ]
  },
  {
   "cell_type": "code",
   "execution_count": null,
   "metadata": {},
   "outputs": [],
   "source": [
    "def plotDirSeries(PID, start_date, end_date):\n",
    "    \n",
    "    mask = (df['time'] > start_date) & (df['time'] <= end_date)\n",
    "    df_time = df.loc[mask]\n",
    "    \n",
    "    MyDateFormatter = DateFormatter('%d-%b')\n",
    "    fig = plt.figure(figsize=(11,4), dpi=160) \n",
    "    ax1 = fig.add_subplot(111)\n",
    "    \n",
    "    for k in range(len(PID)):\n",
    "        ids1 = np.where(df_time.Profile==PID[k])[0]\n",
    "        ax1.plot(df_time['time'].iloc[ids1],df_time['Dir'].iloc[ids1],'.',label=PID[k], markersize=2) \n",
    "\n",
    "    locator = mdates.AutoDateLocator()\n",
    "    ax1.xaxis.set_major_locator(locator)\n",
    "    ax1.xaxis.set_major_formatter(MyDateFormatter)\n",
    "    ax1.grid(True)\n",
    "    setp(gca().get_xticklabels(), rotation=0, horizontalalignment='center')\n",
    "    ax1.set_ylabel('Dir ($^o$)')\n",
    "    ax1.legend()\n",
    "    plt.title('Narrabeen-Collaroy Wave Direction from '+str(start_date)+' to '+str(end_date),fontsize=10)\n",
    "    \n",
    "    return"
   ]
  },
  {
   "cell_type": "code",
   "execution_count": null,
   "metadata": {},
   "outputs": [],
   "source": [
    "plotDirSeries(PID=['PF1','PF8'], start_date = '2007-6-1', end_date = '2007-7-1')"
   ]
  },
  {
   "cell_type": "code",
   "execution_count": null,
   "metadata": {},
   "outputs": [],
   "source": []
  }
 ],
 "metadata": {
  "kernelspec": {
   "display_name": "Python 3 (ipykernel)",
   "language": "python",
   "name": "python3"
  },
  "language_info": {
   "codemirror_mode": {
    "name": "ipython",
    "version": 3
   },
   "file_extension": ".py",
   "mimetype": "text/x-python",
   "name": "python",
   "nbconvert_exporter": "python",
   "pygments_lexer": "ipython3",
   "version": "3.8.12"
  }
 },
 "nbformat": 4,
 "nbformat_minor": 2
}
