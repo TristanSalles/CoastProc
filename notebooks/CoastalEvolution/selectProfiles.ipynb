{
 "cells": [
  {
   "cell_type": "code",
   "execution_count": null,
   "metadata": {},
   "outputs": [],
   "source": [
    "import os\n",
    "import pickle\n",
    "import joblib\n",
    "import numpy as np\n",
    "import pandas as pd\n",
    "import datetime as dt\n",
    "\n",
    "import matplotlib.pyplot as plt\n",
    "import matplotlib.dates as mdates\n",
    "\n",
    "from pybeach.beach import Profile\n",
    "from pybeach.support import data_support as ds\n",
    "from pybeach.support import classifier_support as cs\n",
    "\n",
    "from pylab import *\n",
    "\n",
    "from pandas.plotting import register_matplotlib_converters\n",
    "register_matplotlib_converters()\n",
    "\n",
    "from pybeach.beach import Profile\n",
    "import warnings\n",
    "warnings.simplefilter(\"ignore\", UserWarning)\n",
    "\n",
    "# Plotting Paramaters\n",
    "params = {'legend.fontsize': 10,\n",
    "           'axes.labelsize': 10,\n",
    "           'axes.labelweight': 'regular',\n",
    "           'axes.titlesize': 11,\n",
    "           'axes.titleweight': 'regular',\n",
    "           'xtick.labelsize': 10,\n",
    "           'ytick.labelsize': 10,\n",
    "           'mathtext.default':'regular'}\n",
    "plt.rcParams.update(params)\n",
    "\n",
    "%config InlineBackend.figure_format = 'svg' \n",
    "%matplotlib inline"
   ]
  },
  {
   "cell_type": "markdown",
   "metadata": {},
   "source": [
    "# Analyse Narrabeen Beach Profile Adjustment\n",
    "\n",
    "The data has already been downloaded for you and consists of a .csv files (comma-separated values).\n",
    "This is a commonly used data format that opens easily in a range of software programs such as Notepad, Microsoft Excel, and obviously Python."
   ]
  },
  {
   "cell_type": "code",
   "execution_count": null,
   "metadata": {},
   "outputs": [],
   "source": [
    "# Manually define names for each column\n",
    "names = [\n",
    "    \"Site\",\n",
    "    \"Profile\",\n",
    "    \"date\",\n",
    "    \"x\",\n",
    "    \"z\",\n",
    "    \"Flag\"\n",
    "]\n",
    "df = pd.read_csv('../../dataset/Narrabeen_Profiles.csv', encoding=\"utf8\", names=names, skiprows=1)\n",
    "dates = pd.to_datetime(df['date'], format = '%Y-%m-%d')\n",
    "\n",
    "# Append a new column at the end of our iribarren values\n",
    "df[\"time\"] = dates"
   ]
  },
  {
   "cell_type": "code",
   "execution_count": null,
   "metadata": {},
   "outputs": [],
   "source": [
    "df"
   ]
  },
  {
   "cell_type": "markdown",
   "metadata": {},
   "source": [
    "Mean sea level for 1966-1968 was assigned a value of 0.000m on the **Australian Height Datum** (AHD) at 30 tide gauges around the coast of the Australian continent.\n",
    "\n",
    "# Plotting beach profiles"
   ]
  },
  {
   "cell_type": "code",
   "execution_count": null,
   "metadata": {},
   "outputs": [],
   "source": [
    "def plotProfiles(PID, start_date, end_date):\n",
    "\n",
    "    mask = (df['time'] >= start_date) & (df['time'] <= end_date)\n",
    "    df_time = df.loc[mask]\n",
    "\n",
    "    timeval = df_time.time.unique()\n",
    "    timeval = pd.to_datetime(timeval)\n",
    "\n",
    "    profiletime = []\n",
    "    for k in range(len(timeval)):\n",
    "        profiletime.append(str(timeval[k].date()))\n",
    "    \n",
    "    MyDateFormatter = DateFormatter('%d-%b-%Y')\n",
    "    fig = plt.figure(figsize=(11,4), dpi=160) \n",
    "\n",
    "    ax1 = plt.gca()\n",
    "\n",
    "    ax1.plot([0, 200], [0, 0], \"k--\", linewidth=1)\n",
    "\n",
    "    maxx = 0.\n",
    "\n",
    "    for k in range(len(profiletime)):\n",
    "        ids1 = np.where(np.logical_and(df_time.Profile==PID,df_time.time==profiletime[k]))[0]\n",
    "        maxx = max(maxx,df_time['x'].iloc[ids1].max())\n",
    "        ax1.plot(df_time['x'].iloc[ids1],df_time['z'].iloc[ids1],linewidth=2,label=profiletime[k]) \n",
    "\n",
    "\n",
    "    ax1.set_ylim(-5, 10)\n",
    "    ax1.set_xlim(0, maxx)\n",
    "\n",
    "    ax1.grid(which='major', axis='y', linestyle='--')\n",
    "\n",
    "    ax1.set_ylabel('Elevation (AHD)')\n",
    "    ax1.set_xlabel('Chainage (m)')\n",
    "    ax1.legend()\n",
    "\n",
    "    plt.title('Narrabeen-Collaroy Beach Profiles '+str(PID),fontsize=11)\n",
    "    ax1.legend(loc='upper center', bbox_to_anchor=(0.5, -0.2), shadow=False, ncol=5, frameon=False)\n",
    "    \n",
    "    return"
   ]
  },
  {
   "cell_type": "code",
   "execution_count": null,
   "metadata": {},
   "outputs": [],
   "source": [
    "plotProfiles(PID='PF1', start_date = '2007-5-1', end_date = '2007-8-1')"
   ]
  },
  {
   "cell_type": "code",
   "execution_count": null,
   "metadata": {},
   "outputs": [],
   "source": [
    "plotProfiles(PID='PF4', start_date = '2007-5-1', end_date = '2007-8-1')"
   ]
  },
  {
   "cell_type": "markdown",
   "metadata": {},
   "source": [
    "# Extract one single profile\n",
    "\n",
    "\n"
   ]
  },
  {
   "cell_type": "code",
   "execution_count": null,
   "metadata": {},
   "outputs": [],
   "source": [
    "def getOneProfile(PID, date):\n",
    "\n",
    "    mask = (df['time'] >= date) & (df['time'] <= date)\n",
    "    df_time = df.loc[mask]\n",
    "\n",
    "    timeval = df_time.time.unique()\n",
    "    timeval = pd.to_datetime(timeval)\n",
    "\n",
    "    profiletime = []\n",
    "    profiletime.append(str(timeval[0].date()))\n",
    "    \n",
    "    MyDateFormatter = DateFormatter('%d-%b-%Y')\n",
    "    fig = plt.figure(figsize=(11,4), dpi=160) \n",
    "\n",
    "    ax1 = plt.gca()\n",
    "\n",
    "    ax1.plot([0, 200], [0, 0], \"k--\", linewidth=1)\n",
    "\n",
    "    maxx = 0.\n",
    "\n",
    "    ids1 = np.where(np.logical_and(df_time.Profile==PID,df_time.time==profiletime[0]))[0]\n",
    "    maxx = max(maxx,df_time['x'].iloc[ids1].max())\n",
    "    ax1.plot(df_time['x'].iloc[ids1],df_time['z'].iloc[ids1],linewidth=2,label=profiletime[0]) \n",
    "\n",
    "\n",
    "    ax1.set_ylim(-5, 10)\n",
    "    ax1.set_xlim(0, maxx)\n",
    "\n",
    "    ax1.grid(which='major', axis='y', linestyle='--')\n",
    "\n",
    "    ax1.set_ylabel('Elevation (AHD)')\n",
    "    ax1.set_xlabel('Chainage (m)')\n",
    "    ax1.legend()\n",
    "\n",
    "    plt.title('Narrabeen-Collaroy Beach Profiles '+str(PID),fontsize=11)\n",
    "    ax1.legend(loc='upper center', bbox_to_anchor=(0.5, -0.2), shadow=False, ncol=5, frameon=False)\n",
    "    \n",
    "    profile = pd.concat([df_time['x'].iloc[ids1], df_time['z'].iloc[ids1]], axis=1, keys=['x','z'])\n",
    "    \n",
    "    return profile"
   ]
  },
  {
   "cell_type": "code",
   "execution_count": null,
   "metadata": {},
   "outputs": [],
   "source": [
    "prof = getOneProfile(PID='PF4', date='2007-05-14')"
   ]
  },
  {
   "cell_type": "markdown",
   "metadata": {},
   "source": [
    "# Locating dune toe on cross-shore beach profile transects\n",
    "\n",
    "\n",
    "Based on an array of cross-shore coordinates of shape (m,) and an array of corresponding elevations of shape (m,) for a single profile. The user can then identify the location of the dune toe using the following methods:\n",
    "\n",
    "1. **Maximum curvature** (Stockdon, Sallenger, Holman, & Howd, 2007) - the dune toe is defined as the location of maximum slope change;\n",
    "2. **Relative relief** (Wernette, Houser, & Bishop, 2016) - the dune toe is defined based on relative relief (the ratio of local morphology to computational scale);\n",
    "3. **Perpendicular distance** - the dune toe is defined as the point of maximum perpendicular distance from the straight line drawn between the dune crest and shoreline; and,\n",
    "4. **Machine learning** using Random Forest classification\n",
    "\n",
    "\n",
    "> Stockdon, H. F., Sallenger, A. H., Holman, R. A., & Howd, P. A. (2007). A simple model for the spatially-variable coastal response to hurricanes. Marine Geology, 238(1-4), 1–20. doi:10.1016/j.margeo.2006.11.004\n",
    "\n",
    "\n",
    "> Wernette, P., Houser, C., & Bishop, M. P. (2016). An automated approach for extracting barrier island morphology from digital elevation models. Geomorphology, 262, 1–7. doi:10. 1016/j.geomorph.2016.02.024"
   ]
  },
  {
   "cell_type": "code",
   "execution_count": null,
   "metadata": {},
   "outputs": [],
   "source": [
    "# Profile data\n",
    "x = prof['x'].to_numpy()\n",
    "z = prof['z'].to_numpy()\n",
    "\n",
    "# Instantiate\n",
    "p = Profile(x, z)"
   ]
  },
  {
   "cell_type": "markdown",
   "metadata": {},
   "source": [
    "## Predict dune toe location"
   ]
  },
  {
   "cell_type": "code",
   "execution_count": null,
   "metadata": {},
   "outputs": [],
   "source": [
    "toe_ml = p.predict_dunetoe_ml('wave_embayed_clf') # use the machine learning (ML) method\n",
    "toe_mc = p.predict_dunetoe_mc() # use the maximum curvature (MC) method\n",
    "toe_rr = p.predict_dunetoe_rr() # use the relative relief (RR) method\n",
    "toe_pd = p.predict_dunetoe_pd() # use the perpendicular distance (PD) method"
   ]
  },
  {
   "cell_type": "markdown",
   "metadata": {},
   "source": [
    "## Predict shoreline and dune crest location"
   ]
  },
  {
   "cell_type": "code",
   "execution_count": null,
   "metadata": {},
   "outputs": [],
   "source": [
    "crest = p.predict_dunecrest()\n",
    "shoreline = p.predict_shoreline()"
   ]
  },
  {
   "cell_type": "code",
   "execution_count": null,
   "metadata": {},
   "outputs": [],
   "source": [
    "n=0\n",
    "fig, axes = plt.subplots(1, 1, figsize=(10, 5))\n",
    "toes = [toe_ml[n], toe_mc[n], toe_rr[n], toe_pd[n]]\n",
    "\n",
    "labels = ['Machine learning', 'Maximum curvature', 'Relative relief', 'Perpendicular distance']\n",
    "colors = ['tomato', 'cornflowerblue', 'gold', 'limegreen']\n",
    "\n",
    "axes.plot(x, z, '-k')\n",
    "axes.fill_between([70, 100], [0, 0], y2=-1, color='lightskyblue', alpha=0.5)\n",
    "axes.fill_between(x, z, y2=-1, color='cornsilk', alpha=1)\n",
    "\n",
    "for i, itoe in enumerate(toes): \n",
    "    axes.plot(x[itoe], z[itoe],\n",
    "              'o', color=colors[i], ms=12, mec='k', label=labels[i])\n",
    "axes.plot(x[crest[n]], z[crest[n]], 'v', color='k', ms=12, mec='k', label='Crest')\n",
    "axes.plot(x[shoreline[n]], z[shoreline[n]], '^', color='k', ms=12, mec='k', label='Shoreline')\n",
    "axes.set_xlim(-1, 110)\n",
    "axes.set_ylim(-2, 12)\n",
    "axes.set_title('Evaluation of dune toe position for PF4 on the 2007-05-14')\n",
    "axes.set_xlabel('Cross-shore distance (m)')\n",
    "axes.set_ylabel('Elevation (m)')\n",
    "axes.grid()\n",
    "axes.legend(framealpha=1)\n",
    "plt.show()"
   ]
  },
  {
   "cell_type": "code",
   "execution_count": null,
   "metadata": {},
   "outputs": [],
   "source": []
  },
  {
   "cell_type": "code",
   "execution_count": null,
   "metadata": {},
   "outputs": [],
   "source": []
  }
 ],
 "metadata": {
  "kernelspec": {
   "display_name": "Python 3 (ipykernel)",
   "language": "python",
   "name": "python3"
  },
  "language_info": {
   "codemirror_mode": {
    "name": "ipython",
    "version": 3
   },
   "file_extension": ".py",
   "mimetype": "text/x-python",
   "name": "python",
   "nbconvert_exporter": "python",
   "pygments_lexer": "ipython3",
   "version": "3.8.12"
  }
 },
 "nbformat": 4,
 "nbformat_minor": 2
}
