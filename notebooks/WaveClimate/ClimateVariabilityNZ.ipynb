{
 "cells": [
  {
   "cell_type": "markdown",
   "metadata": {},
   "source": [
    "# Climate variability\n",
    "\n",
    "\n",
    "This second notebook showcases similar functionalities as example 1 but in addition it illustrates how **RADWave** can be used to estimate the influence of climate trends on regional wave patterns.\n",
    "\n",
    "As in the previous notebook, we will be querying data already downloaded from the obtained from Australian Ocean Data Network portal [AODN](https://portal.aodn.org.au/). \n",
    "\n",
    "> We recomend to look at **RADWave** [documentation](https://radwave.readthedocs.io/en/latest/usage.html#getting-altimeter-values-from-data-providers) and the embeded video that explain how to select both a spatial bounding box and a temporal extent from the portal and how to export the file containing the `List of URLs`. This `TXT` file contains a list of `NETCDF` files for each available satellites. \n",
    "\n",
    "\n",
    "## Loading RADWave library and initialisation\n",
    "\n",
    "We first start by importing **RADwave** library into our working space."
   ]
  },
  {
   "cell_type": "code",
   "execution_count": null,
   "metadata": {},
   "outputs": [],
   "source": [
    "import io\n",
    "import scipy\n",
    "import requests\n",
    "import numpy as np \n",
    "import pandas as pd\n",
    "\n",
    "import RADWave as rwave\n",
    "\n",
    "import warnings\n",
    "warnings.filterwarnings(\"ignore\", category=RuntimeWarning) \n",
    "warnings.filterwarnings('ignore', category=FutureWarning) \n",
    "warnings.filterwarnings('ignore', category=UserWarning)\n",
    "\n",
    "%matplotlib inline\n",
    "%config InlineBackend.figure_format = 'svg'"
   ]
  },
  {
   "cell_type": "markdown",
   "metadata": {},
   "source": [
    "Here we will take the list of `NetCDF` URLs downloaded from the wave data portal containing the radar altimeter data for a region located offshore New Zealand ['../dataset/IMOS_NZ.txt']\n",
    "\n",
    "For a detail overview of the options available in the `waveAnalysis` class, you can have a look at the [waveAnalysis API](https://radwave.readthedocs.io/en/latest/RADWave.html#RADWave.altiwave.waveAnalysis).\n",
    "\n",
    "During initialisation we also specify:\n",
    "\n",
    "+ `bbox` the bounding box of the geographical extent for the uploaded dataset following the convention [lon min,lon max,lat min,lat max] \n",
    "+ `stime` the starting time of wave climate analysis following the convention [year, month, day] [we chose the 1st of January 1985]\n",
    "+ `etime` the ending time of wave climate analysis following the convention [year, month, day] [we chose the 31st of December 2018]\n",
    "\n",
    "Here again, we don't specify a list of particular satellites to use (`satNames` keyword) so all of them will be queried. In other words we will look at all the records from the 10 altimeters: \n",
    "\n",
    "JASON-2 - JASON-3 - SARAL - SENTINEL-3A - CRYOSAT-2 - ENVISAT - GEOSAT - ERS-2 - GFO - TOPEX."
   ]
  },
  {
   "cell_type": "code",
   "execution_count": null,
   "metadata": {},
   "outputs": [],
   "source": [
    "wa = rwave.waveAnalysis(altimeterURL='../../dataset/IMOS_NZ.txt', bbox=[175.0,177.0,-47.0,-45.0], \n",
    "                  stime=[1985,1,1], etime=[2022,12,31])"
   ]
  },
  {
   "cell_type": "markdown",
   "metadata": {},
   "source": [
    "## Processing altimeters data\n",
    "\n",
    "After class initialisation querying the actual dataset is realised by calling the `processAltimeterData` function. The description of this function is available from the [API](https://radwave.readthedocs.io/en/latest/RADWave.html#RADWave.altiwave.waveAnalysis.processAltimeterData).\n",
    "\n",
    "The function can take some times to execute depending on the number of NETCDF files to load and the size of the dataset to query (here it should not take more than **30 s**).\n",
    "\n",
    "> **RADWave** uses the uploaded file containing the list of URLs to query via `THREDDS` the remote data. This operation can take *several minutes* and when looking at a large region it is recommended to divide the analyse in smaller regions and download a series of URLs text file instead of the entire domain directly."
   ]
  },
  {
   "cell_type": "code",
   "execution_count": null,
   "metadata": {
    "tags": [
     "hide-output"
    ]
   },
   "outputs": [],
   "source": [
    "wa.processAltimeterData(max_qc=1, altimeter_pick='all', saveCSV = 'altimeterData.csv')"
   ]
  },
  {
   "cell_type": "markdown",
   "metadata": {},
   "source": [
    "Once the dataset has been queried, we can plot the altimeter data points on a map using the `visualiseData` function.\n",
    "\n",
    "This function **plots** and **saves** in a figure the geographical coordinates of processed altimeter data."
   ]
  },
  {
   "cell_type": "code",
   "execution_count": null,
   "metadata": {},
   "outputs": [],
   "source": [
    "wa.visualiseData(title=\"Altimeter data tracks offshore New Zealand\", extent=[166.,179.,-48.,-42.], \n",
    "                 addcity=None, markersize=30, zoom=8,\n",
    "                 fsize=(10, 9), fsave=None)"
   ]
  },
  {
   "cell_type": "markdown",
   "metadata": {},
   "source": [
    "## Computing wave regime and seasonality\n",
    "\n",
    "\n",
    "### Time series\n",
    "\n",
    "To perform wave analysis and compute the wave parameters discussed in the [documentation](https://radwave.readthedocs.io/en/latest/method.html#), we run the `generateTimeSeries` function. And we then plot these time series by calling the `plotTimeSeries` function. "
   ]
  },
  {
   "cell_type": "code",
   "execution_count": null,
   "metadata": {},
   "outputs": [],
   "source": [
    "timeseries = wa.generateTimeSeries()"
   ]
  },
  {
   "cell_type": "code",
   "execution_count": null,
   "metadata": {},
   "outputs": [],
   "source": [
    "wa.plotTimeSeries(time=[1995,2022], series='H', fsize=(12, 5), fsave=None)\n",
    "wa.plotTimeSeries(time=[1995,2022], series='T', fsize=(12, 5), fsave=None)"
   ]
  },
  {
   "cell_type": "markdown",
   "metadata": {},
   "source": [
    "### Seasonability trends \n",
    "\n",
    "In addition to time series, we analyse the seasonal characteristics of the significant wave height and wave period computed from the altimeter dataset using the `computeSeasonalCharacteristics` function is provided in the [API](https://radwave.readthedocs.io/en/latest/RADWave.html#RADWave.altiwave.waveAnalysis.computeSeasonalCharacteristics).\n",
    "\n",
    "#### Significant wave height"
   ]
  },
  {
   "cell_type": "code",
   "execution_count": null,
   "metadata": {},
   "outputs": [],
   "source": [
    "wh_all = wa.computeSeasonalCharacteristics(series='wh', time=[1995,2022], lonlat=None, fsave=None, plot=True)"
   ]
  },
  {
   "cell_type": "markdown",
   "metadata": {},
   "source": [
    "#### Wave period\n",
    "\n",
    "Here we choose to only perform the calculation of the wave period seasonability but we don't plot the associated graphs.  "
   ]
  },
  {
   "cell_type": "code",
   "execution_count": null,
   "metadata": {},
   "outputs": [],
   "source": [
    "T_all = wa.computeSeasonalCharacteristics(series='period', time=[1995,2022], lonlat=None, fsave=None, plot=False)"
   ]
  },
  {
   "cell_type": "markdown",
   "metadata": {},
   "source": [
    "> The function `computeSeasonalCharacteristics` returns 2 **Pandas dataframe** containing the mean monthly values of wave period `T_all` and significant wave height `wh_all`.\n",
    "\n",
    "\n",
    "## 20-years analysis of the impact of climate trend \n",
    "\n",
    "Oscillation in atmospheric patterns is known to alter regional weather conditions and associated trends in wave climate [Godoi et al., 2016].\n",
    "\n",
    "Here we illustrate how the results obtained with **RADWave** can be used to investigate how climate patterns may affect  wave parameters.\n",
    "\n",
    "For the sake of the demonstration, we will focus our analysis on the following indices:\n",
    "\n",
    "+ SOI - Southern Oscillation Index / [information](http://www.bom.gov.au/climate/enso/history/ln-2010-12/SOI-what.shtml)\n",
    "+ AOI - Antarctic Oscillation Index / [information](https://www.cpc.ncep.noaa.gov/products/precip/CWlink/daily_ao_index/aao/aao_index.html)\n",
    "+ SAMI - Southern Annular Mode Index / [information](http://www.bom.gov.au/climate/sam/)\n",
    "\n",
    "We first load the data associated to each index using `Pandas` functionalities.\n",
    "\n",
    "+ Godoi, V.A., Bryan, K.R. and Gorman, R.M., 2016. [Regional influence of climate patterns on the wave climate of the southwestern Pacific: The New Zealand region](https://agupubs.onlinelibrary.wiley.com/doi/pdf/10.1002/2015JC011572). Journal of Geophysical Research: Oceans, 121(6), pp.4056-4076."
   ]
  },
  {
   "cell_type": "code",
   "execution_count": null,
   "metadata": {},
   "outputs": [],
   "source": [
    "# Defining the 20-years timeframe\n",
    "time = [1998,2022] "
   ]
  },
  {
   "cell_type": "markdown",
   "metadata": {},
   "source": [
    "Monthly means of the SOI, AOI & SAMI index are sourced from the National Oceanic and Atmospheric Administration (**NOAA**) and the Natural Environment Research Council from the British Antarctic Survey (**NERC**). \n",
    "\n",
    "For each climate index the anomalies are computed by subtracting overall mean from the monthly means. \n",
    "\n",
    "Then, the same is done for the wave parameters in order to investigate how they are modulated by the climate modes.\n",
    "\n",
    "\n",
    "### SOI - Southern Oscillation Index"
   ]
  },
  {
   "cell_type": "code",
   "execution_count": null,
   "metadata": {},
   "outputs": [],
   "source": [
    "# Dataset URL\n",
    "url = \"https://www.ncdc.noaa.gov/teleconnections/enso/indicators/soi/data.csv\"\n",
    "\n",
    "# Using Pandas to load the file content\n",
    "# soi = requests.get(url).content\n",
    "# soi_data = pd.read_csv(io.StringIO(soi.decode('utf-8')),skiprows=1)\n",
    "filename = \"../../dataset/soi_monthly.txt\"\n",
    "\n",
    "\n",
    "names = [\n",
    "    \"Date\",\n",
    "    \"Value\"\n",
    "]\n",
    "soi_data = pd.read_csv(filename, names=names) #,skiprows=0)\n",
    "\n",
    "# Define year and month of each record\n",
    "soi_data['year'] = soi_data['Date'] // 100\n",
    "soi_data['month'] = soi_data['Date'] % 100 \n",
    "\n",
    "# Extract the information for the specified time interval \n",
    "soi_df = soi_data.drop(soi_data[soi_data.year < time[0]].index)\n",
    "soi_df = soi_df.drop(soi_df[soi_df.year > time[1]].index)\n",
    "\n",
    "# Calculate the 20-years mean \n",
    "soi_mean = soi_df['Value'].mean()\n",
    "\n",
    "# Compute and store the anomalies in the dataframe\n",
    "soi_df['anomaly'] = soi_df['Value']-soi_mean"
   ]
  },
  {
   "cell_type": "markdown",
   "metadata": {},
   "source": [
    "### AOI - Antarctic Oscillation Index"
   ]
  },
  {
   "cell_type": "code",
   "execution_count": null,
   "metadata": {},
   "outputs": [],
   "source": [
    "# Dataset URL\n",
    "url = \"https://www.cpc.ncep.noaa.gov/products/precip/CWlink/daily_ao_index/aao/monthly.aao.index.b79.current.ascii\"\n",
    "\n",
    "# Using Pandas to load the file content\n",
    "aoi = requests.get(url).content\n",
    "aoi_data = pd.read_csv(io.StringIO(aoi.decode('utf-8')),delimiter=r\"\\s+\",header=None)\n",
    "\n",
    "# Rename columns to fit with RADWave dataframe\n",
    "aoi_data = aoi_data.rename(columns={0:\"year\", 1:\"month\", 2:\"Value\"})\n",
    "\n",
    "# Extract the information for the specified time interval \n",
    "aoi_df = aoi_data.drop(aoi_data[aoi_data.year < time[0]].index)\n",
    "aoi_df = aoi_df.drop(aoi_df[aoi_df.year > time[1]].index)\n",
    "\n",
    "# Calculate the 20-years mean \n",
    "aoi_mean = aoi_df['Value'].mean()\n",
    "\n",
    "# Compute and store the anomalies in the dataframe\n",
    "aoi_df['anomaly'] = aoi_df['Value']-aoi_mean"
   ]
  },
  {
   "cell_type": "markdown",
   "metadata": {},
   "source": [
    "### SAMI - Southern Annular Mode Index"
   ]
  },
  {
   "cell_type": "code",
   "execution_count": null,
   "metadata": {},
   "outputs": [],
   "source": [
    "# Dataset URL\n",
    "url = \"http://www.nerc-bas.ac.uk/public/icd/gjma/newsam.1957.2007.txt\"\n",
    "\n",
    "# Using Pandas to load the file content\n",
    "sam = requests.get(url).content\n",
    "sam_data = pd.read_csv(io.StringIO(sam.decode('utf-8')),delimiter=r\"\\s+\")\n",
    "\n",
    "# Rename month values to fit with RADWave dataframe\n",
    "sam_data = sam_data.rename(columns={\"JAN\":1, \"FEB\":2,\n",
    "                      \"MAR\":3, \"APR\":4,\n",
    "                      \"MAY\":5, \"JUN\":6,\n",
    "                      \"JUL\":7, \"AUG\":8,\n",
    "                      \"SEP\": 9, \"OCT\":10,\n",
    "                      \"NOV\":11, \"DEC\":12})\n",
    "\n",
    "# Rename columns to fit with RADWave dataframe\n",
    "sam_data = sam_data.stack().reset_index()\n",
    "sam_data = sam_data.rename(columns={\"level_0\":\"year\", \"level_1\":\"month\", 0:\"Value\"})\n",
    "\n",
    "\n",
    "# Extract the information for the specified time interval \n",
    "sam_df = sam_data.drop(sam_data[sam_data.year < time[0]].index)\n",
    "sam_df = sam_df.drop(sam_df[sam_df.year > time[1]].index)\n",
    "\n",
    "# Calculate the 20-years mean \n",
    "sam_mean = sam_df['Value'].mean()\n",
    "\n",
    "# Compute and store the anomalies in the dataframe\n",
    "sam_df['anomaly'] = sam_df['Value']-sam_mean"
   ]
  },
  {
   "cell_type": "markdown",
   "metadata": {},
   "source": [
    "### RADWave significant wave height and wave period anomalies\n",
    "\n",
    "#### Significant wave height"
   ]
  },
  {
   "cell_type": "code",
   "execution_count": null,
   "metadata": {},
   "outputs": [],
   "source": [
    "# Get monthly significant wave height \n",
    "wh_data = wa.timeseries.groupby(['year', 'month'])[['wh']].apply(np.mean).reset_index()\n",
    "\n",
    "# Extract the information for the specified time interval \n",
    "wh_df = wh_data.drop(wh_data[wh_data.year < time[0]].index)\n",
    "wh_df = wh_df.drop(wh_df[wh_df.year > time[1]].index)\n",
    "\n",
    "# Calculate the 20-years mean \n",
    "wh_mean = wh_df['wh'].mean()\n",
    "\n",
    "# Compute and store the anomalies in the dataframe\n",
    "wh_df['anomaly'] = wh_df['wh']-wh_mean"
   ]
  },
  {
   "cell_type": "markdown",
   "metadata": {},
   "source": [
    "#### Wave period"
   ]
  },
  {
   "cell_type": "code",
   "execution_count": null,
   "metadata": {},
   "outputs": [],
   "source": [
    "# Get monthly mean wave period \n",
    "T_data = wa.timeseries.groupby(['year', 'month'])[['period']].apply(np.mean).reset_index()\n",
    "\n",
    "# Extract the information for the specified time interval \n",
    "T_df = T_data.drop(T_data[T_data.year < time[0]].index)\n",
    "T_df = T_df.drop(T_df[T_df.year > time[1]].index)\n",
    "\n",
    "# Calculate the 20-years mean \n",
    "T_mean = T_df['period'].mean()\n",
    "\n",
    "# Compute and store the anomalies in the dataframe\n",
    "T_df['anomaly'] = T_df['period']-T_mean"
   ]
  },
  {
   "cell_type": "markdown",
   "metadata": {},
   "source": [
    "### Correlations\n",
    "\n",
    "Monthly mean anomalies of significant wave height and wave period can be correlated with monthly mean anomaly time series of the SOI, AOI & SAMI index by computing the **Pearson’s correlation coefficient** (R) for the region of interest. \n",
    "\n",
    "We use [scipy.stats.pearsonr](https://docs.scipy.org/doc/scipy/reference/generated/scipy.stats.pearsonr.html) function to make this calculation. This function returns 2 values:\n",
    "\n",
    "+ r: Pearson’s correlation coefficient.\n",
    "+ p: Two-tailed p-value.\n",
    "\n",
    "> Examples of **Pearson’s correlation coefficient** calculation between climate indices and the significant wave height are provided below:"
   ]
  },
  {
   "cell_type": "code",
   "execution_count": null,
   "metadata": {},
   "outputs": [],
   "source": [
    "# Pearson correlation between significant wave height and SOI\n",
    "monthly_wh_soi = scipy.stats.pearsonr(soi_df['anomaly'],wh_df['anomaly']) \n",
    "print('+ Pearson correlation between significant wave height and SOI:',monthly_wh_soi[0],'\\n')\n",
    "\n",
    "# Pearson correlation between significant wave height and AOI\n",
    "monthly_wh_aoi = scipy.stats.pearsonr(aoi_df['anomaly'],wh_df['anomaly']) \n",
    "print('+ Pearson correlation between significant wave height and AOI:',monthly_wh_aoi[0],'\\n')\n",
    "\n",
    "# Pearson correlation between significant wave height and SAMI\n",
    "monthly_wh_sam = scipy.stats.pearsonr(sam_df['anomaly'],wh_df['anomaly']) \n",
    "print('+ Pearson correlation between significant wave height and SAMI:',monthly_wh_sam[0],'\\n')"
   ]
  },
  {
   "cell_type": "code",
   "execution_count": null,
   "metadata": {},
   "outputs": [],
   "source": []
  },
  {
   "cell_type": "code",
   "execution_count": null,
   "metadata": {},
   "outputs": [],
   "source": []
  }
 ],
 "metadata": {
  "kernelspec": {
   "display_name": "Python 3 (ipykernel)",
   "language": "python",
   "name": "python3"
  },
  "language_info": {
   "codemirror_mode": {
    "name": "ipython",
    "version": 3
   },
   "file_extension": ".py",
   "mimetype": "text/x-python",
   "name": "python",
   "nbconvert_exporter": "python",
   "pygments_lexer": "ipython3",
   "version": "3.8.12"
  }
 },
 "nbformat": 4,
 "nbformat_minor": 4
}
