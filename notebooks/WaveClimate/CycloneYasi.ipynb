{
 "cells": [
  {
   "cell_type": "markdown",
   "metadata": {},
   "source": [
    "# Cyclone Track\n",
    "\n",
    "We will see how we can query wave conditions from altimeter database along a specified cyclone track.\n",
    "\n",
    "## Loading RADWave library and initialisation\n",
    "\n",
    "We first start by importing **RADwave** library into our working space."
   ]
  },
  {
   "cell_type": "code",
   "execution_count": null,
   "metadata": {},
   "outputs": [],
   "source": [
    "import RADWave as rwave\n",
    "\n",
    "import warnings\n",
    "warnings.simplefilter(action='ignore', category=FutureWarning)\n",
    "\n",
    "%matplotlib inline\n",
    "%config InlineBackend.figure_format = 'svg'"
   ]
  },
  {
   "cell_type": "markdown",
   "metadata": {},
   "source": [
    "First we will use already downloaded dataset of track of cyclone YASI. The data was obtained from the Australian Bureau of Meteorology ([BOM cyclone tracks](http://www.bom.gov.au/cyclone/history/tracks/)).\n",
    "\n",
    "To load this file in the `waveAnalysis` class, the cyclone track needs to be a `CSV` file with in the header having the following keyword names `lon`, `lat` & `datetime`. \n",
    "\n",
    "To only visualise the tracks on a map, a minimal number of options have to be set as shown in the cell below:"
   ]
  },
  {
   "cell_type": "code",
   "execution_count": null,
   "metadata": {},
   "outputs": [],
   "source": [
    "cyc = rwave.waveAnalysis(cycloneCSV='../../dataset/2010-YASI.csv')"
   ]
  },
  {
   "cell_type": "markdown",
   "metadata": {},
   "source": [
    "Plotting the tracks is done by using the following function:"
   ]
  },
  {
   "cell_type": "code",
   "execution_count": null,
   "metadata": {},
   "outputs": [],
   "source": [
    "cyc.plotCycloneTracks(title=\"Cyclone YASI Track\", markersize=100, zoom=4, \n",
    "                     extent=[138, 180, -30, -10], fsize=(12, 10))"
   ]
  },
  {
   "cell_type": "markdown",
   "metadata": {},
   "source": [
    "The geographical extent of the cyclone path and the associated time frame can be infered from the figure above. \n",
    "\n",
    "This was used to specify the altimeter data record **location** and **temporal extent** when using the Australian Ocean Data Network portal [AODN](https://portal.aodn.org.au/).\n",
    "\n",
    "\n",
    "> As for the other examples, we recomend to look at **RADWave** [documentation](https://radwave.readthedocs.io/en/latest/usage.html#getting-altimeter-values-from-data-providers) and the embeded video that explain how to select both a spatial bounding box and a temporal extent from the portal and how to export the file containing the `List of URLs`. This `TXT` file contains a list of `NETCDF` files for each available satellites. \n",
    "\n",
    "\n",
    "We will now create 2 new **RADWave** classes names (`wa_east` and `wa_west`) that will, in addition to the cyclone track, set the list of altimeter `NETCDF` URLs files to query for the analyse in 2 different regions.\n",
    "\n",
    "For a detail overview of the options available in this class, you can have a look at the [waveAnalysis API](https://radwave.readthedocs.io/en/latest/RADWave.html#RADWave.altiwave.waveAnalysis).\n",
    "\n",
    "\n",
    "We also call the `processingAltimeterData` function to query the actual dataset and store the altimeter data in each class. The description of this function is available from the [API](https://radwave.readthedocs.io/en/latest/RADWave.html#RADWave.altiwave.waveAnalysis.processingAltimeterData).\n",
    "\n",
    "## For the eastern region"
   ]
  },
  {
   "cell_type": "code",
   "execution_count": null,
   "metadata": {},
   "outputs": [],
   "source": [
    "wa_east = rwave.waveAnalysis(altimeterURL='../../dataset/IMOS_YASI_east.txt', bbox=[170, 175, -17, -12], \n",
    "                  stime=[2011,1,27], etime=[2011,2,4], cycloneCSV='../../dataset/2010-YASI.csv')\n",
    "\n",
    "wa_east.processAltimeterData(altimeter_pick='all', saveCSV = 'altimeterDataE.csv')"
   ]
  },
  {
   "cell_type": "markdown",
   "metadata": {},
   "source": [
    "## For the western region"
   ]
  },
  {
   "cell_type": "code",
   "execution_count": null,
   "metadata": {},
   "outputs": [],
   "source": [
    "wa_west = rwave.waveAnalysis(altimeterURL='../../dataset/IMOS_YASI_west.txt', bbox=[156, 161, -16, -12], \n",
    "                  stime=[2011,1,27], etime=[2011,2,4], cycloneCSV='../../dataset/2010-YASI.csv')\n",
    "\n",
    "wa_west.processAltimeterData(altimeter_pick='all', saveCSV = 'altimeterDataW.csv')"
   ]
  },
  {
   "cell_type": "markdown",
   "metadata": {},
   "source": [
    "In the case where a cyclone track is given when initialising the `waveAnalysis` class, the `visualiseData` plots not only the extent of the altimeter dataset but also the associated path."
   ]
  },
  {
   "cell_type": "code",
   "execution_count": null,
   "metadata": {},
   "outputs": [],
   "source": [
    "wa_east.visualiseData(title=\"Altimeter data east side\", extent=[138, 180, -30, -10.0], \n",
    "                 markersize=35, zoom=4, fsize=(12, 10), fsave=None)\n",
    "\n",
    "wa_west.visualiseData(title=\"Altimeter data west side\", extent=[138, 180, -30, -10.0], \n",
    "                 markersize=35, zoom=4, fsize=(12, 10), fsave=None)"
   ]
  },
  {
   "cell_type": "markdown",
   "metadata": {},
   "source": [
    "# Extracting relevant wave dataset\n",
    "\n",
    "Once the data has been loaded, the following step consist in computing the wave [parameters](https://radwave.readthedocs.io/en/latest/method.html#) by running the `generateTimeSeries` function.\n",
    "\n",
    "This function computes both **instantaneous** and **monthly** wave variables:\n",
    "\n",
    "+ significant wave height (m) - wh & wh_rolling\n",
    "+ wave period (s)  - period & period_rolling\n",
    "+ wave energy flux (kW/m)  - power & power_rolling\n",
    "+ wave average energy density (J/m2)  - energy & energy_rolling\n",
    "+ wave group velocity (m/s)  - speed & speed_rolling"
   ]
  },
  {
   "cell_type": "code",
   "execution_count": null,
   "metadata": {},
   "outputs": [],
   "source": [
    "wa_east.generateTimeSeries()\n",
    "\n",
    "wa_west.generateTimeSeries()"
   ]
  },
  {
   "cell_type": "markdown",
   "metadata": {},
   "source": [
    "From the cyclone track, we find the closest processed altimeter geographical locations that have been recorded in the database (based on a `KDTree` search). \n",
    "\n",
    "> In addition to their coordinates, the altimeter dataset has to be recorded during a user defined time lapse close enough to the cyclone path time at each position.\n",
    "\n",
    "This is done using the `close2Track` function that takes the following arguments:\n",
    "\n",
    "+ `radius`, the maximum radius distance in degree between cyclone position and altimeter data coordinates [here set to 2.]\n",
    "+ `dtmax`, the maximum difference in time between recorded cyclone date and picked altimeter data (hours) [here set to 6]\n",
    "\n",
    "This function stores a Pandas dataframe in the `waveAnalysis` class called `cyclone_data` that contains the following variables:\n",
    "\n",
    "+ altimeter significant wave height (m) - wH\n",
    "+ altimeter wave period (s) - period\n",
    "+ altimeter wave energy flux (kW/m) - power\n",
    "+ altimeter wave average energy density (J/m2) - energy\n",
    "+ altimeter wave group velocity (m/s) - speed\n",
    "+ distance between altimeter coordinates and cyclone path (km) - dist\n",
    "+ cyclone date (datetime) - cdate \n",
    "+ difference in time between recorded cyclone date and altimeter data for specific position (hours) - hours\n",
    "+ cyclone latitude position - clat\n",
    "+ cyclone longitude position - clon\n",
    "+ altimeter data latitude position - lat\n",
    "+ altimeter data longitude position - lon\n",
    "\n",
    "Depending of the available altimeters dataset and the chosen `radius` and `dtmax` parameters, the Pandas dataframe `cyclone_data` will contain different number of values (or can potentially be empty)."
   ]
  },
  {
   "cell_type": "code",
   "execution_count": null,
   "metadata": {
    "scrolled": false
   },
   "outputs": [],
   "source": [
    "wa_east.close2Track(radius=2.,dtmax=6.)\n",
    "display(wa_east.cyclone_data)\n",
    "\n",
    "wa_west.close2Track(radius=2.,dtmax=6.)\n",
    "display(wa_west.cyclone_data)"
   ]
  },
  {
   "cell_type": "markdown",
   "metadata": {},
   "source": [
    "# Visualising the relevant altimeters date\n",
    "\n",
    "**RADWave** provides a plotting function to visualise the processed wave data called `plotCycloneAltiPoint` that can be used to also provide information about wave parameters for each data point (by turning the `showinfo` flag to True as explained in the [API](https://radwave.readthedocs.io/en/latest/RADWave.html#RADWave.altiwave.waveAnalysis.cycloneAltiPoint).\n",
    "\n",
    "An example of how to call this function is presented below:"
   ]
  },
  {
   "cell_type": "code",
   "execution_count": null,
   "metadata": {},
   "outputs": [],
   "source": [
    "wa_west.plotCycloneAltiPoint(showinfo=False, extent=[138, 180, -18, -10], \n",
    "                 markersize=35, zoom=4, fsize=(12, 5))"
   ]
  },
  {
   "cell_type": "code",
   "execution_count": null,
   "metadata": {
    "scrolled": false
   },
   "outputs": [],
   "source": [
    "wa_west.plotCycloneAltiPoint(showinfo=True, extent=[138, 180, -18, -10], \n",
    "                 markersize=35, zoom=4, fsize=(12, 5))"
   ]
  },
  {
   "cell_type": "markdown",
   "metadata": {},
   "source": [
    "> As already mentioned in the different examples, the class **waveAnalysis()** saves most of the processed wave data as Pandas dataframe (such as `timeseries` or `cyclone_data`) that can be used for further analysis."
   ]
  },
  {
   "cell_type": "code",
   "execution_count": null,
   "metadata": {},
   "outputs": [],
   "source": []
  }
 ],
 "metadata": {
  "kernelspec": {
   "display_name": "Python 3 (ipykernel)",
   "language": "python",
   "name": "python3"
  },
  "language_info": {
   "codemirror_mode": {
    "name": "ipython",
    "version": 3
   },
   "file_extension": ".py",
   "mimetype": "text/x-python",
   "name": "python",
   "nbconvert_exporter": "python",
   "pygments_lexer": "ipython3",
   "version": "3.8.12"
  }
 },
 "nbformat": 4,
 "nbformat_minor": 2
}
