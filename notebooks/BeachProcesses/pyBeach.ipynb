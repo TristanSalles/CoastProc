{
 "cells": [
  {
   "cell_type": "markdown",
   "metadata": {},
   "source": [
    "# pybeach\n",
    "\n",
    "### A Python package for locating the dune toe on cross-shore beach profile transects."
   ]
  },
  {
   "cell_type": "code",
   "execution_count": null,
   "metadata": {},
   "outputs": [],
   "source": [
    "import os\n",
    "import pickle\n",
    "import joblib\n",
    "import numpy as np\n",
    "import pandas as pd\n",
    "import matplotlib.pyplot as plt\n",
    "from pybeach.beach import Profile\n",
    "from pybeach.support import data_support as ds\n",
    "from pybeach.support import classifier_support as cs\n",
    "%matplotlib inline"
   ]
  },
  {
   "cell_type": "code",
   "execution_count": null,
   "metadata": {},
   "outputs": [],
   "source": [
    "from pybeach.beach import Profile\n",
    "import warnings\n",
    "warnings.simplefilter(\"ignore\", UserWarning)\n",
    "\n",
    "# Plotting Paramaters\n",
    "params = {'legend.fontsize': 12,\n",
    "           'axes.labelsize': 14,\n",
    "           'axes.labelweight': 'bold',\n",
    "           'axes.titlesize': 14,\n",
    "           'axes.titleweight': 'bold',\n",
    "           'xtick.labelsize': 14,\n",
    "           'ytick.labelsize': 14,\n",
    "           'mathtext.default':'regular'}\n",
    "plt.rcParams.update(params)\n",
    "\n",
    "# example data\n",
    "x = np.arange(0, 80, 0.5)\n",
    "z = np.concatenate((np.linspace(4, 5, 40),\n",
    "                    np.linspace(5, 2, 10),\n",
    "                    np.linspace(2, 0, 91)[1:],\n",
    "                    np.linspace(0, -1, 20)))\n",
    "\n",
    "# instantiate\n",
    "p = Profile(x, z)"
   ]
  },
  {
   "cell_type": "code",
   "execution_count": null,
   "metadata": {},
   "outputs": [],
   "source": [
    "# Predict dune toe location\n",
    "toe_ml = p.predict_dunetoe_ml('wave_embayed_clf') # use the machine learning (ML) method\n",
    "toe_mc = p.predict_dunetoe_mc() # use the maximum curvature (MC) method\n",
    "toe_rr = p.predict_dunetoe_rr() # use the relative relief (RR) method\n",
    "toe_pd = p.predict_dunetoe_pd() # use the perpendicular distance (PD) method"
   ]
  },
  {
   "cell_type": "code",
   "execution_count": null,
   "metadata": {},
   "outputs": [],
   "source": [
    "# Predict shoreline and dune crest location\n",
    "crest = p.predict_dunecrest()\n",
    "shoreline = p.predict_shoreline()"
   ]
  },
  {
   "cell_type": "code",
   "execution_count": null,
   "metadata": {},
   "outputs": [],
   "source": [
    "n=0\n",
    "fig, axes = plt.subplots(1, 1, figsize=(10, 8))\n",
    "toes = [toe_ml[n], toe_mc[n], toe_rr[n], toe_pd[n]]\n",
    "\n",
    "labels = ['Machine learning', 'Maximum curvature', 'Relative relief', 'Perpendicular distance']\n",
    "colors = ['tomato', 'cornflowerblue', 'gold', 'limegreen']\n",
    "\n",
    "axes.plot(x, z, '-k')\n",
    "axes.fill_between([70, 100], [0, 0], y2=-1, color='lightskyblue', alpha=0.5)\n",
    "axes.fill_between(x, z, y2=-1, color='cornsilk', alpha=1)\n",
    "axes.axvspan(-10, -9, color='tomato', alpha = 0.6, label='ML Toe probability') # legend placeholder\n",
    "for i, itoe in enumerate(toes): \n",
    "    axes.plot(x[itoe], z[itoe],\n",
    "              'o', color=colors[i], ms=12, mec='k', label=labels[i])\n",
    "axes.plot(x[crest[n]], z[crest[n]], 'v', color='k', ms=12, mec='k', label='Crest')\n",
    "axes.plot(x[shoreline[n]], z[shoreline[n]], '^', color='k', ms=12, mec='k', label='Shoreline')\n",
    "axes.set_xlim(0, 100)\n",
    "axes.set_ylim(-1, 6)\n",
    "axes.set_title('Example profile')\n",
    "axes.set_xlabel('Cross-shore distance (m)')\n",
    "axes.set_ylabel('Elevation (m)')\n",
    "axes.grid()\n",
    "axes.legend(framealpha=1)\n",
    "fig.show()"
   ]
  },
  {
   "cell_type": "markdown",
   "metadata": {},
   "source": [
    "### Table of Contents\n",
    "\n",
    "This notebook demonstrates a few key elements of pybeach, including:\n",
    "1. [Creating a custom classifier](#1)\n",
    "2. [Predicting dune toes](#2)\n",
    "3. [Example plots and results](#3)"
   ]
  },
  {
   "cell_type": "markdown",
   "metadata": {},
   "source": [
    "### Imports"
   ]
  },
  {
   "cell_type": "code",
   "execution_count": null,
   "metadata": {},
   "outputs": [],
   "source": [
    "import os\n",
    "import pickle\n",
    "import joblib\n",
    "import numpy as np\n",
    "import pandas as pd\n",
    "import matplotlib.pyplot as plt\n",
    "from pybeach.beach import Profile\n",
    "from pybeach.support import data_support as ds\n",
    "from pybeach.support import classifier_support as cs\n",
    "%matplotlib inline"
   ]
  },
  {
   "cell_type": "markdown",
   "metadata": {},
   "source": [
    "### Load test data"
   ]
  },
  {
   "cell_type": "code",
   "execution_count": null,
   "metadata": {},
   "outputs": [],
   "source": [
    "# Load some test data of 200 profiles\n",
    "with open('../../dataset/test_profiles.pkl', 'rb') as f:\n",
    "    data = pickle.load(f)\n",
    "x, z, toe = data['x'], data['z'], data['toe']"
   ]
  },
  {
   "cell_type": "code",
   "execution_count": null,
   "metadata": {},
   "outputs": [],
   "source": [
    "z.shape"
   ]
  },
  {
   "cell_type": "markdown",
   "metadata": {},
   "source": [
    "# 1. Creating a custom classifier <a name=\"1\"></a>"
   ]
  },
  {
   "cell_type": "code",
   "execution_count": null,
   "metadata": {},
   "outputs": [],
   "source": [
    "# Create classifier\n",
    "clf = cs.create_classifier(x, z, toe, window=40, min_buffer=40, max_buffer=200)"
   ]
  },
  {
   "cell_type": "markdown",
   "metadata": {},
   "source": [
    "# 2. Predicting dune toes <a name=\"2\"></a>"
   ]
  },
  {
   "cell_type": "code",
   "execution_count": null,
   "metadata": {},
   "outputs": [],
   "source": [
    "# Instantiate Profile class\n",
    "p = Profile(x, z)\n",
    "# Make predictions of dune toe\n",
    "toe_ml, prob_ml = p.predict_dunetoe_ml('barrier_island_clf', dune_crest='rr', window_size=101, threshold=0.97)\n",
    "toe_mc = p.predict_dunetoe_mc(dune_crest='rr', window_size=101, threshold=0.97)\n",
    "toe_rr = p.predict_dunetoe_rr(dune_crest='rr', window_size=101, threshold=0.97, toe_threshold=0.2, verbose=False)\n",
    "toe_pd = p.predict_dunetoe_pd(dune_crest='rr', window_size=101, threshold=0.97)\n",
    "# Predict dune crest\n",
    "crest = p.predict_dunecrest()\n",
    "# Predict shoreline\n",
    "shoreline = p.predict_shoreline()"
   ]
  },
  {
   "cell_type": "markdown",
   "metadata": {},
   "source": [
    "# 3. Example plots and results <a name=\"3\"></a>"
   ]
  },
  {
   "cell_type": "code",
   "execution_count": null,
   "metadata": {},
   "outputs": [],
   "source": [
    "# Plotting Paramaters\n",
    "params = {'legend.fontsize': 12,\n",
    "           'axes.labelsize': 14,\n",
    "           'axes.labelweight': 'bold',\n",
    "           'axes.titlesize': 14,\n",
    "           'axes.titleweight': 'bold',\n",
    "           'xtick.labelsize': 14,\n",
    "           'ytick.labelsize': 14,\n",
    "           'mathtext.default':'regular'}\n",
    "plt.rcParams.update(params)"
   ]
  },
  {
   "cell_type": "code",
   "execution_count": null,
   "metadata": {},
   "outputs": [],
   "source": [
    "# Specify profile to plot\n",
    "n = 0\n",
    "# Figure metadata\n",
    "fig, axes = plt.subplots(1, 1, figsize=(7, 5))\n",
    "toes = [toe[n], toe_ml[n], toe_mc[n], toe_rr[n], toe_pd[n]]\n",
    "labels = ['True toe', 'Machine learning', 'Maximum curvature', 'Relative relief', 'Perpendicular distance']\n",
    "colors = ['k', 'tomato', 'cornflowerblue', 'gold', 'limegreen']\n",
    "# Generate figure\n",
    "axes.plot(x, z[n], '-k')\n",
    "axes.fill_between([70, 100], [0, 0], y2=-1, color='lightskyblue', alpha=0.5)\n",
    "axes.fill_between(x, z[n], y2=-1, color='cornsilk', alpha=1)\n",
    "axes.axvspan(-10, -9, color='tomato', alpha = 0.6, label='ML Toe probability') # legend placeholder\n",
    "for i, itoe in enumerate(toes): \n",
    "    axes.plot(x[itoe], z[n, itoe],\n",
    "              'o', color=colors[i], ms=12, mec='k', label=labels[i])\n",
    "axes.plot(x[crest[n]], z[n, crest[n]], 'v', color='k', ms=12, mec='k', label='Crest')\n",
    "axes.plot(x[shoreline[n]], z[n, shoreline[n]], '^', color='k', ms=12, mec='k', label='Shoreline')\n",
    "axes.set_xlim(200, 400)\n",
    "axes.set_ylim(0, 6)\n",
    "axes.set_title('Example profile')\n",
    "axes.set_xlabel('Cross-shore distance (m)')\n",
    "axes.set_ylabel('Elevation (m)')\n",
    "axes.grid()\n",
    "axes.legend(framealpha=1)\n",
    "# Plot dune toe ML probability\n",
    "axes2 = axes.twinx() \n",
    "axes2.fill_between(x, prob_ml[n], color='tomato', alpha=0.5)\n",
    "axes2.set_ylim(0, 6)\n",
    "axes2.set_yticks([0, 1])\n",
    "axes2.tick_params(axis='y', labelcolor='tomato')\n",
    "axes2.yaxis.set_label_coords(1.1, 0.1)\n",
    "axes2.set_ylabel('Toe probability', color='tomato', rotation=270);"
   ]
  },
  {
   "cell_type": "code",
   "execution_count": null,
   "metadata": {},
   "outputs": [],
   "source": [
    "# Figure metadata\n",
    "fig, axes = plt.subplots(1, 1, figsize=(5, 5))\n",
    "colors = ['tomato', 'cornflowerblue', 'gold', 'limegreen']\n",
    "labels = ['Machine\\nLearning\\n(MC)', 'Max.\\nCurvature\\n(MC)', 'Relative\\nRelief\\n(RR)', 'Perp.\\nDistance\\n(PD)']\n",
    "# Generate figure\n",
    "data = (toe - np.vstack((toe_ml, toe_mc, toe_rr, toe_pd))).T.astype(\"float64\")\n",
    "# data1[:,2] *= 0.7\n",
    "bplot = axes.boxplot(data,\n",
    "                     labels=labels,\n",
    "                     patch_artist=True,\n",
    "                     medianprops = dict(linewidth=2.5, color='k'))\n",
    "for patch, color in zip(bplot['boxes'], colors):\n",
    "    patch.set_facecolor(color)\n",
    "axes.set_ylabel('Prediction error (m)')\n",
    "axes.set_xlabel('Method', labelpad=5)\n",
    "axes.set_ylim(-40, 40)\n",
    "axes.grid()\n",
    "axes.set_title(\"Performance on test dataset\")\n",
    "plt.tight_layout()"
   ]
  },
  {
   "cell_type": "code",
   "execution_count": null,
   "metadata": {},
   "outputs": [],
   "source": [
    "df = pd.DataFrame({'MAE': [np.absolute(toe-toe_ml).mean(),\n",
    "                           np.absolute(toe-toe_mc).mean(),\n",
    "                           np.absolute(toe-toe_rr).mean(),\n",
    "                           np.absolute(toe-toe_pd).mean()],\n",
    "                   'RMSE': [np.sqrt(np.square(toe-toe_ml).mean()),\n",
    "                            np.sqrt(np.square(toe-toe_mc).mean()),\n",
    "                            np.sqrt(np.square(toe-toe_rr).mean()),\n",
    "                            np.sqrt(np.square(toe-toe_pd).mean())],\n",
    "                   'R2': [1 - (np.square(toe-toe_ml)).sum() / (np.square(toe-toe.mean())).sum(),\n",
    "                          1 - (np.square(toe-toe_mc)).sum() / (np.square(toe-toe.mean())).sum(),\n",
    "                          1 - (np.square(toe-toe_rr)).sum() / (np.square(toe-toe.mean())).sum(),\n",
    "                          1 - (np.square(toe-toe_pd)).sum() / (np.square(toe-toe.mean())).sum()]},\n",
    "                  index=['ML', 'MC', 'RR', 'PD']).round(2)\n",
    "df"
   ]
  },
  {
   "cell_type": "code",
   "execution_count": null,
   "metadata": {},
   "outputs": [],
   "source": []
  },
  {
   "cell_type": "code",
   "execution_count": null,
   "metadata": {},
   "outputs": [],
   "source": []
  }
 ],
 "metadata": {
  "kernelspec": {
   "display_name": "Python 3 (ipykernel)",
   "language": "python",
   "name": "python3"
  },
  "language_info": {
   "codemirror_mode": {
    "name": "ipython",
    "version": 3
   },
   "file_extension": ".py",
   "mimetype": "text/x-python",
   "name": "python",
   "nbconvert_exporter": "python",
   "pygments_lexer": "ipython3",
   "version": "3.8.12"
  }
 },
 "nbformat": 4,
 "nbformat_minor": 4
}
