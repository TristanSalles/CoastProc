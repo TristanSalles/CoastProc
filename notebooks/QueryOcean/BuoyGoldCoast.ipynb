{
 "cells": [
  {
   "cell_type": "markdown",
   "metadata": {},
   "source": [
    "# Gold Coast wave monitoring \n",
    "\n",
    "Measured and derived wave parameters from data collected by a wave monitoring buoy anchored at the Gold Coast.\n",
    "For more information please refer to www.qld.gov.au/waves.\n",
    "\n",
    "The dataset is available from the [Gold Coast wave monitoring](https://www.qld.gov.au/environment/coasts-waterways/beach/monitoring/waves-sites/gold-coast) website. On this page you will find at the bottom right a `Download data` button, which provides a link to a series of dataset.\n",
    "\n",
    "\n",
    "\n",
    "#### Field names:\n",
    "\n",
    "+ `Hs` - Significant wave height, an average of the highest third of the waves in a record (26.6 minute recording period).\n",
    "+ `Hmax` - The maximum wave height in the record.\n",
    "+ `Tz` - The zero upcrossing wave period.\n",
    "+ `Tp` - The peak energy wave period.\n",
    "+ `Peak Direction` - Direction (related to true north) from which the peak period waves are coming from.\n",
    "+ `SST` - Approximation of sea surface temperature."
   ]
  },
  {
   "cell_type": "code",
   "execution_count": null,
   "metadata": {},
   "outputs": [],
   "source": [
    "%matplotlib inline\n",
    "import io\n",
    "import requests\n",
    "from pylab import *\n",
    "import netCDF4\n",
    "import datetime as dt\n",
    "import numpy as np\n",
    "import pandas as pd\n",
    "import matplotlib.dates as mdates\n",
    "\n",
    "from pylab import rcParams\n",
    "import warnings\n",
    "warnings.filterwarnings('ignore')\n",
    "%config InlineBackend.figure_format = 'svg'"
   ]
  },
  {
   "cell_type": "markdown",
   "metadata": {},
   "source": [
    "## Getting the dataset \n",
    "\n",
    "From the website you can either download a `CSV` containing the data or directly get it from the provided `url`."
   ]
  },
  {
   "cell_type": "code",
   "execution_count": null,
   "metadata": {},
   "outputs": [],
   "source": [
    "# Get the URL link\n",
    "# url = \"https://www.data.qld.gov.au/dataset/d656d418-31b1-41fe-aae2-3d8a12588711/resource/73b4e42a-f3e7-4632-8b8e-d52205899048/download/gold-coast_2020-01-01t00_00-2020-12-31t23_30.csv\"\n",
    "url = \"https://www.data.qld.gov.au/dataset/d656d418-31b1-41fe-aae2-3d8a12588711/resource/edc414a8-3ffa-47a2-9d9b-14f07eb22072/download/gold-coast_2021-01-01t00_00-2021-09-30t23_30_waveverifieddata.csv\"\n",
    "# Open it with Pandas Library\n",
    "s = requests.get(url).content\n",
    "data_df = pd.read_csv(io.StringIO(s.decode('utf-8')))"
   ]
  },
  {
   "cell_type": "markdown",
   "metadata": {},
   "source": [
    "We can visualise what is in the dataset by doing:"
   ]
  },
  {
   "cell_type": "code",
   "execution_count": null,
   "metadata": {},
   "outputs": [],
   "source": [
    "data_df"
   ]
  },
  {
   "cell_type": "markdown",
   "metadata": {},
   "source": [
    "First let's define the `Date/Time` format:"
   ]
  },
  {
   "cell_type": "code",
   "execution_count": null,
   "metadata": {},
   "outputs": [],
   "source": [
    "dates = pd.to_datetime(data_df['Date/Time'], format = '%Y-%m-%d %H:%M:%S')"
   ]
  },
  {
   "cell_type": "markdown",
   "metadata": {},
   "source": [
    "## Plotting it\n",
    "\n",
    "We can now plot the data, for example we will plot the significant wave height `Hs` over time:"
   ]
  },
  {
   "cell_type": "code",
   "execution_count": null,
   "metadata": {},
   "outputs": [],
   "source": [
    "# Figure dimension\n",
    "fig = plt.figure(figsize=(10,4)) \n",
    "ax = fig.add_subplot(111)\n",
    "\n",
    "# Hs over time is specified here\n",
    "ax.plot(dates,data_df['Hs'], c='k', linewidth=1) \n",
    "\n",
    "# Decorators for the plot\n",
    "locator = mdates.AutoDateLocator()\n",
    "ax.grid(True)\n",
    "setp(gca().get_xticklabels(), rotation=45, horizontalalignment='right')\n",
    "\n",
    "# Axis labels \n",
    "plt.title('Offshore Gold Coast Buoy Data 2020')\n",
    "ax.xaxis.set_major_locator(locator)\n",
    "ax.xaxis.set_major_formatter(DateFormatter('%Y-%b-%d'))\n",
    "ax.set_ylabel('meters')\n",
    "\n",
    "fig.show()"
   ]
  },
  {
   "cell_type": "markdown",
   "metadata": {},
   "source": [
    "It seems that there are some weird data on this graph... obviously we don't expect to get negative values for `Hs`...\n",
    "\n",
    "## Dealing with nodata\n",
    "\n",
    "Let's find out these values:"
   ]
  },
  {
   "cell_type": "code",
   "execution_count": null,
   "metadata": {},
   "outputs": [],
   "source": [
    "data_df['Hs'].min()"
   ]
  },
  {
   "cell_type": "markdown",
   "metadata": {},
   "source": [
    "Ok, so we have no data values that are specified as -99.9. \n",
    "\n",
    "Instead of giving them a default values we will define them as `NaN` directly."
   ]
  },
  {
   "cell_type": "code",
   "execution_count": null,
   "metadata": {},
   "outputs": [],
   "source": [
    "# We could use that data_df = data_df.replace(-99.9,np.NaN) or the following\n",
    "data_df['Hs'] = data_df['Hs'].replace(data_df['Hs'].min(),np.NaN)"
   ]
  },
  {
   "cell_type": "markdown",
   "metadata": {},
   "source": [
    "Let's plot the dataset now..."
   ]
  },
  {
   "cell_type": "code",
   "execution_count": null,
   "metadata": {},
   "outputs": [],
   "source": [
    "# Figure dimension\n",
    "fig = plt.figure(figsize=(10,4)) \n",
    "ax = fig.add_subplot(111)\n",
    "\n",
    "# Hs over time is specified here\n",
    "ax.plot(dates,data_df['Hs'], linewidth=1) \n",
    "\n",
    "# Decorators for the plot\n",
    "locator = mdates.AutoDateLocator()\n",
    "ax.grid(True)\n",
    "setp(gca().get_xticklabels(), rotation=45, horizontalalignment='right')\n",
    "\n",
    "# Axis labels \n",
    "plt.title('Offshore Gold Coast Buoy Data 2020')\n",
    "ax.xaxis.set_major_locator(locator)\n",
    "ax.xaxis.set_major_formatter(DateFormatter('%Y-%b-%d'))\n",
    "ax.set_ylabel('meters')\n",
    "\n",
    "fig.show()"
   ]
  },
  {
   "cell_type": "markdown",
   "metadata": {},
   "source": [
    "Look's better now! You can try to plot one of the other parameters:\n",
    "\n",
    "+ `Hmax` - The maximum wave height in the record.\n",
    "+ `Tz` - The zero upcrossing wave period.\n",
    "+ `Tp` - The peak energy wave period.\n",
    "+ `SST` - Approximation of sea surface temperature."
   ]
  },
  {
   "cell_type": "code",
   "execution_count": null,
   "metadata": {},
   "outputs": [],
   "source": []
  },
  {
   "cell_type": "code",
   "execution_count": null,
   "metadata": {},
   "outputs": [],
   "source": []
  }
 ],
 "metadata": {
  "kernelspec": {
   "display_name": "Python 3 (ipykernel)",
   "language": "python",
   "name": "python3"
  },
  "language_info": {
   "codemirror_mode": {
    "name": "ipython",
    "version": 3
   },
   "file_extension": ".py",
   "mimetype": "text/x-python",
   "name": "python",
   "nbconvert_exporter": "python",
   "pygments_lexer": "ipython3",
   "version": "3.8.12"
  }
 },
 "nbformat": 4,
 "nbformat_minor": 4
}
