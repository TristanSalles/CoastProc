{
 "cells": [
  {
   "cell_type": "code",
   "execution_count": null,
   "id": "c64e5d70",
   "metadata": {},
   "outputs": [],
   "source": [
    "import numpy as np\n",
    "import pandas as pd\n",
    "import cmocean as cmo\n",
    "import matplotlib.pyplot as plt\n",
    "import matplotlib.cm as cm\n",
    "\n",
    "from windrose import WindroseAxes\n",
    "\n",
    "%matplotlib inline\n",
    "%config InlineBackend.figure_format = 'svg'\n",
    "plt.rcParams['mathtext.fontset'] = 'cm'"
   ]
  },
  {
   "cell_type": "markdown",
   "id": "f3e8040a",
   "metadata": {},
   "source": [
    "# BOM warns of more wet weather, dangerous conditions as east coast low looms off NSW"
   ]
  },
  {
   "cell_type": "markdown",
   "id": "3eb77b7e",
   "metadata": {},
   "source": [
    "<img src=\"https://live-production.wcms.abc-cdn.net.au/846da2c9e8fa6b4b89e28591957cb8f9?impolicy=wcms_crop_resize&cropH=1123&cropW=1996&xPos=25&yPos=0&width=862&height=485\" width=\"100%\">\n",
    "\n",
    "_Moist air streaming in from the east as the low looms offshore on the 02/03/22 \n",
    "source:_ [Earth Nullschool](https://earth.nullschool.net)\n",
    "\n",
    "\n",
    "## What is an east coast low?"
   ]
  },
  {
   "cell_type": "code",
   "execution_count": null,
   "id": "bcf92ba4",
   "metadata": {},
   "outputs": [],
   "source": [
    "from IPython.display import YouTubeVideo\n",
    "\n",
    "def display_yotube_video(url, **kwargs):\n",
    "    \"\"\"\n",
    "    Displays a Youtube video in a Jupyter notebook.\n",
    "    \n",
    "    Args:\n",
    "        url (string): a link to a Youtube video.\n",
    "        **kwargs: further arguments for IPython.display.YouTubeVideo\n",
    "    \n",
    "    Returns:\n",
    "        YouTubeVideo: a video that is displayed in your notebook.\n",
    "    \"\"\"\n",
    "    id_ = url.split(\"=\")[-1]\n",
    "    return YouTubeVideo(id_, **kwargs)\n",
    "\n",
    "display_yotube_video(\"https://www.youtube.com/watch?v=FCgULsMi9iQ\", width=560, height=315)"
   ]
  },
  {
   "cell_type": "markdown",
   "id": "cf900416",
   "metadata": {},
   "source": [
    "We will look at the evolution of the wave field offshore Sydney based on the dataset from the NSW Ocean Wave Data Collection Program operated by the Manly Hydraulics Laboratory.\n",
    "\n",
    "I did already saved the dataset for the relevant dates from here: https://mhl.nsw.gov.au/Station-SYDDOW.\n",
    "\n",
    "### Dataset modifications\n",
    "\n",
    "The link above allows for the wave height, period and direction to be obtained separately as 3 `csv` files.\n",
    "\n",
    "From these files, we have access to the following variables:\n",
    "\n",
    "+ `Hs`: significant wave height\n",
    "+ `Hmax`: maximum wave height\n",
    "+ `dir`: wave direction from North\n",
    "+ `Tp`: Peak period \n",
    "+ `Tz`: zero crossing, the average period of the highest 1/3 waves, ie `Hs`.\n",
    "\n",
    "We will combine all these variables in a unique dataframe:"
   ]
  },
  {
   "cell_type": "code",
   "execution_count": null,
   "id": "9a811ca5",
   "metadata": {},
   "outputs": [],
   "source": [
    "hs1 = pd.read_csv('../../dataset/Hs_ECL22.csv')\n",
    "dir1 = pd.read_csv('../../dataset/dir_ECL22.csv')\n",
    "T1 = pd.read_csv('../../dataset/T_ECL22.csv')\n",
    "\n",
    "# initialize data of lists.\n",
    "data = {'Date':hs1['Date'],\n",
    "        'Hmax':hs1['Sydney (Hmax)'],\n",
    "        'Hs':hs1['Sydney (Hs)'],\n",
    "        'dir':dir1['Sydney (Wave Direction)'],\n",
    "        'Tz':T1['Sydney (Tz)'],\n",
    "        'TP1':T1['Sydney (TP1)'],\n",
    "       }\n",
    "\n",
    "# Create the pandas DataFrame\n",
    "df = pd.DataFrame(data)\n",
    "df.Date = pd.to_datetime(df['Date'], format='%Y-%m-%d %H:%M:%S.%f')\n",
    "df.set_index(['Date'],inplace=True)\n",
    "df"
   ]
  },
  {
   "cell_type": "markdown",
   "id": "958da636",
   "metadata": {},
   "source": [
    "### Plotting the buoy record"
   ]
  },
  {
   "cell_type": "code",
   "execution_count": null,
   "id": "179cd12c",
   "metadata": {},
   "outputs": [],
   "source": [
    "fig = plt.figure(figsize=(12,5), dpi=60) \n",
    "plt.plot(df.Hs, linestyle = 'solid', c='b', label='Hs')\n",
    "plt.plot(df.Hmax, linestyle = 'solid', c='r', label='Hmax')\n",
    "plt.legend(loc=0, frameon=False)\n",
    "plt.ylabel(\"Wave height (m)\")\n",
    "plt.xlabel(\"Dates\")\n",
    "plt.show()\n",
    "\n",
    "fig = plt.figure(figsize=(12,5), dpi=60) \n",
    "plt.plot(df.Tz, linestyle = 'solid', c='orange', label='Tz')\n",
    "plt.plot(df.TP1, linestyle = 'solid', c='g', label='Tp')\n",
    "plt.legend(loc=0, frameon=False)\n",
    "plt.ylabel(\"Wave period (s)\")\n",
    "plt.xlabel(\"Dates\")\n",
    "plt.show()\n",
    "\n",
    "fig = plt.figure(figsize=(12,5), dpi=60) \n",
    "plt.plot(df.dir, linestyle = 'solid', c='purple', label='dir')\n",
    "plt.legend(loc=0, frameon=False)\n",
    "plt.ylabel(\"Wave direction (degrees)\")\n",
    "plt.xlabel(\"Dates\")\n",
    "plt.show()"
   ]
  },
  {
   "cell_type": "markdown",
   "id": "50e0d9e6",
   "metadata": {},
   "source": [
    "### Peak wave period\n",
    "\n",
    "The peak wave period, `Tp`, is the wave period with the highest energy. \n",
    "\n",
    "The analysis of the distribution of the wave energy as a function of wave frequency f=1/T for a time-series of individual waves is referred to as a spectral analysis. \n",
    "\n",
    "Wind wave periods (frequencies) often follow the so-called **JONSWAP** or **Pierson-Moskowitz** spectra. The peak wave period is extracted from the spectra. As a rule of thumb the following relation can be used:\n",
    "\n",
    "$$ T_p \\simeq 5. \\sqrt{H_{m}} $$\n",
    "\n",
    "Let see how this relationship work for the offshore Sydney buoy dataset we have just downloaded:"
   ]
  },
  {
   "cell_type": "code",
   "execution_count": null,
   "id": "6b61b315",
   "metadata": {},
   "outputs": [],
   "source": [
    "# We compute Tp from the above relationship \n",
    "hWave = np.arange(0,10,0.1)\n",
    "Tp = 5.*np.sqrt(hWave)"
   ]
  },
  {
   "cell_type": "markdown",
   "id": "2b0deed4",
   "metadata": {},
   "source": [
    "Now we plot our dataset and the calculated `Tp` on the same graph:"
   ]
  },
  {
   "cell_type": "code",
   "execution_count": null,
   "id": "014d48a9",
   "metadata": {},
   "outputs": [],
   "source": [
    "fig = plt.figure(figsize=(10,4))\n",
    "ax = plt.gca()\n",
    "pts = plt.scatter(df.Hmax, df.TP1, c=df.dir.values, cmap=cmo.cm.deep,\n",
    "           edgecolor='black',alpha=0.75, zorder=4)\n",
    "\n",
    "ax.plot(hWave, Tp, linestyle='--', color = 'k', lw=1, zorder=2,label='$T_p=5.0\\sqrt{H_s}$')\n",
    "ax.set_ylabel('Wave period (s)',fontsize=10)\n",
    "ax.set_xlabel('Wave height (m)',fontsize=10)\n",
    "\n",
    "# Color bar\n",
    "cbar = fig.colorbar(pts, ax=ax, fraction=0.027, pad=0.065)\n",
    "cbar.set_label('Direction in degrees', labelpad=5, fontsize=10)\n",
    "cbar.ax.tick_params(labelsize=8)\n",
    "\n",
    "plt.legend(fontsize=10, loc=4, frameon=False)\n",
    "plt.show()\n",
    "fig.clear()\n",
    "plt.close(fig)"
   ]
  },
  {
   "cell_type": "markdown",
   "id": "d6ecb4c3",
   "metadata": {},
   "source": [
    "### Directional distribution of the wave heights\n",
    "\n",
    "This distribution is often presented in the form of a **wave rose**. Like this:"
   ]
  },
  {
   "cell_type": "code",
   "execution_count": null,
   "id": "890ffefc",
   "metadata": {},
   "outputs": [],
   "source": [
    "fig = plt.figure(figsize=(5,5), dpi=60) \n",
    "wax = WindroseAxes.from_ax(fig=fig)\n",
    "wax.bar(df.dir, df.Hs, bins=np.arange(0, 5, 1), edgecolor='w', cmap=cmo.cm.deep, normed=True)\n",
    "wax.set_xticklabels(['E', 'NE', 'N', 'NW',  'W', 'SW', 'S', 'SE'])\n",
    "wax.set_yticks(np.arange(10, 80, step=10))\n",
    "wax.set_yticklabels(np.arange(10, 80, step=10))\n",
    "wax.set_legend(loc='best', bbox_to_anchor=(1.2, 1.05))\n",
    "plt.show()"
   ]
  },
  {
   "cell_type": "markdown",
   "id": "d17e9300",
   "metadata": {},
   "source": [
    "or:"
   ]
  },
  {
   "cell_type": "code",
   "execution_count": null,
   "id": "def4ae18",
   "metadata": {},
   "outputs": [],
   "source": [
    "fig = plt.figure(figsize=(5,5), dpi=60) \n",
    "wax = WindroseAxes.from_ax(fig=fig)\n",
    "wax.box(df.dir, df.Hs, bins=np.arange(0, 5, 1), edgecolor='w', cmap=cmo.cm.deep, normed=True)\n",
    "wax.set_xticklabels(['E', 'NE', 'N', 'NW',  'W', 'SW', 'S', 'SE'])\n",
    "wax.set_yticks(np.arange(10, 80, step=10))\n",
    "wax.set_yticklabels(np.arange(10, 80, step=10))\n",
    "wax.set_legend(loc='best', bbox_to_anchor=(1.2, 1.05))\n",
    "plt.show()"
   ]
  },
  {
   "cell_type": "code",
   "execution_count": null,
   "id": "da50203c",
   "metadata": {},
   "outputs": [],
   "source": []
  }
 ],
 "metadata": {
  "kernelspec": {
   "display_name": "Python 3 (ipykernel)",
   "language": "python",
   "name": "python3"
  },
  "language_info": {
   "codemirror_mode": {
    "name": "ipython",
    "version": 3
   },
   "file_extension": ".py",
   "mimetype": "text/x-python",
   "name": "python",
   "nbconvert_exporter": "python",
   "pygments_lexer": "ipython3",
   "version": "3.8.12"
  }
 },
 "nbformat": 4,
 "nbformat_minor": 5
}
