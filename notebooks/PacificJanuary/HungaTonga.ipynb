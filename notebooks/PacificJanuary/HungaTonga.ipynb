{
 "cells": [
  {
   "cell_type": "markdown",
   "id": "dfba0977",
   "metadata": {},
   "source": [
    "# Hunga Tonga-Hunga Ha'apa Volcano-generated Tsunami, January 15, 2022\n",
    "\n",
    "Let's now focus on the eruption, as we initially planned!\n",
    "\n",
    "***\n",
    "\n",
    "Sadly, there is yet, no available tsunami propagation model for the Tonga eruption that can be analysed for now...\n",
    "\n",
    "\n",
    "**But we can use some of the monitoring system available in the Pacific Ocean!**\n",
    "\n",
    "\n",
    "Specifically, we can take advantage of the DART® monitoring system:\n",
    "\n",
    "DART® are ocean-bottom pressure sensors, able to measure tsunamis in the open ocean, are providing important data on tsunami propagation in deep water, and satellite communications have enabled the data to be used in real time to detect and measure tsunami waves in the deep ocean. \n"
   ]
  },
  {
   "cell_type": "markdown",
   "id": "d5d24ddb",
   "metadata": {},
   "source": [
    "<img src=\"https://nctr.pmel.noaa.gov/images/DART_locationsbyowner.png\" width=\"80%\">\n",
    "\n",
    "DART® real-time tsunami monitoring systems are positioned at strategic locations throughout the ocean and play a critical role in tsunami forecasting.\n",
    "\n",
    "**More info: https://nctr.pmel.noaa.gov/Dart/**\n",
    "\n",
    "The dataset is available for various tsunami events and luckily the one for the Hunga Tonga eruption could be downloaded from:\n",
    "\n",
    "**https://www.ngdc.noaa.gov/hazel/view/hazards/tsunami/related-runups/5824**"
   ]
  },
  {
   "cell_type": "code",
   "execution_count": null,
   "id": "86a257c7",
   "metadata": {},
   "outputs": [],
   "source": [
    "import pandas as pd\n",
    "import numpy as np\n",
    "\n",
    "import cmocean\n",
    "\n",
    "from IPython.display import YouTubeVideo\n",
    "\n",
    "import scipy.stats as stats\n",
    "import cartopy.crs as ccrs\n",
    "import cartopy.feature as cfeature\n",
    "import matplotlib.pyplot as plt\n",
    "import matplotlib.colors as colors\n",
    "import matplotlib.patches as mpatches\n",
    "\n",
    "import warnings\n",
    "warnings.filterwarnings(\"ignore\", category=RuntimeWarning) \n",
    "warnings.filterwarnings('ignore', category=FutureWarning) \n",
    "warnings.filterwarnings('ignore', category=UserWarning)\n",
    "warnings.filterwarnings('ignore', category=DownloadWarning)\n",
    "\n",
    "%matplotlib inline\n",
    "%config InlineBackend.figure_format = 'svg'\n",
    "plt.rcParams['mathtext.fontset'] = 'cm'\n",
    "\n",
    "\n",
    "def display_yotube_video(url, **kwargs):\n",
    "    \"\"\"\n",
    "    Displays a Youtube video in a Jupyter notebook.\n",
    "    \n",
    "    Args:\n",
    "        url (string): a link to a Youtube video.\n",
    "        **kwargs: further arguments for IPython.display.YouTubeVideo\n",
    "    \n",
    "    Returns:\n",
    "        YouTubeVideo: a video that is displayed in your notebook.\n",
    "    \"\"\"\n",
    "    id_ = url.split(\"=\")[-1]\n",
    "    return YouTubeVideo(id_, **kwargs)"
   ]
  },
  {
   "cell_type": "markdown",
   "id": "60319e84",
   "metadata": {},
   "source": [
    "## Loading the dataset\n",
    "\n",
    "I have already uploaded the dataset to the environment and we will open it using the `pandas` library:"
   ]
  },
  {
   "cell_type": "code",
   "execution_count": null,
   "id": "1d8142d1",
   "metadata": {},
   "outputs": [],
   "source": [
    "dataframe = pd.read_csv(\"../../dataset/runups-2022-02-24_16-23-00_+1100.tsv\", sep='\\t')\n",
    "dataframe.drop('Unnamed: 0', axis=1, inplace=True)\n",
    "dataframe = dataframe[dataframe['Maximum Water Height (m)'].notna()]\n",
    "dataframe.loc[0,'Max Wave Arrival Day'] = 15.\n",
    "dataframe.loc[0,'Max Wave Arrival Hour'] = 4.\n",
    "dataframe.loc[0,'Max Wave Arrival Minute'] = 27. \n",
    "dataframe"
   ]
  },
  {
   "cell_type": "markdown",
   "id": "d4f10fd3",
   "metadata": {},
   "source": [
    "Let's define the time in minutes since the start of the eruption and call it `julian`"
   ]
  },
  {
   "cell_type": "code",
   "execution_count": null,
   "id": "cb88ec06",
   "metadata": {},
   "outputs": [],
   "source": [
    "dataframe['julian'] = dataframe['Max Wave Arrival Day']*24*60.\n",
    "dataframe['julian'] += dataframe['Max Wave Arrival Hour']*60. \n",
    "dataframe['julian'] += dataframe['Max Wave Arrival Minute'] \n",
    "dataframe['julian'] -= dataframe.loc[0,'julian']"
   ]
  },
  {
   "cell_type": "markdown",
   "id": "20964775",
   "metadata": {},
   "source": [
    "We will also clean the dataset to only keep what we will need for our analysis:"
   ]
  },
  {
   "cell_type": "code",
   "execution_count": null,
   "id": "3cc75765",
   "metadata": {},
   "outputs": [],
   "source": [
    "df = dataframe.drop('Initial Wave Arrival Day', axis=1)\n",
    "df.drop('Initial Wave Arrival Hour', axis=1, inplace=True)\n",
    "df.drop('Initial Wave Arrival Minute', axis=1, inplace=True)\n",
    "df.drop('Travel Hours', axis=1, inplace=True)\n",
    "df.drop('Travel Minutes', axis=1, inplace=True)\n",
    "df.drop('Max Inundation Distance (m)', axis=1, inplace=True)\n",
    "df.drop('Max Wave Arrival Day', axis=1, inplace=True)\n",
    "df.drop('Max Wave Arrival Hour', axis=1, inplace=True)\n",
    "df.drop('Max Wave Arrival Minute', axis=1, inplace=True)\n",
    "df"
   ]
  },
  {
   "cell_type": "markdown",
   "id": "edc32d86",
   "metadata": {},
   "source": [
    "## Visualising the DART dataset"
   ]
  },
  {
   "cell_type": "markdown",
   "id": "dfb14cb4",
   "metadata": {},
   "source": [
    "We will plot the following:\n",
    "    \n",
    "+ Maximum water height\n",
    "+ Distance from eruption\n",
    "+ Travel time\n",
    "\n",
    "\n",
    "Let's start with the water height:"
   ]
  },
  {
   "cell_type": "code",
   "execution_count": null,
   "id": "6764cb0e",
   "metadata": {},
   "outputs": [],
   "source": [
    "lons = df.Longitude.values\n",
    "lats = df.Latitude.values\n",
    "\n",
    "\n",
    "travelTime = df['julian'].values\n",
    "dist = df['Distance From Source (km)'].values\n",
    "maxWaterHeight = df['Maximum Water Height (m)'].values"
   ]
  },
  {
   "cell_type": "code",
   "execution_count": null,
   "id": "8e45d2ba",
   "metadata": {},
   "outputs": [],
   "source": [
    "proj = ccrs.Mollweide(180)\n",
    "\n",
    "fig = plt.figure(figsize=(12,10))\n",
    "ax = plt.axes(projection=proj)\n",
    "ax.stock_img()\n",
    "ax.coastlines(linewidth=1)\n",
    "\n",
    "sz = maxWaterHeight.copy()\n",
    "sz[sz>1.5] = 1.5\n",
    "\n",
    "pts = ax.scatter(lons, lats, s=90*sz, c=maxWaterHeight, cmap=cmocean.cm.balance,\n",
    "           edgecolor='black',alpha=0.75, transform=ccrs.PlateCarree(),vmin=0,vmax=1.5)\n",
    "\n",
    "# Color bar\n",
    "cbar = fig.colorbar(pts, ax=ax, fraction=0.027, pad=0.065, \n",
    "                    orientation=\"horizontal\")\n",
    "cbar.set_label('Maximum water height (m)', rotation=0, \n",
    "               labelpad=5, fontsize=10)\n",
    "cbar.ax.tick_params(labelsize=8)\n",
    "\n",
    "plt.show()\n",
    "fig.clear()\n",
    "plt.close(fig)"
   ]
  },
  {
   "cell_type": "markdown",
   "id": "b0237932",
   "metadata": {},
   "source": [
    "Now the distance from the eruption:"
   ]
  },
  {
   "cell_type": "code",
   "execution_count": null,
   "id": "c9d4ac5d",
   "metadata": {},
   "outputs": [],
   "source": [
    "fig = plt.figure(figsize=(12,10))\n",
    "ax = plt.axes(projection=proj)\n",
    "ax.stock_img()\n",
    "ax.coastlines(linewidth=1)\n",
    "\n",
    "pts = ax.scatter(lons, lats, s=dist/200., c=dist, cmap=cmocean.cm.deep,\n",
    "           edgecolor='black',alpha=0.75, transform=ccrs.PlateCarree(), vmin=3000,vmax=15000)\n",
    "\n",
    "# Color bar\n",
    "cbar = fig.colorbar(pts, ax=ax, fraction=0.027, pad=0.065, \n",
    "                    orientation=\"horizontal\")\n",
    "cbar.set_label('Distance from eruption (km)', rotation=0, \n",
    "               labelpad=5, fontsize=10)\n",
    "cbar.ax.tick_params(labelsize=8)\n",
    "\n",
    "plt.show()\n",
    "fig.clear()\n",
    "plt.close(fig)"
   ]
  },
  {
   "cell_type": "markdown",
   "id": "6e03942e",
   "metadata": {},
   "source": [
    "And the travel time:"
   ]
  },
  {
   "cell_type": "code",
   "execution_count": null,
   "id": "29ac4eae",
   "metadata": {},
   "outputs": [],
   "source": [
    "fig = plt.figure(figsize=(12,10))\n",
    "ax = plt.axes(projection=proj)\n",
    "ax.stock_img()\n",
    "ax.coastlines(linewidth=1)\n",
    "\n",
    "pts = ax.scatter(lons, lats, s=travelTime/10., c=travelTime, cmap=cmocean.cm.thermal,\n",
    "           edgecolor='black',alpha=0.75, transform=ccrs.PlateCarree())\n",
    "\n",
    "# Color bar\n",
    "cbar = fig.colorbar(pts, ax=ax, fraction=0.027, pad=0.065, \n",
    "                    orientation=\"horizontal\")\n",
    "cbar.set_label('Travel time (mins)', rotation=0, \n",
    "               labelpad=5, fontsize=10)\n",
    "cbar.ax.tick_params(labelsize=8)\n",
    "\n",
    "plt.show()\n",
    "fig.clear()\n",
    "plt.close(fig)"
   ]
  },
  {
   "cell_type": "markdown",
   "id": "56efbe50",
   "metadata": {},
   "source": [
    "From this dataset we can infer the speed of the tsunami wave at each location:"
   ]
  },
  {
   "cell_type": "code",
   "execution_count": null,
   "id": "f143149e",
   "metadata": {},
   "outputs": [],
   "source": [
    "### Compute the tsunami speed\n",
    "df['speed'] = df['Distance From Source (km)']*1000./(df['julian']*60.)\n",
    "vel = df['speed'].values"
   ]
  },
  {
   "cell_type": "code",
   "execution_count": null,
   "id": "c10a29ee",
   "metadata": {},
   "outputs": [],
   "source": [
    "fig = plt.figure(figsize=(12,10))\n",
    "ax = plt.axes(projection=proj)\n",
    "ax.stock_img()\n",
    "ax.coastlines(linewidth=1)\n",
    "\n",
    "pts = ax.scatter(lons, lats, s=vel/2., c=vel, cmap=cmocean.cm.speed,\n",
    "           edgecolor='black',alpha=0.75, transform=ccrs.PlateCarree(), vmin=100,vmax=300)\n",
    "\n",
    "# Color bar\n",
    "cbar = fig.colorbar(pts, ax=ax, fraction=0.027, pad=0.065, \n",
    "                    orientation=\"horizontal\")\n",
    "cbar.set_label('Tsunami speed (m/s)', rotation=0, \n",
    "               labelpad=5, fontsize=10)\n",
    "cbar.ax.tick_params(labelsize=8)\n",
    "\n",
    "plt.show()\n",
    "fig.clear()\n",
    "plt.close(fig)"
   ]
  },
  {
   "cell_type": "markdown",
   "id": "acc75eda",
   "metadata": {},
   "source": [
    "## Graphs\n",
    "\n",
    "Looking at the data globally on a map is great but let's see the different trends. To do so we will take all the dataset and perform some linear regression fitting on them to evaluate if there is any relationships that emerge..."
   ]
  },
  {
   "cell_type": "code",
   "execution_count": null,
   "id": "1222742b",
   "metadata": {},
   "outputs": [],
   "source": [
    "def regressionFitting(x, y):\n",
    "    slope, intercept = np.polyfit(x, y, 1)  # linear model adjustment\n",
    "\n",
    "    y_model = np.polyval([slope, intercept], x)   # modeling...\n",
    "\n",
    "    x_mean = np.mean(x)\n",
    "    y_mean = np.mean(y)\n",
    "    n = x.size                        # number of samples\n",
    "    m = 2                             # number of parameters\n",
    "    dof = n - m                       # degrees of freedom\n",
    "    t = stats.t.ppf(0.975, dof)       # Students statistic of interval confidence\n",
    "\n",
    "    residual = y - y_model\n",
    "\n",
    "    std_error = (np.sum(residual**2) / dof)**.5   # Standard deviation of the error\n",
    "\n",
    "    # calculating the r2\n",
    "    # https://www.statisticshowto.com/probability-and-statistics/coefficient-of-determination-r-squared/\n",
    "    # Pearson's correlation coefficient\n",
    "    numerator = np.sum((x - x_mean)*(y - y_mean))\n",
    "    denominator = ( np.sum((x - x_mean)**2) * np.sum((y - y_mean)**2) )**.5\n",
    "    correlation_coef = numerator / denominator\n",
    "    r2 = correlation_coef**2\n",
    "\n",
    "    # mean squared error\n",
    "    MSE = 1/n * np.sum( (y - y_model)**2 )\n",
    "\n",
    "    # to plot the adjusted model\n",
    "    x_line = np.linspace(np.min(x), np.max(x), 100)\n",
    "    y_line = np.polyval([slope, intercept], x_line)\n",
    "\n",
    "    # confidence interval\n",
    "    ci = t * std_error * (1/n + (x_line - x_mean)**2 / np.sum((x - x_mean)**2))**.5\n",
    "    \n",
    "    print('Linear regression results:')\n",
    "    a = str(np.round(intercept))\n",
    "    b = str(np.round(slope,5))\n",
    "    r2s = str(np.round(r2,5))\n",
    "    MSEs = str(np.round(MSE,2))\n",
    "    print('   y = ' + a + ' + ' + b + ' x')\n",
    "    print('   r2 = ' + r2s + '     MSE = ' + MSEs)\n",
    "\n",
    "    return x_line, y_line, ci"
   ]
  },
  {
   "cell_type": "markdown",
   "id": "a664e685",
   "metadata": {},
   "source": [
    "+ For the maximum water height"
   ]
  },
  {
   "cell_type": "code",
   "execution_count": null,
   "id": "10a3f761",
   "metadata": {},
   "outputs": [],
   "source": [
    "x_line, y_line, ci = regressionFitting(dist, maxWaterHeight)\n",
    "\n",
    "fig = plt.figure(figsize=(10,4))\n",
    "ax = plt.gca()\n",
    "pts = plt.scatter(dist, maxWaterHeight, s=90*sz, c=maxWaterHeight, cmap=cmocean.cm.haline_r,\n",
    "           edgecolor='black',alpha=0.75, vmin=0,vmax=1.5, zorder=4)\n",
    "ax.plot(x_line, y_line, color = 'k', lw=2, zorder=2)\n",
    "ax.fill_between(x_line, y_line + ci, y_line - ci, color = 'lightgrey', \n",
    "                label = '95% confidence interval', zorder=1)\n",
    "ax.set_xlabel('Distance (km)',fontsize=8)\n",
    "ax.set_ylabel('Maximum water height (m)',fontsize=8)\n",
    "ax.set_xlim(0,13000)\n",
    "ax.set_ylim(0,2.4)\n",
    "\n",
    "# Color bar\n",
    "cbar = fig.colorbar(pts, ax=ax, fraction=0.027, pad=0.065)\n",
    "cbar.set_label('Maximum water height (m)', labelpad=5, fontsize=10)\n",
    "cbar.ax.tick_params(labelsize=8)\n",
    "\n",
    "plt.legend(fontsize=8)\n",
    "plt.show()\n",
    "fig.clear()\n",
    "plt.close(fig)"
   ]
  },
  {
   "cell_type": "markdown",
   "id": "44a5c61f",
   "metadata": {},
   "source": [
    "+ For the Tsunami speed "
   ]
  },
  {
   "cell_type": "code",
   "execution_count": null,
   "id": "b9650896",
   "metadata": {},
   "outputs": [],
   "source": [
    "ids = np.where(~np.isnan(vel))[0]\n",
    "x_line, y_line, ci = regressionFitting(dist[ids], vel[ids])\n",
    "\n",
    "fig = plt.figure(figsize=(10,4))\n",
    "ax = plt.gca()\n",
    "\n",
    "pts = plt.scatter(dist, vel, s=vel/2., c=vel, cmap=cmocean.cm.speed,\n",
    "           edgecolor='black',alpha=0.75, vmin=100, vmax=300, zorder=4)\n",
    "ax.plot(x_line, y_line, color = 'k', lw=2, zorder=2)\n",
    "ax.fill_between(x_line, y_line + ci, y_line - ci, color = 'lightgrey', \n",
    "                label = '95% confidence interval', zorder=1)\n",
    "ax.set_xlabel('Distance (km)',fontsize=8)\n",
    "ax.set_ylabel('Tsunami speed (m/s)',fontsize=8)\n",
    "ax.set_xlim(0,13100)\n",
    "ax.set_ylim(0,500)\n",
    "\n",
    "# Color bar\n",
    "cbar = fig.colorbar(pts, ax=ax, fraction=0.027, pad=0.065)\n",
    "cbar.set_label('Tsunami speed (m/s)', labelpad=5, fontsize=10)\n",
    "cbar.ax.tick_params(labelsize=8)\n",
    "\n",
    "plt.legend(fontsize=8)\n",
    "plt.show()\n",
    "fig.clear()\n",
    "plt.close(fig)"
   ]
  },
  {
   "cell_type": "markdown",
   "id": "2c4c5543",
   "metadata": {},
   "source": [
    "We can also use the period and based on the speed compute the wavelenght of the Tsunami:"
   ]
  },
  {
   "cell_type": "code",
   "execution_count": null,
   "id": "6050ccf2",
   "metadata": {},
   "outputs": [],
   "source": [
    "df['wavelenght'] = df['speed']*df['Period']*60/1000."
   ]
  },
  {
   "cell_type": "code",
   "execution_count": null,
   "id": "b3e0bc55",
   "metadata": {},
   "outputs": [],
   "source": [
    "wavelenght = df['wavelenght'].values\n",
    "ids = np.where(~np.isnan(wavelenght))[0]\n",
    "x_line, y_line, ci = regressionFitting(dist[ids], wavelenght[ids])\n",
    "\n",
    "fig = plt.figure(figsize=(10,4))\n",
    "ax = plt.gca()\n",
    "\n",
    "pts = plt.scatter(dist, wavelenght, s=wavelenght/5, c=wavelenght, cmap=cmocean.cm.tempo,\n",
    "           edgecolor='black',alpha=0.75, vmin=100,vmax=300, zorder=4)\n",
    "ax.plot(x_line, y_line, color = 'k', lw=2, zorder=2)\n",
    "ax.fill_between(x_line, y_line + ci, y_line - ci, color = 'lightgrey', \n",
    "                label = '95% confidence interval', zorder=1)\n",
    "ax.set_xlabel('Distance (km)',fontsize=8)\n",
    "ax.set_ylabel('Wavelenght (km)',fontsize=8)\n",
    "ax.set_xlim(0,13100)\n",
    "ax.set_ylim(0,800)\n",
    "\n",
    "# Color bar\n",
    "cbar = fig.colorbar(pts, ax=ax, fraction=0.027, pad=0.065)\n",
    "cbar.set_label('Wavelenght (km)', labelpad=5, fontsize=10)\n",
    "cbar.ax.tick_params(labelsize=8)\n",
    "\n",
    "plt.legend(fontsize=8)\n",
    "plt.show()\n",
    "fig.clear()\n",
    "plt.close(fig)"
   ]
  },
  {
   "cell_type": "markdown",
   "id": "aafb5696",
   "metadata": {},
   "source": [
    "## Building a simple tsunami propagation model\n",
    "\n",
    "Assuming **Airy velocity**,  a wave is characterized as a shallow-water wave when the ratio of the water depth and wavelength is very small. \n",
    "\n",
    "The velocity of a shallow-water wave is also equal to the square root of the product of the acceleration of gravity and the depth of the water.  Here the wavelenght $\\lambda$ is about 200 km so $\\lambda/20$ is approximately 10 km, meaning that we could consider that the tsunami velocity is of the form:\n",
    "\n",
    "$$ v = \\sqrt{g h}$$\n",
    "\n",
    "where $g$ is the gravity and $h$ the water depth. \n",
    "\n",
    "We could get an estimate of the average water depth based on the Tsunami speed:"
   ]
  },
  {
   "cell_type": "code",
   "execution_count": null,
   "id": "b9b33d52",
   "metadata": {},
   "outputs": [],
   "source": [
    "g = 9.81\n",
    "df['depth'] = df['speed']**2/g\n",
    "depth = df['depth'].values/1000."
   ]
  },
  {
   "cell_type": "code",
   "execution_count": null,
   "id": "19a65923",
   "metadata": {},
   "outputs": [],
   "source": [
    "ids = np.where(~np.isnan(depth))[0]\n",
    "x_line, y_line, ci = regressionFitting(dist[ids], depth[ids])\n",
    "\n",
    "fig = plt.figure(figsize=(10,4))\n",
    "ax = plt.gca()\n",
    "\n",
    "pts= plt.scatter(dist, depth, s=depth*10, c=depth, cmap=cmocean.cm.deep,\n",
    "           edgecolor='black',alpha=0.75, vmin=0, vmax=10, zorder=4)\n",
    "ax.plot(x_line, y_line, color = 'k', lw=2, zorder=2)\n",
    "ax.fill_between(x_line, y_line + ci, y_line - ci, color = 'lightgrey', \n",
    "                label = '95% confidence interval', zorder=1)\n",
    "ax.set_xlabel('Distance (km)',fontsize=8)\n",
    "ax.set_ylabel('Approximated water depth (km)',fontsize=8)\n",
    "ax.set_xlim(0,13100)\n",
    "ax.set_ylim(0,10)\n",
    "\n",
    "# Color bar\n",
    "cbar = fig.colorbar(pts, ax=ax, fraction=0.027, pad=0.065)\n",
    "cbar.set_label('Approximated water depth (km)', labelpad=5, fontsize=10)\n",
    "cbar.ax.tick_params(labelsize=8)\n",
    "\n",
    "plt.legend(fontsize=8)\n",
    "plt.show()\n",
    "fig.clear()\n",
    "plt.close(fig)"
   ]
  },
  {
   "cell_type": "markdown",
   "id": "6471cb30",
   "metadata": {},
   "source": [
    "Using the equation above $ v = \\sqrt{g h}$, we could also compute a first-order estimate of the tsunami front wave evolution, for example let's take the average depth of the Pacific Ocean (4 km). We can then compute the tsunami front for every 4 hours interval.\n",
    "\n",
    "Also we will compute the front of the sound propagation (assuming a velocity for the sound of 343 m/s)."
   ]
  },
  {
   "cell_type": "code",
   "execution_count": null,
   "id": "19c1991c",
   "metadata": {},
   "outputs": [],
   "source": [
    "hours = 4\n",
    "average_depth = 4000.\n",
    "\n",
    "lon, lat = dataframe.loc[0,'Longitude'], dataframe.loc[0,'Latitude']\n",
    "\n",
    "velocity = np.sqrt(average_depth * g)*60.\n",
    "sound = 343.0\n",
    "\n",
    "hours2min = hours*60\n",
    "timeTravel = np.arange(0,1300,hours2min)\n",
    "soundTravel = np.zeros(len(timeTravel))\n",
    "distTravel = np.zeros(len(timeTravel))\n",
    "for k in range(1,len(timeTravel)):\n",
    "    distTravel[k] = velocity*timeTravel[k]/1000.\n",
    "    soundTravel[k] = sound*60.*timeTravel[k]/1000."
   ]
  },
  {
   "cell_type": "markdown",
   "id": "c5a791ec",
   "metadata": {},
   "source": [
    "Let's plot the position of the tsunami and explosion sound over time:"
   ]
  },
  {
   "cell_type": "code",
   "execution_count": null,
   "id": "59a3ccb4",
   "metadata": {},
   "outputs": [],
   "source": [
    "def discrete_cmap(N, base_cmap=None):\n",
    "    \"\"\"Create an N-bin discrete colormap from the specified input map\"\"\"\n",
    "    base = plt.cm.get_cmap(base_cmap)\n",
    "    color_list = base(np.linspace(0, 1, N))\n",
    "    cmap_name = base.name + str(N)\n",
    "    return base.from_list(cmap_name, color_list, N)\n",
    "\n",
    "fig = plt.figure(figsize=(12,10))\n",
    "ax = plt.axes(projection=proj)\n",
    "ax.stock_img()\n",
    "ax.coastlines(linewidth=1)\n",
    "\n",
    "# setup a Normalization instance\n",
    "norm = colors.Normalize(distTravel.min(),distTravel.max())\n",
    "\n",
    "# define the colormap\n",
    "cmap = discrete_cmap(len(distTravel), cmocean.cm.matter)\n",
    "\n",
    "# Use the norm and cmap to define the edge colours\n",
    "edgecols = cmap(norm(distTravel))\n",
    "\n",
    "for k in range(1,len(distTravel)):\n",
    "    ax.tissot(rad_km=distTravel[k], lons=lon, lats=lat, \n",
    "              facecolor=\"None\", edgecolor=edgecols[k], \n",
    "              linestyle='-',linewidth=5, alpha = 0.95, \n",
    "              label=str(k*hours)+'h'\n",
    "             )\n",
    "    ax.tissot(rad_km=soundTravel[k], lons=lon, lats=lat, \n",
    "              facecolor=\"None\", edgecolor=edgecols[k], \n",
    "              linestyle='--',linewidth=2, alpha = 0.95, \n",
    "              label=str(k*hours)+'h'\n",
    "             )\n",
    "    plt.gcf().text(0.415+(k-1)*0.05, 0.25, str(k*hours)+'h', \n",
    "                   weight=\"bold\", \n",
    "                   c=edgecols[k], fontsize=10)\n",
    "    \n",
    "pts = ax.scatter(lon, lat, s=50, c='w', \n",
    "           edgecolor='black',alpha=1, transform=ccrs.PlateCarree(), zorder=50)\n",
    "\n",
    "\n",
    "plt.show()\n",
    "fig.clear()\n",
    "plt.close(fig)"
   ]
  },
  {
   "cell_type": "markdown",
   "id": "0b29533a",
   "metadata": {},
   "source": [
    "We can look at how our model performs against DART dataset:"
   ]
  },
  {
   "cell_type": "code",
   "execution_count": null,
   "id": "0ce5ad7a",
   "metadata": {},
   "outputs": [],
   "source": [
    "df['simTravelTime Minute'] = df['Distance From Source (km)']*1000./velocity\n",
    "simTime = df['simTravelTime Minute'].values\n",
    "\n",
    "fig = plt.figure(figsize=(8,6.5))\n",
    "ax = plt.gca()\n",
    "\n",
    "pts = plt.scatter(travelTime, simTime, s=dist/100., c=dist, cmap=cmocean.cm.tempo,\n",
    "           edgecolor='black',alpha=0.75, zorder=4, vmin=0, vmax=dist.max(), )\n",
    "ax.plot(travelTime, travelTime, lw=5, color = 'lightgrey', \n",
    "        zorder=1)\n",
    "ax.plot(travelTime, travelTime, lw=1.5, color = 'k', label = 'Best-fit line', zorder=2)\n",
    "ax.set_xlabel('Observed travel time (minutes)',fontsize=8)\n",
    "ax.set_ylabel('Simulated travel time (minutes)',fontsize=8)\n",
    "ax.set_xlim(0,1500)\n",
    "ax.set_ylim(0,1500)\n",
    "\n",
    "# Color bar\n",
    "cbar = fig.colorbar(pts, ax=ax, fraction=0.027, pad=0.065)\n",
    "cbar.set_label('Distance to eruption (km)', labelpad=5, fontsize=10)\n",
    "cbar.ax.tick_params(labelsize=8)\n",
    "\n",
    "plt.legend(fontsize=8)\n",
    "plt.show()\n",
    "fig.clear()\n",
    "plt.close(fig)\n",
    "\n",
    "\n",
    "ids = np.where(~np.isnan(travelTime))[0]\n",
    "x_line, y_line, ci = regressionFitting(travelTime[ids], simTime[ids])"
   ]
  },
  {
   "cell_type": "markdown",
   "id": "c73af913",
   "metadata": {},
   "source": [
    "***\n",
    "\n",
    "Obvisouly our model is really simple and the match with observations is not great! \n",
    "\n",
    "<div class=\"alert alert-block alert-info\">Could you think of other things that we might add to help getting a better model?</div>\n",
    "\n"
   ]
  },
  {
   "cell_type": "code",
   "execution_count": null,
   "id": "79e3afcd",
   "metadata": {},
   "outputs": [],
   "source": [
    "display_yotube_video(\"https://www.youtube.com/watch?v=_fvqWqfrXXM\", width=800, height=500)"
   ]
  },
  {
   "cell_type": "markdown",
   "id": "3071919f",
   "metadata": {},
   "source": [
    "## Sound wave evaluation\n",
    "\n",
    "![alt text](https://petapixel.com/assets/uploads/2022/01/tonga-volcano-eruption-goes-close.gif)\n",
    "\n",
    "\n",
    "Here we will use some observations I found on the web (twitter, online journals) reporting people hearing the sound of the eruption."
   ]
  },
  {
   "cell_type": "markdown",
   "id": "d8601ccc",
   "metadata": {},
   "source": [
    "+ _The eruption was heard more than 2300 km away in New Zealand, where the sound arrived two hours later._\n",
    "+ _A series of bangs were heard around 3:30 a.m. local time in and around Anchorage, Alaska, approximately 9700 km away from the volcano._\n",
    "+ _The shockwave was traveling almost as fast as the speed of sound and causing noticeable jumps in atmospheric pressure as it reached the UK on the opposite side of the world (16146 km) about 15 hours after the eruption._"
   ]
  },
  {
   "cell_type": "markdown",
   "id": "faa2b96e",
   "metadata": {},
   "source": [
    "For Alaska, we need to use the UTC time to get the time it took for the sound to travel. The eruption was at 4:27 a.m. UTC time and it was at 3:30 am Alaska time (-9h UTC) meaning that it was 12:30 pm in UTC time. So the difference was about 8h.\n",
    "\n",
    "Let's evaluate the sound velocity based on these observations:"
   ]
  },
  {
   "cell_type": "code",
   "execution_count": null,
   "id": "c08d8422",
   "metadata": {},
   "outputs": [],
   "source": [
    "NZlat, NZlon = -41.2924, -185.3\n",
    "velNZ = 2300*1000/(2*3600)\n",
    "\n",
    "Alaslat, Alaslon = 61.2181, -150.1003\n",
    "velAla = 9700*1000/(8*3600)\n",
    "\n",
    "UKlat, UKlon = 51.5072, 0.1276\n",
    "velUK = 16146*1000/(15*3600)\n",
    "\n",
    "print('Estimated velocities from observations:')\n",
    "print('   + NZ     ',round(velNZ,1),' m/s')\n",
    "print('   + Alaska ',round(velAla,1),' m/s')\n",
    "print('   + UK     ',round(velUK,1),' m/s')"
   ]
  },
  {
   "cell_type": "markdown",
   "id": "5ecb88a2",
   "metadata": {},
   "source": [
    "We can plot the difference between observed and modelled sound wave position for these different locations:"
   ]
  },
  {
   "cell_type": "code",
   "execution_count": null,
   "id": "c834d0d8",
   "metadata": {},
   "outputs": [],
   "source": [
    "fig = plt.figure(figsize=(12,10))\n",
    "\n",
    "\n",
    "ax = plt.axes(projection=proj)\n",
    "ax.stock_img()\n",
    "ax.coastlines(linewidth=1)\n",
    "\n",
    "pts = ax.scatter(lon, lat, s=50, c='blue', \n",
    "                 edgecolor='black',alpha=1, \n",
    "                 transform=ccrs.PlateCarree(), zorder=50)\n",
    "\n",
    "# New Zealand          \n",
    "plt.plot([lon, NZlon], [lat, NZlat], ls='--', lw=2, \n",
    "         color='w', alpha = 0.75, \n",
    "         transform=ccrs.PlateCarree())\n",
    "\n",
    "pts = ax.scatter(NZlon, NZlat, s=50, c='w', \n",
    "                 edgecolor='w',alpha=1, \n",
    "                 transform=ccrs.PlateCarree(), zorder=50)\n",
    "\n",
    "ax.tissot(rad_km=2300, lons=lon, lats=lat, \n",
    "          facecolor=\"None\", edgecolor='ww', \n",
    "          linestyle='--',linewidth=3, alpha = 1,\n",
    "         )\n",
    "ax.tissot(rad_km=2376, lons=lon, lats=lat, \n",
    "          facecolor=\"None\", edgecolor='k', \n",
    "          linestyle='--',linewidth=1, alpha = 1,\n",
    "         )\n",
    "\n",
    "# Alaska\n",
    "pts = ax.scatter(Alaslon, Alaslat, s=50, c='orange', \n",
    "                 edgecolor='w',alpha=1, \n",
    "                 transform=ccrs.PlateCarree(), zorder=50)\n",
    "\n",
    "plt.plot([lon, Alaslon], [lat, Alaslat], ls='--', lw=2, \n",
    "         color='orange', alpha = 0.75,\n",
    "         transform=ccrs.PlateCarree())\n",
    "\n",
    "ax.tissot(rad_km=9500, lons=lon, lats=lat, \n",
    "          facecolor=\"None\", edgecolor='orange', \n",
    "          linestyle='-',linewidth=3, alpha = 1, \n",
    "         )\n",
    "\n",
    "ax.tissot(rad_km=9504, lons=lon, lats=lat, \n",
    "          facecolor=\"None\", edgecolor='k', \n",
    "          linestyle='--',linewidth=1, alpha = 1, \n",
    "         )\n",
    "\n",
    "\n",
    "# UK\n",
    "pts = ax.scatter(UKlon, UKlat, s=50, c='red', \n",
    "                 edgecolor='k',alpha=1, \n",
    "                 transform=ccrs.PlateCarree(), zorder=50)\n",
    "\n",
    "plt.plot([lon, UKlon], [lat, UKlat], ls='--', lw=2, \n",
    "         color='red', alpha = 0.75, \n",
    "         transform=ccrs.PlateCarree())\n",
    "\n",
    "ax.tissot(rad_km=16146, lons=lon, lats=lat, \n",
    "          facecolor=\"None\", edgecolor='red', \n",
    "          linestyle='-',linewidth=3, alpha = 1., \n",
    "         )\n",
    "\n",
    "ax.tissot(rad_km=17820, lons=lon, lats=lat, \n",
    "          facecolor=\"None\", edgecolor='k', \n",
    "          linestyle='--',linewidth=1, alpha = 1, \n",
    "         )\n",
    "\n",
    "plt.show()\n",
    "fig.clear()\n",
    "plt.close(fig)"
   ]
  },
  {
   "cell_type": "markdown",
   "id": "1f7e3455",
   "metadata": {},
   "source": [
    "These predictions from our model seem to work much better for the sound wave!!!"
   ]
  },
  {
   "cell_type": "markdown",
   "id": "288d9365",
   "metadata": {},
   "source": []
  }
 ],
 "metadata": {
  "kernelspec": {
   "display_name": "Python 3 (ipykernel)",
   "language": "python",
   "name": "python3"
  },
  "language_info": {
   "codemirror_mode": {
    "name": "ipython",
    "version": 3
   },
   "file_extension": ".py",
   "mimetype": "text/x-python",
   "name": "python",
   "nbconvert_exporter": "python",
   "pygments_lexer": "ipython3",
   "version": "3.8.12"
  }
 },
 "nbformat": 4,
 "nbformat_minor": 5
}
