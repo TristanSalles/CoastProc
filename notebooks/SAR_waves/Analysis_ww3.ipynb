{
 "cells": [
  {
   "cell_type": "markdown",
   "id": "5e72c753",
   "metadata": {},
   "source": [
    "# WAVEWATCH III\n",
    "\n",
    "[WAVEWATCH III](https://github.com/noaa-emc/ww3) is a community wave modeling framework that includes the latest scientific advancements in the field of wind-wave modeling and dynamics. The core of the framework consists of the WAVEWATCH III third-generation wave model (WAVE-height, WATer depth and Current Hindcasting), developed at NOAA/NCEP.\n",
    "\n",
    "\n",
    "In fluid dynamics, wind wave modeling describes the effort to depict the sea state and predict the evolution of the energy of wind waves using numerical techniques. These simulations consider atmospheric wind forcing, nonlinear wave interactions, and frictional dissipation, and they output statistics describing wave heights, periods, and propagation directions for regional seas or global oceans. Such wave hindcasts and wave forecasts are extremely important for commercial interests on the high seas. \n",
    "\n",
    "For example, the shipping industry requires guidance for operational planning and tactical seakeeping purposes.\n",
    "\n",
    "The model can incorporate the effects of currents on waves and is now extended for near shore applications.\n",
    "\n",
    "In this notebook, we will use the [wavespectra library](https://wavespectra.readthedocs.io/en/latest/index.html), an open source project for processing ocean wave spectral data, to look at some outputs from the WAVEWATCH III model."
   ]
  },
  {
   "cell_type": "code",
   "execution_count": null,
   "id": "8dfe6fa7",
   "metadata": {},
   "outputs": [],
   "source": [
    "import matplotlib.pyplot as plt\n",
    "from wavespectra import read_ww3\n",
    "\n",
    "\n",
    "%matplotlib inline\n",
    "%config InlineBackend.figure_format = 'svg'\n",
    "plt.rcParams['mathtext.fontset'] = 'cm'"
   ]
  },
  {
   "cell_type": "markdown",
   "id": "ce692b94",
   "metadata": {},
   "source": [
    "### Loading WAVEWATCH III dataset"
   ]
  },
  {
   "cell_type": "code",
   "execution_count": null,
   "id": "648726fd",
   "metadata": {},
   "outputs": [],
   "source": [
    "dset = read_ww3(\"../../dataset/ww3file.nc\")\n",
    "dset.spec"
   ]
  },
  {
   "cell_type": "markdown",
   "id": "fad9e004",
   "metadata": {},
   "source": [
    "### Spectral wave parameters\n",
    "\n",
    "Wave energy density array named as `efth`, defined in:\n",
    "\n",
    "- 2D spectra $E(\\sigma,\\theta)$ $m^{2}{degree^{-1}}{s}$.\n",
    "- 1D spectra $E(\\sigma)$ $m^{2}{s}$.\n",
    "\n",
    "Several methods are available to calculate integrated wave parameters, for example to calculate the significant wave height one can use:"
   ]
  },
  {
   "cell_type": "code",
   "execution_count": null,
   "id": "a5929e53",
   "metadata": {},
   "outputs": [],
   "source": [
    "hs = dset.spec.hs()\n",
    "\n",
    "hs.plot.line(x=\"time\")\n",
    "plt.draw()"
   ]
  },
  {
   "cell_type": "markdown",
   "id": "694e4045",
   "metadata": {},
   "source": [
    "Using the `stats` methods we can evaluate the following:\n",
    "    \n",
    "+ hs Spectral significant wave height Hm0.\n",
    "+ hmax Maximum wave height Hmax.\n",
    "+ tp Peak wave period Tp.\n",
    "+ tm01 Mean absolute wave period Tm01.\n",
    "+ tm02 Mean absolute wave period Tm02.\n",
    "+ dpm Peak wave direction Dpm.\n",
    "+ dp Peak wave direction Dp.\n",
    "+ dm Mean wave direction from the 1st spectral moment Dm.\n",
    "+ dspr Directional wave spreading Dspr.\n",
    "+ swe Spectral width parameter by Cartwright and Longuet-Higgins (1956).\n",
    "+ sw Spectral width parameter by Longuet-Higgins (1975)."
   ]
  },
  {
   "cell_type": "code",
   "execution_count": null,
   "id": "a0b26715",
   "metadata": {},
   "outputs": [],
   "source": [
    "stats = dset.spec.stats(\n",
    "    [\"hs\", \"hmax\", \"tp\", \"tm01\", \"tm02\", \"dpm\", \"dm\", \"dspr\", \"swe\"]\n",
    ")\n",
    "stats"
   ]
  },
  {
   "cell_type": "markdown",
   "id": "7b08e3ec",
   "metadata": {},
   "source": [
    "Let's plot the values from the `stats` method for the 2 sites available in our dataset:"
   ]
  },
  {
   "cell_type": "code",
   "execution_count": null,
   "id": "3a5e9a20",
   "metadata": {},
   "outputs": [],
   "source": [
    "fig, ((ax1, ax2), (ax3, ax4), (ax5, ax6)) = plt.subplots(3, 2, figsize=(12, 6))\n",
    "\n",
    "stats.hs.plot.line(ax=ax1, x=\"time\")\n",
    "\n",
    "\n",
    "stats.hmax.plot.line(ax=ax2, x=\"time\")\n",
    "stats.dpm.plot.line(ax=ax3, x=\"time\")\n",
    "stats.dspr.plot.line(ax=ax4, x=\"time\")\n",
    "stats.tp.plot.line(ax=ax5, x=\"time\")\n",
    "stats.tm01.plot.line(ax=ax6, x=\"time\")\n",
    "\n",
    "ax1.set_ylabel('Hs(m)')\n",
    "ax1.set_xticks([])\n",
    "ax1.set_xlabel('')\n",
    "ax2.set_ylabel('Hmax(m)')\n",
    "ax2.set_xticks([])\n",
    "ax2.set_xlabel('')\n",
    "ax3.set_ylabel('Dpm(deg)')\n",
    "ax3.set_xticks([])\n",
    "ax3.set_xlabel('')\n",
    "ax4.set_ylabel('Dspr(deg)')\n",
    "ax4.set_xticks([])\n",
    "ax4.set_xlabel('')\n",
    "ax5.set_ylabel('Tp(s)')\n",
    "ax6.set_ylabel('Tm01(s)')\n",
    "\n",
    "plt.show()"
   ]
  },
  {
   "cell_type": "markdown",
   "id": "8124ec85",
   "metadata": {},
   "source": [
    "## Wave partitioning\n",
    "\n",
    "A wave component is defined as a region of enhanced energy in the directional wave spectrum S( f, θ) attributed to a windsea or swell system propagating from a specific wind-generation event on the ocean surface. \n",
    "\n",
    "Wave components are identified and extracted using spectral partitioning methods. Wave partitioning allows the identification and grouping of component wave systems from spatially and temporally distributed observations of directional wave spectra. \n",
    "\n",
    "The partition of wave spectra uses Hanson’s algorithm which depends on:\n",
    "\n",
    "+ `wsp`: wind speed (m/s).\n",
    "+ `wdir`: Wind direction (degree).\n",
    "+ `dpt`: Water depth (m).\n",
    "+ `swells`: Number of swell partitions to compute.\n"
   ]
  },
  {
   "cell_type": "code",
   "execution_count": null,
   "id": "d1195ab6",
   "metadata": {},
   "outputs": [],
   "source": [
    "dspart = dset.spec.partition(dset.wspd, dset.wdir, dset.dpt)\n",
    "pstats = dspart.spec.stats([\"hs\", \"dpm\"])\n",
    "pstats\n",
    "\n",
    "fig, (ax1, ax2) = plt.subplots(2, 1, figsize=(8, 8))\n",
    "hs.isel(site=0).plot(ax=ax1, label='Full spectrum', marker='o')\n",
    "pstats.hs.isel(part=0, site=0).plot(ax=ax1, label='Partition 0 (sea)', marker='o')\n",
    "pstats.hs.isel(part=1, site=0).plot(ax=ax1, label='Partition 1 (swell 1)', marker='o')\n",
    "pstats.hs.isel(part=2, site=0).plot(ax=ax1, label='Partition 2 (swell 2)', marker='o')\n",
    "pstats.hs.isel(part=3, site=0).plot(ax=ax1, label='Partition 3 (swell 3)', marker='o')\n",
    "ax1.set_ylabel('Hs (m)')\n",
    "ax1.legend(bbox_to_anchor=(1.05, 1.05), frameon=False)\n",
    "ax1.set_xticks([])\n",
    "ax1.set_xlabel('')\n",
    "\n",
    "dset.spec.dpm().isel(site=0).plot(ax=ax2, label='Full spectrum', marker='o')\n",
    "pstats.dpm.isel(part=0, site=0).plot(ax=ax2, label='Partition 0 (sea)', marker='o')\n",
    "pstats.dpm.isel(part=1, site=0).plot(ax=ax2, label='Partition 1 (swell 1)', marker='o')\n",
    "pstats.dpm.isel(part=2, site=0).plot(ax=ax2, label='Partition 2 (swell 2)', marker='o')\n",
    "pstats.dpm.isel(part=3, site=0).plot(ax=ax2, label='Partition 3 (swell 3)', marker='o')\n",
    "ax2.set_ylabel('Dpm (deg)')\n",
    "ax2.set_title('')\n",
    "\n",
    "plt.show()"
   ]
  },
  {
   "cell_type": "markdown",
   "id": "0a226ba4",
   "metadata": {},
   "source": [
    "## Frequency-direction spectral plots in polar coordinates\n",
    "\n",
    "One other option consists in splitting the spectra over freq .\n",
    "\n",
    "+ `fmin`: lowest frequency to split spectra\n",
    "+ `fmax`: highest frequency to split spectra"
   ]
  },
  {
   "cell_type": "code",
   "execution_count": null,
   "id": "747938c3",
   "metadata": {},
   "outputs": [],
   "source": [
    "sea = dset.spec.split(fmin=0.125)\n",
    "swell = dset.spec.split(fmax=2)\n",
    "\n",
    "fig, ax = plt.subplots(1, 1, figsize=(8, 4))\n",
    "dset.spec.hs().isel(site=0).plot(label='Full spectrum', marker='o')\n",
    "sea.spec.hs().isel(site=0).plot(label='Sea', marker='o')\n",
    "swell.spec.hs().isel(site=0).plot(label='Swell', marker='o')\n",
    "ax.set_ylabel('Hs (m)')\n",
    "ax.legend(bbox_to_anchor=(1.25, 1.05), frameon=False)\n",
    "plt.draw()\n",
    "\n",
    "\n",
    "fig, ax = plt.subplots(1, 1, figsize=(8, 4))\n",
    "dset.spec.tp().isel(site=0).plot(label='Full spectrum', marker='o')\n",
    "sea.spec.tp().isel(site=0).plot(label='Sea', marker='o')\n",
    "swell.spec.tp().isel(site=0).plot(label='Swell', marker='o')\n",
    "ax.set_ylabel('Tp (s)')\n",
    "ax.legend(bbox_to_anchor=(1.25, 1.05), frameon=False)\n",
    "plt.draw()"
   ]
  },
  {
   "cell_type": "markdown",
   "id": "a795d617",
   "metadata": {},
   "source": [
    "Plotting in polar coordinates"
   ]
  },
  {
   "cell_type": "code",
   "execution_count": null,
   "id": "c2ec1945",
   "metadata": {},
   "outputs": [],
   "source": [
    "ds = dset.isel(site=0, time=[0, -1]).spec.split(fmin=0.125, fmax=2)\n",
    "\n",
    "ds.spec.plot(\n",
    "     kind=\"contourf\",\n",
    "     col=\"time\",\n",
    "     as_period=False,\n",
    "     normalised=True,\n",
    "     logradius=True,\n",
    "     add_colorbar=False,\n",
    "     figsize=(8, 5));"
   ]
  },
  {
   "cell_type": "code",
   "execution_count": null,
   "id": "c93e0d1a",
   "metadata": {},
   "outputs": [],
   "source": []
  }
 ],
 "metadata": {
  "kernelspec": {
   "display_name": "Python 3 (ipykernel)",
   "language": "python",
   "name": "python3"
  },
  "language_info": {
   "codemirror_mode": {
    "name": "ipython",
    "version": 3
   },
   "file_extension": ".py",
   "mimetype": "text/x-python",
   "name": "python",
   "nbconvert_exporter": "python",
   "pygments_lexer": "ipython3",
   "version": "3.8.12"
  }
 },
 "nbformat": 4,
 "nbformat_minor": 5
}
